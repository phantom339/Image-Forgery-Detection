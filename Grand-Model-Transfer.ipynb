{
 "cells": [
  {
   "cell_type": "code",
   "execution_count": null,
   "id": "d02b9c06-0268-4e39-956d-45304a7b8fa8",
   "metadata": {},
   "outputs": [],
   "source": [
    "import tensorflow as tf\n",
    "from tensorflow.keras.preprocessing.image import ImageDataGenerator\n",
    "import numpy as np\n",
    "import pandas as pd\n",
    "from tensorflow import keras"
   ]
  },
  {
   "cell_type": "markdown",
   "id": "bf9cdbc1-4ee4-4dab-866d-be18a9e06d13",
   "metadata": {},
   "source": [
    "VGG16 - Coco_Glide_Dataset_Trainable_true"
   ]
  },
  {
   "cell_type": "code",
   "execution_count": null,
   "id": "0ed2088e-129e-4df0-bbed-26fa8d275cb6",
   "metadata": {},
   "outputs": [],
   "source": [
    "from keras.applications.vgg16 import VGG16"
   ]
  },
  {
   "cell_type": "code",
   "execution_count": null,
   "id": "ce2f9a73-72cf-44d4-9742-2bae6b38a90c",
   "metadata": {},
   "outputs": [],
   "source": [
    "# Getting the training and validation dataset-\n",
    "\n",
    "batch_size = 32\n",
    "train_dir_coco = '/Users/pulkitkathayat/Downloads/casia2.0_train'\n",
    "\n",
    "train_datagen_coco = ImageDataGenerator(rescale=1./255, validation_split=0.2)\n",
    "\n",
    "train_generator_coco = train_datagen_coco.flow_from_directory(\n",
    "        train_dir_coco,\n",
    "        target_size=(256,256),\n",
    "        batch_size=batch_size,\n",
    "        class_mode='binary',\n",
    "        subset='training')\n",
    "\n",
    "validation_generator_coco = train_datagen_coco.flow_from_directory(\n",
    "        train_dir_coco,\n",
    "        target_size=(256,256),\n",
    "        batch_size=batch_size,\n",
    "        class_mode='binary',\n",
    "        subset='validation')"
   ]
  },
  {
   "cell_type": "code",
   "execution_count": null,
   "id": "6a3ead74-979f-4be9-a626-f2278a8c2ac6",
   "metadata": {},
   "outputs": [],
   "source": [
    "image_size_coco=(256,256,3)"
   ]
  },
  {
   "cell_type": "code",
   "execution_count": null,
   "id": "1e3bdc56-aae0-4ae8-bc8c-806570160a6b",
   "metadata": {},
   "outputs": [],
   "source": [
    "VGG_True = VGG16(\n",
    "    weights='imagenet',\n",
    "    include_top = False,\n",
    "    input_shape=image_size_coco\n",
    ")\n",
    "VGG_True.trainable= True"
   ]
  },
  {
   "cell_type": "code",
   "execution_count": null,
   "id": "3bde8f11-c703-4522-8992-3400dd60ddf4",
   "metadata": {},
   "outputs": [],
   "source": [
    "Vgg_coco = tf.keras.models.Sequential()\n",
    "\n",
    "# Convolutional Layer from VGG16 True\n",
    "Vgg_coco.add(VGG_True)\n",
    "\n",
    "# Flattening\n",
    "Vgg_coco.add(tf.keras.layers.Flatten())\n",
    "\n",
    "# Full Connection\n",
    "Vgg_coco.add(tf.keras.layers.Dense(units=128, activation='relu'))\n",
    "\n",
    "# Output Layer\n",
    "Vgg_coco.add(tf.keras.layers.Dense(units=1, activation='sigmoid'))\n",
    "\n",
    "# Compiling the CNN\n",
    "Vgg_coco.compile(optimizer='adam', loss='binary_crossentropy', metrics=['accuracy'])\n",
    "\n",
    "# Summary of the model\n",
    "Vgg_coco.summary()"
   ]
  },
  {
   "cell_type": "code",
   "execution_count": null,
   "id": "1313cecf-44c0-4f5f-967b-7b5345fb0c4a",
   "metadata": {},
   "outputs": [],
   "source": [
    "# Model VGG16 training on CocoGlide\n",
    "\n",
    "Model_Vgg_coco=Vgg_coco.fit(train_generator_coco, epochs=200, validation_data=validation_generator_coco)"
   ]
  },
  {
   "cell_type": "code",
   "execution_count": null,
   "id": "22fc56f3-ec00-46b5-acb7-7b46a6171d58",
   "metadata": {},
   "outputs": [],
   "source": [
    "Vgg_coco.save('Vgg_coco.h5')"
   ]
  },
  {
   "cell_type": "code",
   "execution_count": null,
   "id": "ae422c70-a181-4a38-b011-60b911d1bd21",
   "metadata": {},
   "outputs": [],
   "source": [
    "# Testing Code\n",
    "\n",
    "from sklearn.metrics import confusion_matrix, classification_report\n",
    "import seaborn as sns\n",
    "import matplotlib.pyplot as plt"
   ]
  },
  {
   "cell_type": "code",
   "execution_count": null,
   "id": "924532d9-0462-4d9d-91c8-ec3cf95e8af5",
   "metadata": {},
   "outputs": [],
   "source": [
    "# Ploting graph of Loss and val_loss\n",
    "\n",
    "plt.figure(figsize=(10, 6))\n",
    "plt.plot(Model_Vgg_coco.history['loss'], label='Training Loss')\n",
    "plt.plot(Model_Vgg_coco.history['val_loss'], label='Validation Loss')\n",
    "plt.xlabel('Epochs')\n",
    "plt.ylabel('Loss')\n",
    "plt.title('Training and Validation Loss')\n",
    "plt.legend()\n",
    "plt.grid(True)\n",
    "plt.show()"
   ]
  },
  {
   "cell_type": "code",
   "execution_count": null,
   "id": "4dbf6cac-b070-4823-91e7-cf315c0b3b7a",
   "metadata": {},
   "outputs": [],
   "source": [
    "# Testing Data-set importing-\n",
    "\n",
    "test_dir_coco = '/content/test_dataset'\n",
    "test_datagen_coco = ImageDataGenerator(rescale=1./255)\n",
    "\n",
    "test_generator_coco = test_datagen_coco.flow_from_directory(\n",
    "    test_dir_coco,\n",
    "    target_size=(256,256),\n",
    "    batch_size=batch_size,\n",
    "    class_mode='binary',\n",
    "    shuffle=False  \n",
    ")"
   ]
  },
  {
   "cell_type": "code",
   "execution_count": null,
   "id": "ebc2b702-4452-49ef-a4f6-e9868cffa9f9",
   "metadata": {},
   "outputs": [],
   "source": [
    "test_loss_coco_Vgg, test_accuracy_coco_Vgg = Vgg_coco.evaluate(test_generator_coco)\n",
    "print(f'Test Accuracy: {test_accuracy_coco_Vgg}')"
   ]
  },
  {
   "cell_type": "code",
   "execution_count": null,
   "id": "2744b96a-3c49-408b-92e3-1e6d6831fabc",
   "metadata": {},
   "outputs": [],
   "source": [
    "test_generator_coco.reset()\n",
    "predictions_coco = Vgg_coco.predict(test_generator_coco)\n",
    "predicted_classes = (predictions_coco > 0.5).astype(int)  \n",
    "\n",
    "true_classes = test_generator_coco.classes\n",
    "class_labels = list(test_generator_coco.class_indices.keys())\n",
    "conf_matrix = confusion_matrix(true_classes, predicted_classes)\n",
    "print(classification_report(true_classes, predicted_classes, target_names=class_labels))\n",
    "\n",
    "plt.figure(figsize=(8, 6))\n",
    "sns.heatmap(conf_matrix, annot=True, fmt='d', cmap='Blues', xticklabels=class_labels, yticklabels=class_labels)\n",
    "plt.xlabel('Predicted')\n",
    "plt.ylabel('True')\n",
    "plt.title('Confusion Matrix')\n",
    "plt.show()\n"
   ]
  },
  {
   "cell_type": "markdown",
   "id": "1bd18506-f369-4321-86d9-7b99befb617c",
   "metadata": {},
   "source": [
    "VGG16 - Coco_Glide_Dataset_Trainable_False"
   ]
  },
  {
   "cell_type": "code",
   "execution_count": null,
   "id": "23868fba-0ce7-46c6-a608-7c556e9b3e52",
   "metadata": {},
   "outputs": [],
   "source": [
    "VGG_False = VGG16(\n",
    "    weights='imagenet',\n",
    "    include_top = False,\n",
    "    input_shape=image_size_coco\n",
    ")\n",
    "VGG_False.trainable= False"
   ]
  },
  {
   "cell_type": "code",
   "execution_count": null,
   "id": "f3c54c27-17e4-4194-93aa-b3c9315d5f9d",
   "metadata": {},
   "outputs": [],
   "source": [
    "Vgg_coco_f = tf.keras.models.Sequential()\n",
    "\n",
    "# Convolutional Layer from VGG16 True\n",
    "Vgg_coco_f.add(VGG_False)\n",
    "\n",
    "# Flattening\n",
    "Vgg_coco_f.add(tf.keras.layers.Flatten())\n",
    "\n",
    "# Full Connection\n",
    "Vgg_coco_f.add(tf.keras.layers.Dense(units=128, activation='relu'))\n",
    "\n",
    "# Output Layer\n",
    "Vgg_coco_f.add(tf.keras.layers.Dense(units=1, activation='sigmoid'))\n",
    "\n",
    "# Compiling the CNN\n",
    "Vgg_coco_f.compile(optimizer='adam', loss='binary_crossentropy', metrics=['accuracy'])\n",
    "\n",
    "# Summary of the model\n",
    "Vgg_coco_f.summary()"
   ]
  },
  {
   "cell_type": "code",
   "execution_count": null,
   "id": "1bb74f27-8166-414c-b0e8-29acd9418bdc",
   "metadata": {},
   "outputs": [],
   "source": [
    "# Model VGG16 training on CocoGlide\n",
    "\n",
    "Model_Vgg_coco_f=Vgg_coco_f.fit(train_generator_coco, epochs=200, validation_data=validation_generator_coco)"
   ]
  },
  {
   "cell_type": "code",
   "execution_count": null,
   "id": "55fff2a4-0eb7-45a0-8e16-218bc4da59ab",
   "metadata": {},
   "outputs": [],
   "source": [
    "Vgg_coco_f.save('Vgg_coco_f.h5')"
   ]
  },
  {
   "cell_type": "code",
   "execution_count": null,
   "id": "7483ca96-32be-4337-8d1b-890e3704d175",
   "metadata": {},
   "outputs": [],
   "source": [
    "# Ploting graph of Loss and val_loss\n",
    "\n",
    "plt.figure(figsize=(10, 6))\n",
    "plt.plot(Model_Vgg_coco_f.history['loss'], label='Training Loss')\n",
    "plt.plot(Model_Vgg_coco_f.history['val_loss'], label='Validation Loss')\n",
    "plt.xlabel('Epochs')\n",
    "plt.ylabel('Loss')\n",
    "plt.title('Training and Validation Loss')\n",
    "plt.legend()\n",
    "plt.grid(True)\n",
    "plt.show()"
   ]
  },
  {
   "cell_type": "code",
   "execution_count": null,
   "id": "41aa1ad4-7bbd-4431-a652-be6b3d83c1fe",
   "metadata": {},
   "outputs": [],
   "source": [
    "test_loss_coco_Vgg_f, test_accuracy_coco_Vgg_f = Vgg_coco_f.evaluate(test_generator_coco)\n",
    "print(f'Test Accuracy: {test_accuracy_coco_Vgg_f}')"
   ]
  },
  {
   "cell_type": "code",
   "execution_count": null,
   "id": "4c758250-d9fb-47c9-84c8-5fdf8183a84e",
   "metadata": {},
   "outputs": [],
   "source": [
    "test_generator_coco.reset()\n",
    "predictions_coco_f = Vgg_coco_f.predict(test_generator_coco)\n",
    "predicted_classes_f = (predictions_coco_f > 0.5).astype(int)  \n",
    "\n",
    "true_classes = test_generator_coco.classes\n",
    "class_labels = list(test_generator_coco.class_indices.keys())\n",
    "conf_matrix = confusion_matrix(true_classes, predicted_classes_f)\n",
    "print(classification_report(true_classes, predicted_classes_f, target_names=class_labels))\n",
    "\n",
    "plt.figure(figsize=(8, 6))\n",
    "sns.heatmap(conf_matrix, annot=True, fmt='d', cmap='Blues', xticklabels=class_labels, yticklabels=class_labels)\n",
    "plt.xlabel('Predicted')\n",
    "plt.ylabel('True')\n",
    "plt.title('Confusion Matrix')\n",
    "plt.show()\n"
   ]
  },
  {
   "cell_type": "code",
   "execution_count": null,
   "id": "467f3bec-34b3-465f-99b0-e638c3144385",
   "metadata": {},
   "outputs": [],
   "source": [
    "print(\"VGG16 Coco-glide True/False completed\")"
   ]
  },
  {
   "cell_type": "markdown",
   "id": "05284cc9-239f-4ca5-a6db-b69973365b12",
   "metadata": {},
   "source": [
    "VGG16 - IMD2020_Dataset_Trainable_True"
   ]
  },
  {
   "cell_type": "code",
   "execution_count": null,
   "id": "8bb6b148-66f9-4ab1-8d49-e3e101917ac0",
   "metadata": {},
   "outputs": [],
   "source": [
    "# Training and validation for imd2020\n",
    "\n",
    "batch_size = 32\n",
    "train_dir_imd = '/Users/pulkitkathayat/'\n",
    "\n",
    "train_datagen_imd = ImageDataGenerator(rescale=1./255, validation_split=0.2)\n",
    "\n",
    "train_generator_imd = train_datagen_imd.flow_from_directory(\n",
    "        train_dir_imd,\n",
    "        target_size=(1024,1024),\n",
    "        batch_size=batch_size,\n",
    "        class_mode='binary',\n",
    "        subset='training')\n",
    "\n",
    "validation_generator_imd = train_datagen_imd.flow_from_directory(\n",
    "        train_dir_imd,\n",
    "        target_size=(1024,1024),\n",
    "        batch_size=batch_size,\n",
    "        class_mode='binary',\n",
    "        subset='validation')"
   ]
  },
  {
   "cell_type": "code",
   "execution_count": null,
   "id": "11034882-e0a6-43b2-85b2-d08fd94f830b",
   "metadata": {},
   "outputs": [],
   "source": [
    "image_size_imd=(1024,1024,3)"
   ]
  },
  {
   "cell_type": "code",
   "execution_count": null,
   "id": "6930305c-e7b8-482d-a7e9-988de26d6704",
   "metadata": {},
   "outputs": [],
   "source": [
    "VGG_imd_True = VGG16(\n",
    "    weights='imagenet',\n",
    "    include_top = False,\n",
    "    input_shape=image_size_imd\n",
    ")\n",
    "VGG_imd_True.trainable= True"
   ]
  },
  {
   "cell_type": "code",
   "execution_count": null,
   "id": "ec9853d4-f5d4-4799-90af-382e519b3e7a",
   "metadata": {},
   "outputs": [],
   "source": [
    "Vgg_imd = tf.keras.models.Sequential()\n",
    "\n",
    "# Convolutional Layer from VGG16 True\n",
    "Vgg_imd.add(VGG_imd_True)\n",
    "\n",
    "# Flattening\n",
    "Vgg_imd.add(tf.keras.layers.Flatten())\n",
    "\n",
    "# Full Connection\n",
    "Vgg_imd.add(tf.keras.layers.Dense(units=128, activation='relu'))\n",
    "\n",
    "# Output Layer\n",
    "Vgg_imd.add(tf.keras.layers.Dense(units=1, activation='sigmoid'))\n",
    "\n",
    "# Compiling the CNN\n",
    "Vgg_imd.compile(optimizer='adam', loss='binary_crossentropy', metrics=['accuracy'])\n",
    "\n",
    "# Summary of the model\n",
    "Vgg_imd.summary()"
   ]
  },
  {
   "cell_type": "code",
   "execution_count": null,
   "id": "35c8e4d8-6e11-4c48-af7a-59ed8fa97b14",
   "metadata": {},
   "outputs": [],
   "source": [
    "#padding ignore"
   ]
  },
  {
   "cell_type": "code",
   "execution_count": null,
   "id": "6e9e86f2-9569-4dbd-a099-ff96aaa188e5",
   "metadata": {},
   "outputs": [],
   "source": [
    "# Model VGG16 training on imd2020\n",
    "\n",
    "Model_Vgg_imd=Vgg_imd.fit(train_generator_imd, epochs=200, validation_data=validation_generator_imd)"
   ]
  },
  {
   "cell_type": "code",
   "execution_count": null,
   "id": "43145830-39a4-49df-bf49-1f40195f2cee",
   "metadata": {},
   "outputs": [],
   "source": [
    "Vgg_imd.save('Vgg_imd.h5')"
   ]
  },
  {
   "cell_type": "code",
   "execution_count": null,
   "id": "2b2446b7-8c92-414a-bc78-b8a3aae11423",
   "metadata": {},
   "outputs": [],
   "source": [
    "# Ploting graph of Loss and val_loss\n",
    "\n",
    "plt.figure(figsize=(10, 6))\n",
    "plt.plot(Model_Vgg_imd.history['loss'], label='Training Loss')\n",
    "plt.plot(Model_Vgg_imd.history['val_loss'], label='Validation Loss')\n",
    "plt.xlabel('Epochs')\n",
    "plt.ylabel('Loss')\n",
    "plt.title('Training and Validation Loss')\n",
    "plt.legend()\n",
    "plt.grid(True)\n",
    "plt.show()"
   ]
  },
  {
   "cell_type": "code",
   "execution_count": null,
   "id": "bc1ad50c-0bf2-443a-8a07-f581c4e93388",
   "metadata": {},
   "outputs": [],
   "source": [
    "# Testing Data-set importing-\n",
    "\n",
    "test_dir_imd = '/content/test_dataset'\n",
    "test_datagen_imd = ImageDataGenerator(rescale=1./255)\n",
    "\n",
    "test_generator_imd = test_datagen_imd.flow_from_directory(\n",
    "    test_dir_imd,\n",
    "    target_size=(1024,1024),\n",
    "    batch_size=batch_size,\n",
    "    class_mode='binary',\n",
    "    shuffle=False  \n",
    ")"
   ]
  },
  {
   "cell_type": "code",
   "execution_count": null,
   "id": "2085710d-42ad-4552-a021-2fa25ed170a4",
   "metadata": {},
   "outputs": [],
   "source": [
    "#padding ignore"
   ]
  },
  {
   "cell_type": "code",
   "execution_count": null,
   "id": "8c17518f-4302-4201-9f02-2baf73244d2a",
   "metadata": {},
   "outputs": [],
   "source": [
    "test_loss_imd_Vgg, test_accuracy_imd_Vgg = Vgg_imd.evaluate(test_generator_imd)\n",
    "print(f'Test Accuracy: {test_accuracy_imd_Vgg}')"
   ]
  },
  {
   "cell_type": "code",
   "execution_count": null,
   "id": "875f572e-2f64-4632-ae13-9605169711f1",
   "metadata": {},
   "outputs": [],
   "source": [
    "test_generator_imd.reset()\n",
    "predictions_imd = Vgg_imd.predict(test_generator_imd)\n",
    "predicted_classes = (predictions_imd > 0.5).astype(int)  \n",
    "\n",
    "true_classes = test_generator_imd.classes\n",
    "class_labels = list(test_generator_imd.class_indices.keys())\n",
    "conf_matrix = confusion_matrix(true_classes, predicted_classes)\n",
    "print(classification_report(true_classes, predicted_classes, target_names=class_labels))\n",
    "\n",
    "plt.figure(figsize=(8, 6))\n",
    "sns.heatmap(conf_matrix, annot=True, fmt='d', cmap='Blues', xticklabels=class_labels, yticklabels=class_labels)\n",
    "plt.xlabel('Predicted')\n",
    "plt.ylabel('True')\n",
    "plt.title('Confusion Matrix')\n",
    "plt.show()"
   ]
  },
  {
   "cell_type": "markdown",
   "id": "46fc54fe-07e9-433d-b379-95aa0feb00e1",
   "metadata": {},
   "source": [
    "VGG16 - IMD2020_Dataset_Trainable_False"
   ]
  },
  {
   "cell_type": "code",
   "execution_count": null,
   "id": "0e35597d-3d9b-440e-83fa-f9ebeeddf95c",
   "metadata": {},
   "outputs": [],
   "source": [
    "VGG_imd_False = VGG16(\n",
    "    weights='imagenet',\n",
    "    include_top = False,\n",
    "    input_shape=image_size_imd\n",
    ")\n",
    "VGG_imd_False.trainable= False"
   ]
  },
  {
   "cell_type": "code",
   "execution_count": null,
   "id": "193249d7-1b7c-44cc-abb1-bf5026388223",
   "metadata": {},
   "outputs": [],
   "source": [
    "Vgg_imd_f = tf.keras.models.Sequential()\n",
    "\n",
    "# Convolutional Layer from VGG16 True\n",
    "Vgg_imd_f.add(VGG_imd_False)\n",
    "\n",
    "# Flattening\n",
    "Vgg_imd_f.add(tf.keras.layers.Flatten())\n",
    "\n",
    "# Full Connection\n",
    "Vgg_imd_f.add(tf.keras.layers.Dense(units=128, activation='relu'))\n",
    "\n",
    "# Output Layer\n",
    "Vgg_imd_f.add(tf.keras.layers.Dense(units=1, activation='sigmoid'))\n",
    "\n",
    "# Compiling the CNN\n",
    "Vgg_imd_f.compile(optimizer='adam', loss='binary_crossentropy', metrics=['accuracy'])\n",
    "\n",
    "# Summary of the model\n",
    "Vgg_imd_f.summary()"
   ]
  },
  {
   "cell_type": "code",
   "execution_count": null,
   "id": "184f838e-ce25-45b8-ada0-1f7e5ef54f95",
   "metadata": {},
   "outputs": [],
   "source": [
    "#padding ignore"
   ]
  },
  {
   "cell_type": "code",
   "execution_count": null,
   "id": "a30f7210-068e-46cb-abe5-182b9159611c",
   "metadata": {},
   "outputs": [],
   "source": [
    "# Model VGG16 training on imd2020\n",
    "\n",
    "Model_Vgg_imd_f=Vgg_imd_f.fit(train_generator_imd, epochs=200, validation_data=validation_generator_imd)"
   ]
  },
  {
   "cell_type": "code",
   "execution_count": null,
   "id": "0abebc29-fb87-4e29-8b14-233b076abab7",
   "metadata": {},
   "outputs": [],
   "source": [
    "Vgg_imd_f.save('Vgg_imd_f.h5')"
   ]
  },
  {
   "cell_type": "code",
   "execution_count": null,
   "id": "9d388124-4550-4635-b429-82bf3f3b74ac",
   "metadata": {},
   "outputs": [],
   "source": [
    "# Ploting graph of Loss and val_loss\n",
    "\n",
    "plt.figure(figsize=(10, 6))\n",
    "plt.plot(Model_Vgg_imd_f.history['loss'], label='Training Loss')\n",
    "plt.plot(Model_Vgg_imd_f.history['val_loss'], label='Validation Loss')\n",
    "plt.xlabel('Epochs')\n",
    "plt.ylabel('Loss')\n",
    "plt.title('Training and Validation Loss')\n",
    "plt.legend()\n",
    "plt.grid(True)\n",
    "plt.show()"
   ]
  },
  {
   "cell_type": "code",
   "execution_count": null,
   "id": "d4385b2a-e808-493c-be45-dba74fbda6dc",
   "metadata": {},
   "outputs": [],
   "source": [
    "test_loss_imd_Vgg_f, test_accuracy_imd_Vgg_f = Vgg_imd_f.evaluate(test_generator_imd)\n",
    "print(f'Test Accuracy: {test_accuracy_imd_Vgg_f}')"
   ]
  },
  {
   "cell_type": "code",
   "execution_count": null,
   "id": "7f507552-c4c6-41bf-873f-ac57723a1dee",
   "metadata": {},
   "outputs": [],
   "source": [
    "test_generator_imd.reset()\n",
    "predictions_imd_f = Vgg_imd_f.predict(test_generator_imd)\n",
    "predicted_classes_f = (predictions_imd_f > 0.5).astype(int)  \n",
    "\n",
    "true_classes = test_generator_imd.classes\n",
    "class_labels = list(test_generator_imd.class_indices.keys())\n",
    "conf_matrix = confusion_matrix(true_classes, predicted_classes_f)\n",
    "print(classification_report(true_classes, predicted_classes_f, target_names=class_labels))\n",
    "\n",
    "plt.figure(figsize=(8, 6))\n",
    "sns.heatmap(conf_matrix, annot=True, fmt='d', cmap='Blues', xticklabels=class_labels, yticklabels=class_labels)\n",
    "plt.xlabel('Predicted')\n",
    "plt.ylabel('True')\n",
    "plt.title('Confusion Matrix')\n",
    "plt.show()"
   ]
  },
  {
   "cell_type": "code",
   "execution_count": null,
   "id": "43588260-a4f9-48dc-b6e0-47d3a5adf23e",
   "metadata": {},
   "outputs": [],
   "source": [
    "print(\"Vgg16 Imd2020 True/False Completed\")"
   ]
  },
  {
   "cell_type": "markdown",
   "id": "95f0f91f-4192-48b8-9152-cbaf022a2ce7",
   "metadata": {},
   "source": [
    "VGG16 - MISD_Dataset_Trainable_True"
   ]
  },
  {
   "cell_type": "code",
   "execution_count": null,
   "id": "b8daa706-670d-4b29-884e-a7e1fe4e1ec8",
   "metadata": {},
   "outputs": [],
   "source": [
    "# Training and validation for MISD\n",
    "\n",
    "batch_size = 32\n",
    "train_dir_misd = '/Users/pulkitkathayat/'\n",
    "\n",
    "train_datagen_misd = ImageDataGenerator(rescale=1./255, validation_split=0.2)\n",
    "\n",
    "train_generator_misd = train_datagen_misd.flow_from_directory(\n",
    "        train_dir_misd,\n",
    "        target_size=(384,384),\n",
    "        batch_size=batch_size,\n",
    "        class_mode='binary',\n",
    "        subset='training')\n",
    "\n",
    "validation_generator_misd = train_datagen_misd.flow_from_directory(\n",
    "        train_dir_misd,\n",
    "        target_size=(384,384),\n",
    "        batch_size=batch_size,\n",
    "        class_mode='binary',\n",
    "        subset='validation')"
   ]
  },
  {
   "cell_type": "code",
   "execution_count": null,
   "id": "71eb282a-17dd-4c8c-be14-20eced65ef89",
   "metadata": {},
   "outputs": [],
   "source": [
    "image_size_misd=(384,384,3)"
   ]
  },
  {
   "cell_type": "code",
   "execution_count": null,
   "id": "e4635c30-77bc-4e99-9b74-e044dc14706d",
   "metadata": {},
   "outputs": [],
   "source": [
    "VGG_misd_True = VGG16(\n",
    "    weights='imagenet',\n",
    "    include_top = False,\n",
    "    input_shape=image_size_misd\n",
    ")\n",
    "VGG_misd_True.trainable= True"
   ]
  },
  {
   "cell_type": "code",
   "execution_count": null,
   "id": "41ea7203-8131-442a-bc30-7ad47aae674d",
   "metadata": {},
   "outputs": [],
   "source": [
    "Vgg_misd = tf.keras.models.Sequential()\n",
    "\n",
    "# Convolutional Layer from VGG16 True\n",
    "Vgg_misd.add(VGG_misd_True)\n",
    "\n",
    "# Flattening\n",
    "Vgg_misd.add(tf.keras.layers.Flatten())\n",
    "\n",
    "# Full Connection\n",
    "Vgg_misd.add(tf.keras.layers.Dense(units=128, activation='relu'))\n",
    "\n",
    "# Output Layer\n",
    "Vgg_misd.add(tf.keras.layers.Dense(units=1, activation='sigmoid'))\n",
    "\n",
    "# Compiling the CNN\n",
    "Vgg_misd.compile(optimizer='adam', loss='binary_crossentropy', metrics=['accuracy'])\n",
    "\n",
    "# Summary of the model\n",
    "Vgg_misd.summary()"
   ]
  },
  {
   "cell_type": "code",
   "execution_count": null,
   "id": "eb685604-71be-4c2a-85a7-70e6c0e89a08",
   "metadata": {},
   "outputs": [],
   "source": [
    "# Model VGG16 training on imd2020\n",
    "\n",
    "Model_Vgg_misd=Vgg_misd.fit(train_generator_misd, epochs=200, validation_data=validation_generator_misd)"
   ]
  },
  {
   "cell_type": "code",
   "execution_count": null,
   "id": "5788b28c-6d3f-4c63-95c7-0a6eed35152c",
   "metadata": {},
   "outputs": [],
   "source": [
    "Vgg_misd.save('Vgg_misd.h5')"
   ]
  },
  {
   "cell_type": "code",
   "execution_count": null,
   "id": "1533232c-584b-4769-85d5-87dca77efd50",
   "metadata": {},
   "outputs": [],
   "source": [
    "# Ploting graph of Loss and val_loss\n",
    "\n",
    "plt.figure(figsize=(10, 6))\n",
    "plt.plot(Model_Vgg_misd.history['loss'], label='Training Loss')\n",
    "plt.plot(Model_Vgg_misd.history['val_loss'], label='Validation Loss')\n",
    "plt.xlabel('Epochs')\n",
    "plt.ylabel('Loss')\n",
    "plt.title('Training and Validation Loss')\n",
    "plt.legend()\n",
    "plt.grid(True)\n",
    "plt.show()"
   ]
  },
  {
   "cell_type": "code",
   "execution_count": null,
   "id": "56b366a7-bffb-4fd3-838d-477bbd53c7c0",
   "metadata": {},
   "outputs": [],
   "source": [
    "# Testing Data-set importing-\n",
    "\n",
    "test_dir_misd = '/content/test_dataset'\n",
    "test_datagen_misd = ImageDataGenerator(rescale=1./255)\n",
    "\n",
    "test_generator_misd = test_datagen_misd.flow_from_directory(\n",
    "    test_dir_misd,\n",
    "    target_size=(384, 384),\n",
    "    batch_size=batch_size,\n",
    "    class_mode='binary',\n",
    "    shuffle=False  \n",
    ")"
   ]
  },
  {
   "cell_type": "code",
   "execution_count": null,
   "id": "84357a0f-e2c6-4264-a671-1c327d6989e0",
   "metadata": {},
   "outputs": [],
   "source": [
    "test_loss_misd_Vgg, test_accuracy_misd_Vgg = Vgg_misd.evaluate(test_generator_misd)\n",
    "print(f'Test Accuracy: {test_accuracy_misd_Vgg}')"
   ]
  },
  {
   "cell_type": "code",
   "execution_count": null,
   "id": "f0c3ad0a-345f-4122-856e-f1409a9442a9",
   "metadata": {},
   "outputs": [],
   "source": [
    "test_generator_misd.reset()\n",
    "predictions_misd = Vgg_misd.predict(test_generator_misd)\n",
    "predicted_classes = (predictions_misd > 0.5).astype(int)  \n",
    "\n",
    "true_classes = test_generator_misd.classes\n",
    "class_labels = list(test_generator_misd.class_indices.keys())\n",
    "conf_matrix = confusion_matrix(true_classes, predicted_classes)\n",
    "print(classification_report(true_classes, predicted_classes, target_names=class_labels))\n",
    "\n",
    "plt.figure(figsize=(8, 6))\n",
    "sns.heatmap(conf_matrix, annot=True, fmt='d', cmap='Blues', xticklabels=class_labels, yticklabels=class_labels)\n",
    "plt.xlabel('Predicted')\n",
    "plt.ylabel('True')\n",
    "plt.title('Confusion Matrix')\n",
    "plt.show()"
   ]
  },
  {
   "cell_type": "markdown",
   "id": "c250c2f4-5fc0-44dd-8bed-b3377d45f2f6",
   "metadata": {},
   "source": [
    "VGG16 - MISD_Dataset_Trainable_False"
   ]
  },
  {
   "cell_type": "code",
   "execution_count": null,
   "id": "215bad0a-03f1-4ed2-9f88-932e4d12204d",
   "metadata": {},
   "outputs": [],
   "source": [
    "VGG_misd_False = VGG16(\n",
    "    weights='imagenet',\n",
    "    include_top = False,\n",
    "    input_shape=image_size_misd\n",
    ")\n",
    "VGG_misd_False.trainable= False"
   ]
  },
  {
   "cell_type": "code",
   "execution_count": null,
   "id": "76309eca-d6e2-46ee-8b1d-b4b8a580c836",
   "metadata": {},
   "outputs": [],
   "source": [
    "Vgg_misd_f = tf.keras.models.Sequential()\n",
    "\n",
    "# Convolutional Layer from VGG16 True\n",
    "Vgg_misd_f.add(VGG_misd_False)\n",
    "\n",
    "# Flattening\n",
    "Vgg_misd_f.add(tf.keras.layers.Flatten())\n",
    "\n",
    "# Full Connection\n",
    "Vgg_misd_f.add(tf.keras.layers.Dense(units=128, activation='relu'))\n",
    "\n",
    "# Output Layer\n",
    "Vgg_misd_f.add(tf.keras.layers.Dense(units=1, activation='sigmoid'))\n",
    "\n",
    "# Compiling the CNN\n",
    "Vgg_misd_f.compile(optimizer='adam', loss='binary_crossentropy', metrics=['accuracy'])\n",
    "\n",
    "# Summary of the model\n",
    "Vgg_misd_f.summary()"
   ]
  },
  {
   "cell_type": "code",
   "execution_count": null,
   "id": "57ba1509-fa6a-47a0-8b53-f92c9b2ea184",
   "metadata": {},
   "outputs": [],
   "source": [
    "# Model VGG16 training on MISD\n",
    "\n",
    "Model_Vgg_misd_f=Vgg_misd_f.fit(train_generator_misd, epochs=200, validation_data=validation_generator_misd)"
   ]
  },
  {
   "cell_type": "code",
   "execution_count": null,
   "id": "d2ee8e44-3396-4b82-a622-239e3b6d94a2",
   "metadata": {},
   "outputs": [],
   "source": [
    "Vgg_misd_f.save('Vgg_misd_f.h5')"
   ]
  },
  {
   "cell_type": "code",
   "execution_count": null,
   "id": "35e34585-0091-4778-ab13-ede9b054ac36",
   "metadata": {},
   "outputs": [],
   "source": [
    "# Ploting graph of Loss and val_loss\n",
    "\n",
    "plt.figure(figsize=(10, 6))\n",
    "plt.plot(Model_Vgg_misd_f.history['loss'], label='Training Loss')\n",
    "plt.plot(Model_Vgg_misd_f.history['val_loss'], label='Validation Loss')\n",
    "plt.xlabel('Epochs')\n",
    "plt.ylabel('Loss')\n",
    "plt.title('Training and Validation Loss')\n",
    "plt.legend()\n",
    "plt.grid(True)\n",
    "plt.show()"
   ]
  },
  {
   "cell_type": "code",
   "execution_count": null,
   "id": "6d43b147-6a95-4761-8294-d89e9ab44546",
   "metadata": {},
   "outputs": [],
   "source": [
    "test_loss_misd_Vgg_f, test_accuracy_misd_Vgg_f = Vgg_misd_f.evaluate(test_generator_misd)\n",
    "print(f'Test Accuracy: {test_accuracy_misd_Vgg_f}')"
   ]
  },
  {
   "cell_type": "code",
   "execution_count": null,
   "id": "45bfd506-8959-47ee-880b-ee64e9e22162",
   "metadata": {},
   "outputs": [],
   "source": [
    "test_generator_misd.reset()\n",
    "predictions_misd_f = Vgg_misd_f.predict(test_generator_misd)\n",
    "predicted_classes_f = (predictions_misd_f > 0.5).astype(int)  \n",
    "\n",
    "true_classes = test_generator_misd.classes\n",
    "class_labels = list(test_generator_misd.class_indices.keys())\n",
    "conf_matrix = confusion_matrix(true_classes, predicted_classes_f)\n",
    "print(classification_report(true_classes, predicted_classes_f, target_names=class_labels))\n",
    "\n",
    "plt.figure(figsize=(8, 6))\n",
    "sns.heatmap(conf_matrix, annot=True, fmt='d', cmap='Blues', xticklabels=class_labels, yticklabels=class_labels)\n",
    "plt.xlabel('Predicted')\n",
    "plt.ylabel('True')\n",
    "plt.title('Confusion Matrix')\n",
    "plt.show()"
   ]
  },
  {
   "cell_type": "code",
   "execution_count": null,
   "id": "0cd5f97d-4249-4b43-ad70-9f96aec9597a",
   "metadata": {},
   "outputs": [],
   "source": [
    "print(\"VGG16 MISD True/False completed\")"
   ]
  },
  {
   "cell_type": "markdown",
   "id": "61bbd14c-8e4f-4a39-8bca-8a1347b1b151",
   "metadata": {},
   "source": [
    "VGG16 - ComoFod_small_Dataset_Trainable_True"
   ]
  },
  {
   "cell_type": "code",
   "execution_count": null,
   "id": "443fd702-060e-4f5d-bc94-7f103932354e",
   "metadata": {},
   "outputs": [],
   "source": [
    "# Training and validation for imd2020\n",
    "\n",
    "batch_size = 32\n",
    "train_dir_como = '/Users/pulkitkathayat/'\n",
    "\n",
    "train_datagen_como = ImageDataGenerator(rescale=1./255, validation_split=0.2)\n",
    "\n",
    "train_generator_como = train_datagen_como.flow_from_directory(\n",
    "        train_dir_como,\n",
    "        target_size=(512,512),\n",
    "        batch_size=batch_size,\n",
    "        class_mode='binary',\n",
    "        subset='training')\n",
    "\n",
    "validation_generator_como = train_datagen_como.flow_from_directory(\n",
    "        train_dir_como,\n",
    "        target_size=(512,512),\n",
    "        batch_size=batch_size,\n",
    "        class_mode='binary',\n",
    "        subset='validation')"
   ]
  },
  {
   "cell_type": "code",
   "execution_count": null,
   "id": "29f2852d-b426-460c-83aa-35dcb6764673",
   "metadata": {},
   "outputs": [],
   "source": [
    "image_size_como=(512,512,3)"
   ]
  },
  {
   "cell_type": "code",
   "execution_count": null,
   "id": "55fe80ea-a0fa-44ca-a923-7b8106b8f7a0",
   "metadata": {},
   "outputs": [],
   "source": [
    "VGG_como_True = VGG16(\n",
    "    weights='imagenet',\n",
    "    include_top = False,\n",
    "    input_shape=image_size_como\n",
    ")\n",
    "VGG_como_True.trainable= True"
   ]
  },
  {
   "cell_type": "code",
   "execution_count": null,
   "id": "9e81b77d-90d6-49dc-a311-7d37cdedd3b1",
   "metadata": {},
   "outputs": [],
   "source": [
    "Vgg_como = tf.keras.models.Sequential()\n",
    "\n",
    "# Convolutional Layer from VGG16 True\n",
    "Vgg_como.add(VGG_como_True)\n",
    "\n",
    "# Flattening\n",
    "Vgg_como.add(tf.keras.layers.Flatten())\n",
    "\n",
    "# Full Connection\n",
    "Vgg_como.add(tf.keras.layers.Dense(units=128, activation='relu'))\n",
    "\n",
    "# Output Layer\n",
    "Vgg_como.add(tf.keras.layers.Dense(units=1, activation='sigmoid'))\n",
    "\n",
    "# Compiling the CNN\n",
    "Vgg_como.compile(optimizer='adam', loss='binary_crossentropy', metrics=['accuracy'])\n",
    "\n",
    "# Summary of the model\n",
    "Vgg_como.summary()"
   ]
  },
  {
   "cell_type": "code",
   "execution_count": null,
   "id": "f75c7c32-1fe3-481e-a072-1e966b1186fc",
   "metadata": {},
   "outputs": [],
   "source": [
    "# Model VGG16 training on imd2020\n",
    "\n",
    "Model_Vgg_como=Vgg_como.fit(train_generator_como, epochs=200, validation_data=validation_generator_como)"
   ]
  },
  {
   "cell_type": "code",
   "execution_count": null,
   "id": "8cdacd9a-c3a9-4f80-9bb7-a45ff6ab2115",
   "metadata": {},
   "outputs": [],
   "source": [
    "Vgg_como.save('Vgg_como.h5')"
   ]
  },
  {
   "cell_type": "code",
   "execution_count": null,
   "id": "5c505ca2-2dd7-42ef-96a2-d86d203f7e72",
   "metadata": {},
   "outputs": [],
   "source": [
    "# Ploting graph of Loss and val_loss\n",
    "\n",
    "plt.figure(figsize=(10, 6))\n",
    "plt.plot(Model_Vgg_como.history['loss'], label='Training Loss')\n",
    "plt.plot(Model_Vgg_como.history['val_loss'], label='Validation Loss')\n",
    "plt.xlabel('Epochs')\n",
    "plt.ylabel('Loss')\n",
    "plt.title('Training and Validation Loss')\n",
    "plt.legend()\n",
    "plt.grid(True)\n",
    "plt.show()"
   ]
  },
  {
   "cell_type": "code",
   "execution_count": null,
   "id": "6e3d7688-fab7-4957-b513-ee3b2664bca6",
   "metadata": {},
   "outputs": [],
   "source": [
    "# Testing Data-set importing-\n",
    "\n",
    "test_dir_como = '/content/test_dataset'\n",
    "test_datagen_como = ImageDataGenerator(rescale=1./255)\n",
    "\n",
    "test_generator_como = test_datagen_como.flow_from_directory(\n",
    "    test_dir_como,\n",
    "    target_size=(512,512),\n",
    "    batch_size=batch_size,\n",
    "    class_mode='binary',\n",
    "    shuffle=False  \n",
    ")"
   ]
  },
  {
   "cell_type": "code",
   "execution_count": null,
   "id": "c8e593e5-927e-4843-bfb6-91a9b64509c9",
   "metadata": {},
   "outputs": [],
   "source": [
    "test_loss_como_Vgg, test_accuracy_como_Vgg = Vgg_como.evaluate(test_generator_como)\n",
    "print(f'Test Accuracy: {test_accuracy_como_Vgg}')"
   ]
  },
  {
   "cell_type": "code",
   "execution_count": null,
   "id": "f0760aa6-71c1-4613-9f65-d7bb89bcdb41",
   "metadata": {},
   "outputs": [],
   "source": [
    "test_generator_como.reset()\n",
    "predictions_como = Vgg_como.predict(test_generator_como)\n",
    "predicted_classes = (predictions_como > 0.5).astype(int)  \n",
    "\n",
    "true_classes = test_generator_como.classes\n",
    "class_labels = list(test_generator_como.class_indices.keys())\n",
    "conf_matrix = confusion_matrix(true_classes, predicted_classes)\n",
    "print(classification_report(true_classes, predicted_classes, target_names=class_labels))\n",
    "\n",
    "plt.figure(figsize=(8, 6))\n",
    "sns.heatmap(conf_matrix, annot=True, fmt='d', cmap='Blues', xticklabels=class_labels, yticklabels=class_labels)\n",
    "plt.xlabel('Predicted')\n",
    "plt.ylabel('True')\n",
    "plt.title('Confusion Matrix')\n",
    "plt.show()"
   ]
  },
  {
   "cell_type": "markdown",
   "id": "104816e6-c83e-4f6c-8a54-d8271c7dedd4",
   "metadata": {},
   "source": [
    "VGG16 - ComoFod_small_Dataset_Trainable_False"
   ]
  },
  {
   "cell_type": "code",
   "execution_count": null,
   "id": "b0805852-3339-465c-9717-9d8db9f091d4",
   "metadata": {},
   "outputs": [],
   "source": [
    "VGG_como_False = VGG16(\n",
    "    weights='imagenet',\n",
    "    include_top = False,\n",
    "    input_shape=image_size_como\n",
    ")\n",
    "VGG_como_False.trainable= False"
   ]
  },
  {
   "cell_type": "code",
   "execution_count": null,
   "id": "dfadd54a-6471-420b-a306-a6be9865201c",
   "metadata": {},
   "outputs": [],
   "source": [
    "Vgg_como_f = tf.keras.models.Sequential()\n",
    "\n",
    "# Convolutional Layer from VGG16 True\n",
    "Vgg_como_f.add(VGG_como_False)\n",
    "\n",
    "# Flattening\n",
    "Vgg_como_f.add(tf.keras.layers.Flatten())\n",
    "\n",
    "# Full Connection\n",
    "Vgg_como_f.add(tf.keras.layers.Dense(units=128, activation='relu'))\n",
    "\n",
    "# Output Layer\n",
    "Vgg_como_f.add(tf.keras.layers.Dense(units=1, activation='sigmoid'))\n",
    "\n",
    "# Compiling the CNN\n",
    "Vgg_como_f.compile(optimizer='adam', loss='binary_crossentropy', metrics=['accuracy'])\n",
    "\n",
    "# Summary of the model\n",
    "Vgg_como_f.summary()"
   ]
  },
  {
   "cell_type": "code",
   "execution_count": null,
   "id": "e45c6c8a-bfcc-430e-aaf4-b5b02cffa4ff",
   "metadata": {},
   "outputs": [],
   "source": [
    "# Model VGG16 training on comofod\n",
    "\n",
    "Model_Vgg_como_f=Vgg_como_f.fit(train_generator_como, epochs=200, validation_data=validation_generator_como)"
   ]
  },
  {
   "cell_type": "code",
   "execution_count": null,
   "id": "0ddfdf77-b409-441e-905c-5e8d55b7eb7a",
   "metadata": {},
   "outputs": [],
   "source": [
    "Vgg_como_f.save('Vgg_como_f.h5')"
   ]
  },
  {
   "cell_type": "code",
   "execution_count": null,
   "id": "480891d3-8efa-4ea4-8422-18a46f46f6ba",
   "metadata": {},
   "outputs": [],
   "source": [
    "# Ploting graph of Loss and val_loss\n",
    "\n",
    "plt.figure(figsize=(10, 6))\n",
    "plt.plot(Model_Vgg_como_f.history['loss'], label='Training Loss')\n",
    "plt.plot(Model_Vgg_como_f.history['val_loss'], label='Validation Loss')\n",
    "plt.xlabel('Epochs')\n",
    "plt.ylabel('Loss')\n",
    "plt.title('Training and Validation Loss')\n",
    "plt.legend()\n",
    "plt.grid(True)\n",
    "plt.show()"
   ]
  },
  {
   "cell_type": "code",
   "execution_count": null,
   "id": "b6c55093-97cf-4433-8eee-2a0bd80e2aaa",
   "metadata": {},
   "outputs": [],
   "source": [
    "test_loss_como_Vgg_f, test_accuracy_como_Vgg_f = Vgg_como_f.evaluate(test_generator_como)\n",
    "print(f'Test Accuracy: {test_accuracy_como_Vgg_f}')"
   ]
  },
  {
   "cell_type": "code",
   "execution_count": null,
   "id": "ae742479-7000-4296-9312-445bf4288d06",
   "metadata": {},
   "outputs": [],
   "source": [
    "test_generator_como.reset()\n",
    "predictions_como_f = Vgg_como_f.predict(test_generator_como)\n",
    "predicted_classes_f = (predictions_como_f > 0.5).astype(int)  \n",
    "\n",
    "true_classes = test_generator_como.classes\n",
    "class_labels = list(test_generator_como.class_indices.keys())\n",
    "conf_matrix = confusion_matrix(true_classes, predicted_classes_f)\n",
    "print(classification_report(true_classes, predicted_classes_f, target_names=class_labels))\n",
    "\n",
    "plt.figure(figsize=(8, 6))\n",
    "sns.heatmap(conf_matrix, annot=True, fmt='d', cmap='Blues', xticklabels=class_labels, yticklabels=class_labels)\n",
    "plt.xlabel('Predicted')\n",
    "plt.ylabel('True')\n",
    "plt.title('Confusion Matrix')\n",
    "plt.show()"
   ]
  },
  {
   "cell_type": "code",
   "execution_count": null,
   "id": "ace16f19-9817-4fcf-9304-cf4ff6230681",
   "metadata": {},
   "outputs": [],
   "source": [
    "print(\"VGG16 Comofod True/False completed\")"
   ]
  },
  {
   "cell_type": "markdown",
   "id": "d4f2e5e4-1cb2-4b81-92cb-a4fd56f033d3",
   "metadata": {},
   "source": [
    "VGG16 - Realistic tempering_Dataset_Trainable_True "
   ]
  },
  {
   "cell_type": "code",
   "execution_count": null,
   "id": "0d1ec104-fc3c-4dcd-823e-c01d19a624b4",
   "metadata": {},
   "outputs": [],
   "source": [
    "# Training and validation for imd2020\n",
    "\n",
    "batch_size = 32\n",
    "train_dir_rt = '/Users/pulkitkathayat/'\n",
    "\n",
    "train_datagen_rt = ImageDataGenerator(rescale=1./255, validation_split=0.2)\n",
    "\n",
    "train_generator_rt = train_datagen_rt.flow_from_directory(\n",
    "        train_dir_rt,\n",
    "        target_size=(2048,2048),\n",
    "        batch_size=batch_size,\n",
    "        class_mode='binary',\n",
    "        subset='training')\n",
    "\n",
    "validation_generator_rt = train_datagen_rt.flow_from_directory(\n",
    "        train_dir_rt,\n",
    "        target_size=(2048,2048),\n",
    "        batch_size=batch_size,\n",
    "        class_mode='binary',\n",
    "        subset='validation')"
   ]
  },
  {
   "cell_type": "code",
   "execution_count": null,
   "id": "266da40a-c563-4016-9456-40f395c31b1f",
   "metadata": {},
   "outputs": [],
   "source": [
    "image_size_rt=(2048,2048,3)"
   ]
  },
  {
   "cell_type": "code",
   "execution_count": null,
   "id": "e4cb67bb-54ed-4f20-a6a6-9ca42e87aa79",
   "metadata": {},
   "outputs": [],
   "source": [
    "VGG_rt_True = VGG16(\n",
    "    weights='imagenet',\n",
    "    include_top = False,\n",
    "    input_shape=image_size_rt\n",
    ")\n",
    "VGG_rt_True.trainable= True"
   ]
  },
  {
   "cell_type": "code",
   "execution_count": null,
   "id": "7be8281e-b7ef-4758-9341-8ecadb7e9f27",
   "metadata": {},
   "outputs": [],
   "source": [
    "Vgg_rt = tf.keras.models.Sequential()\n",
    "\n",
    "# Convolutional Layer from VGG16 True\n",
    "Vgg_rt.add(VGG_rt_True)\n",
    "\n",
    "# Flattening\n",
    "Vgg_rt.add(tf.keras.layers.Flatten())\n",
    "\n",
    "# Full Connection\n",
    "Vgg_rt.add(tf.keras.layers.Dense(units=128, activation='relu'))\n",
    "\n",
    "# Output Layer\n",
    "Vgg_rt.add(tf.keras.layers.Dense(units=1, activation='sigmoid'))\n",
    "\n",
    "# Compiling the CNN\n",
    "Vgg_rt.compile(optimizer='adam', loss='binary_crossentropy', metrics=['accuracy'])\n",
    "\n",
    "# Summary of the model\n",
    "Vgg_rt.summary()"
   ]
  },
  {
   "cell_type": "code",
   "execution_count": null,
   "id": "bd5ff7ed-b82a-4a1f-b3c1-470f951659a4",
   "metadata": {},
   "outputs": [],
   "source": [
    "# Model VGG16 training on realistic tempering\n",
    "\n",
    "Model_Vgg_rt=Vgg_rt.fit(train_generator_rt, epochs=200, validation_data=validation_generator_rt)"
   ]
  },
  {
   "cell_type": "code",
   "execution_count": null,
   "id": "52aa9441-ff68-4765-8119-28cb42ac0567",
   "metadata": {},
   "outputs": [],
   "source": [
    "Vgg_rt.save('Vgg_rt.h5')"
   ]
  },
  {
   "cell_type": "code",
   "execution_count": null,
   "id": "687e595c-e754-422d-a950-2db213fb7610",
   "metadata": {},
   "outputs": [],
   "source": [
    "# Ploting graph of Loss and val_loss\n",
    "\n",
    "plt.figure(figsize=(10, 6))\n",
    "plt.plot(Model_Vgg_rt.history['loss'], label='Training Loss')\n",
    "plt.plot(Model_Vgg_rt.history['val_loss'], label='Validation Loss')\n",
    "plt.xlabel('Epochs')\n",
    "plt.ylabel('Loss')\n",
    "plt.title('Training and Validation Loss')\n",
    "plt.legend()\n",
    "plt.grid(True)\n",
    "plt.show()"
   ]
  },
  {
   "cell_type": "code",
   "execution_count": null,
   "id": "ad9ae0f4-6b85-42ca-862d-5904ba69da26",
   "metadata": {},
   "outputs": [],
   "source": [
    "# Testing Data-set importing-\n",
    "\n",
    "test_dir_rt = '/content/test_dataset'\n",
    "test_datagen_rt = ImageDataGenerator(rescale=1./255)\n",
    "\n",
    "test_generator_rt = test_datagen_rt.flow_from_directory(\n",
    "    test_dir_rt,\n",
    "    target_size=(2048, 2048),\n",
    "    batch_size=batch_size,\n",
    "    class_mode='binary',\n",
    "    shuffle=False  \n",
    ")"
   ]
  },
  {
   "cell_type": "code",
   "execution_count": null,
   "id": "7206d485-236c-4030-ae30-b4780081d961",
   "metadata": {},
   "outputs": [],
   "source": [
    "test_loss_rt_Vgg, test_accuracy_rt_Vgg = Vgg_rt.evaluate(test_generator_rt)\n",
    "print(f'Test Accuracy: {test_accuracy_rt_Vgg}')"
   ]
  },
  {
   "cell_type": "code",
   "execution_count": null,
   "id": "41a7551a-f740-498f-8a90-cafc1b5e8d05",
   "metadata": {},
   "outputs": [],
   "source": [
    "test_generator_rt.reset()\n",
    "predictions_rt = Vgg_rt.predict(test_generator_rt)\n",
    "predicted_classes = (predictions_rt > 0.5).astype(int)  \n",
    "\n",
    "true_classes = test_generator_rt.classes\n",
    "class_labels = list(test_generator_rt.class_indices.keys())\n",
    "conf_matrix = confusion_matrix(true_classes, predicted_classes)\n",
    "print(classification_report(true_classes, predicted_classes, target_names=class_labels))\n",
    "\n",
    "plt.figure(figsize=(8, 6))\n",
    "sns.heatmap(conf_matrix, annot=True, fmt='d', cmap='Blues', xticklabels=class_labels, yticklabels=class_labels)\n",
    "plt.xlabel('Predicted')\n",
    "plt.ylabel('True')\n",
    "plt.title('Confusion Matrix')\n",
    "plt.show()"
   ]
  },
  {
   "cell_type": "markdown",
   "id": "eab81e76-1b92-4972-b78c-30c82e8ed01d",
   "metadata": {},
   "source": [
    "VGG16 - Realistic_tempering_Dataset_Trainable_False"
   ]
  },
  {
   "cell_type": "code",
   "execution_count": null,
   "id": "f4f92b1d-8059-4732-8c13-65d1f82cabed",
   "metadata": {},
   "outputs": [],
   "source": [
    "VGG_rt_False = VGG16(\n",
    "    weights='imagenet',\n",
    "    include_top = False,\n",
    "    input_shape=image_size_rt\n",
    ")\n",
    "VGG_rt_False.trainable= False"
   ]
  },
  {
   "cell_type": "code",
   "execution_count": null,
   "id": "f3148745-a940-4f66-a6df-6d9ceb18d5dc",
   "metadata": {},
   "outputs": [],
   "source": [
    "Vgg_rt_f = tf.keras.models.Sequential()\n",
    "\n",
    "# Convolutional Layer from VGG16 True\n",
    "Vgg_rt_f.add(VGG_rt_False)\n",
    "\n",
    "# Flattening\n",
    "Vgg_rt_f.add(tf.keras.layers.Flatten())\n",
    "\n",
    "# Full Connection\n",
    "Vgg_rt_f.add(tf.keras.layers.Dense(units=128, activation='relu'))\n",
    "\n",
    "# Output Layer\n",
    "Vgg_rt_f.add(tf.keras.layers.Dense(units=1, activation='sigmoid'))\n",
    "\n",
    "# Compiling the CNN\n",
    "Vgg_rt_f.compile(optimizer='adam', loss='binary_crossentropy', metrics=['accuracy'])\n",
    "\n",
    "# Summary of the model\n",
    "Vgg_rt_f.summary()"
   ]
  },
  {
   "cell_type": "code",
   "execution_count": null,
   "id": "afc84153-9c59-4a8c-b839-a9e21cff238b",
   "metadata": {},
   "outputs": [],
   "source": [
    "# Model VGG16 training on Realistic tempering \n",
    "\n",
    "Model_Vgg_rt_f=Vgg_rt_f.fit(train_generator_rt, epochs=200, validation_data=validation_generator_rt)"
   ]
  },
  {
   "cell_type": "code",
   "execution_count": null,
   "id": "515fac00-2767-44a9-b0c4-dc940fb53e36",
   "metadata": {},
   "outputs": [],
   "source": [
    "Vgg_rt_f.save('Vgg_rt_f.h5')"
   ]
  },
  {
   "cell_type": "code",
   "execution_count": null,
   "id": "66b79fb6-dbe2-4fc0-a63c-2af0048aae3c",
   "metadata": {},
   "outputs": [],
   "source": [
    "# Ploting graph of Loss and val_loss\n",
    "\n",
    "plt.figure(figsize=(10, 6))\n",
    "plt.plot(Model_Vgg_rt_f.history['loss'], label='Training Loss')\n",
    "plt.plot(Model_Vgg_rt_f.history['val_loss'], label='Validation Loss')\n",
    "plt.xlabel('Epochs')\n",
    "plt.ylabel('Loss')\n",
    "plt.title('Training and Validation Loss')\n",
    "plt.legend()\n",
    "plt.grid(True)\n",
    "plt.show()"
   ]
  },
  {
   "cell_type": "code",
   "execution_count": null,
   "id": "a09867bd-43f2-4a8d-95d6-824fc658c4a7",
   "metadata": {},
   "outputs": [],
   "source": [
    "test_loss_rt_Vgg, test_accuracy_rt_Vgg = Vgg_rt.evaluate(test_generator_rt)\n",
    "print(f'Test Accuracy: {test_accuracy_rt_Vgg}')"
   ]
  },
  {
   "cell_type": "code",
   "execution_count": null,
   "id": "3e7a76cd-9d03-44c2-9d24-5c8b6d8320a0",
   "metadata": {},
   "outputs": [],
   "source": [
    "test_generator_rt.reset()\n",
    "predictions_rt_f = Vgg_rt_f.predict(test_generator_rt)\n",
    "predicted_classes_f = (predictions_rt_f > 0.5).astype(int)  \n",
    "\n",
    "true_classes = test_generator_rt.classes\n",
    "class_labels = list(test_generator_rt.class_indices.keys())\n",
    "conf_matrix = confusion_matrix(true_classes, predicted_classes_f)\n",
    "print(classification_report(true_classes, predicted_classes_f, target_names=class_labels))\n",
    "\n",
    "plt.figure(figsize=(8, 6))\n",
    "sns.heatmap(conf_matrix, annot=True, fmt='d', cmap='Blues', xticklabels=class_labels, yticklabels=class_labels)\n",
    "plt.xlabel('Predicted')\n",
    "plt.ylabel('True')\n",
    "plt.title('Confusion Matrix')\n",
    "plt.show()"
   ]
  },
  {
   "cell_type": "code",
   "execution_count": null,
   "id": "0b30c1d7-a98e-435d-a9f3-e7dab7479221",
   "metadata": {},
   "outputs": [],
   "source": [
    "print(\"VGG16 realitic tempering True/False completed\")"
   ]
  },
  {
   "cell_type": "markdown",
   "id": "9b3741db-26df-4794-b420-509f7ef2fc91",
   "metadata": {},
   "source": [
    "\n",
    "\n",
    "\n",
    "#From here we are going to train all the datasets on ResNet50\n",
    "\n",
    "\n"
   ]
  },
  {
   "cell_type": "markdown",
   "id": "5b0d4b9b-db43-433a-9b7a-69cf8ab9656e",
   "metadata": {},
   "source": [
    "ResNet50 - Coco_Glide_Dataset_Trainable_true"
   ]
  },
  {
   "cell_type": "code",
   "execution_count": null,
   "id": "e77ea315-a827-4813-b477-5b91d3674be4",
   "metadata": {},
   "outputs": [],
   "source": [
    "from tensorflow.keras.applications import ResNet50"
   ]
  },
  {
   "cell_type": "code",
   "execution_count": null,
   "id": "53520432-35d0-4d37-9545-1fb6f6ab0967",
   "metadata": {},
   "outputs": [],
   "source": [
    "Res_True = ResNet50(\n",
    "    weights='imagenet',\n",
    "    include_top = False,\n",
    "    input_shape=image_size_coco\n",
    ")\n",
    "Res_True.trainable= True"
   ]
  },
  {
   "cell_type": "code",
   "execution_count": null,
   "id": "2e399038-0970-444d-9187-efab9a5061e0",
   "metadata": {},
   "outputs": [],
   "source": [
    "Res_coco = tf.keras.models.Sequential()\n",
    "\n",
    "# Convolutional Layer from VGG16 True\n",
    "Res_coco.add(Res_True)\n",
    "\n",
    "# Flattening\n",
    "Res_coco.add(tf.keras.layers.Flatten())\n",
    "\n",
    "# Full Connection\n",
    "Res_coco.add(tf.keras.layers.Dense(units=128, activation='relu'))\n",
    "\n",
    "# Output Layer\n",
    "Res_coco.add(tf.keras.layers.Dense(units=1, activation='sigmoid'))\n",
    "\n",
    "# Compiling the CNN\n",
    "Res_coco.compile(optimizer='adam', loss='binary_crossentropy', metrics=['accuracy'])\n",
    "\n",
    "# Summary of the model\n",
    "Res_coco.summary()"
   ]
  },
  {
   "cell_type": "code",
   "execution_count": null,
   "id": "1c1a2649-301e-465b-8c3b-704c57378e2c",
   "metadata": {},
   "outputs": [],
   "source": [
    "# Model ResNet50 training on CocoGlide\n",
    "\n",
    "Model_Res_coco=Res_coco.fit(train_generator_coco, epochs=200, validation_data=validation_generator_coco)"
   ]
  },
  {
   "cell_type": "code",
   "execution_count": null,
   "id": "2dd7a121-448e-492d-bbf5-e74f795b8dc0",
   "metadata": {},
   "outputs": [],
   "source": [
    "Res_coco.save('Res_coco.h5')"
   ]
  },
  {
   "cell_type": "code",
   "execution_count": null,
   "id": "9652b6d2-95da-410c-93a0-47db6844de2f",
   "metadata": {},
   "outputs": [],
   "source": [
    "# Ploting graph of Loss and val_loss\n",
    "\n",
    "plt.figure(figsize=(10, 6))\n",
    "plt.plot(Model_Res_coco.history['loss'], label='Training Loss')\n",
    "plt.plot(Model_Res_coco.history['val_loss'], label='Validation Loss')\n",
    "plt.xlabel('Epochs')\n",
    "plt.ylabel('Loss')\n",
    "plt.title('Training and Validation Loss')\n",
    "plt.legend()\n",
    "plt.grid(True)\n",
    "plt.show()"
   ]
  },
  {
   "cell_type": "code",
   "execution_count": null,
   "id": "4c050caf-5257-4ce8-b998-38d8b95ce698",
   "metadata": {},
   "outputs": [],
   "source": [
    "test_loss_coco_Res, test_accuracy_coco_Res = Res_coco.evaluate(test_generator_coco)\n",
    "print(f'Test Accuracy: {test_accuracy_coco_Res}')"
   ]
  },
  {
   "cell_type": "code",
   "execution_count": null,
   "id": "5f413763-d532-4c07-a318-b5604361fb12",
   "metadata": {},
   "outputs": [],
   "source": [
    "test_generator_coco.reset()\n",
    "predictions_coco = Res_coco.predict(test_generator_coco)\n",
    "predicted_classes = (predictions_coco > 0.5).astype(int)  \n",
    "\n",
    "true_classes = test_generator_coco.classes\n",
    "class_labels = list(test_generator_coco.class_indices.keys())\n",
    "conf_matrix = confusion_matrix(true_classes, predicted_classes)\n",
    "print(classification_report(true_classes, predicted_classes, target_names=class_labels))\n",
    "\n",
    "plt.figure(figsize=(8, 6))\n",
    "sns.heatmap(conf_matrix, annot=True, fmt='d', cmap='Blues', xticklabels=class_labels, yticklabels=class_labels)\n",
    "plt.xlabel('Predicted')\n",
    "plt.ylabel('True')\n",
    "plt.title('Confusion Matrix')\n",
    "plt.show()\n"
   ]
  },
  {
   "cell_type": "markdown",
   "id": "d3c9e9e0-085d-4002-bae5-60d5f9190177",
   "metadata": {},
   "source": [
    "ResNet50 - Coco_Glide_Dataset_Trainable_False"
   ]
  },
  {
   "cell_type": "code",
   "execution_count": null,
   "id": "0a4703d8-2849-4b75-8d84-44145fe67f51",
   "metadata": {},
   "outputs": [],
   "source": [
    "Res_False = ResNet50(\n",
    "    weights='imagenet',\n",
    "    include_top = False,\n",
    "    input_shape=image_size_coco\n",
    ")\n",
    "Res_False.trainable= False"
   ]
  },
  {
   "cell_type": "code",
   "execution_count": null,
   "id": "a408c7d6-7736-4a9d-903d-36b4ae29f089",
   "metadata": {},
   "outputs": [],
   "source": [
    "Res_coco_f = tf.keras.models.Sequential()\n",
    "\n",
    "# Convolutional Layer from VGG16 True\n",
    "Res_coco_f.add(Res_False)\n",
    "\n",
    "# Flattening\n",
    "Res_coco_f.add(tf.keras.layers.Flatten())\n",
    "\n",
    "# Full Connection\n",
    "Res_coco_f.add(tf.keras.layers.Dense(units=128, activation='relu'))\n",
    "\n",
    "# Output Layer\n",
    "Res_coco_f.add(tf.keras.layers.Dense(units=1, activation='sigmoid'))\n",
    "\n",
    "# Compiling the CNN\n",
    "Res_coco_f.compile(optimizer='adam', loss='binary_crossentropy', metrics=['accuracy'])\n",
    "\n",
    "# Summary of the model\n",
    "Res_coco_f.summary()"
   ]
  },
  {
   "cell_type": "code",
   "execution_count": null,
   "id": "6a3f6209-fceb-4355-923e-3dd7ca8fd7d6",
   "metadata": {},
   "outputs": [],
   "source": [
    "# Model Resnet50 training on CocoGlide\n",
    "\n",
    "Model_Res_coco_f=Res_coco_f.fit(train_generator_coco, epochs=200, validation_data=validation_generator_coco)"
   ]
  },
  {
   "cell_type": "code",
   "execution_count": null,
   "id": "4daf166c-de92-4e49-a11f-d605f620d46c",
   "metadata": {},
   "outputs": [],
   "source": [
    "Res_coco_f.save('Res_coco_f.h5')"
   ]
  },
  {
   "cell_type": "code",
   "execution_count": null,
   "id": "f6bdb625-2fd5-4e52-84e9-ddc9a2d776b9",
   "metadata": {},
   "outputs": [],
   "source": [
    "# Ploting graph of Loss and val_loss\n",
    "\n",
    "plt.figure(figsize=(10, 6))\n",
    "plt.plot(Model_Res_coco_f.history['loss'], label='Training Loss')\n",
    "plt.plot(Model_Res_coco_f.history['val_loss'], label='Validation Loss')\n",
    "plt.xlabel('Epochs')\n",
    "plt.ylabel('Loss')\n",
    "plt.title('Training and Validation Loss')\n",
    "plt.legend()\n",
    "plt.grid(True)\n",
    "plt.show()"
   ]
  },
  {
   "cell_type": "code",
   "execution_count": null,
   "id": "e40258eb-7a6a-48e9-a304-19eef455b847",
   "metadata": {},
   "outputs": [],
   "source": [
    "test_loss_coco_Res_f, test_accuracy_coco_Res_f = Res_coco_f.evaluate(test_generator_coco)\n",
    "print(f'Test Accuracy: {test_accuracy_coco_Res_f}')"
   ]
  },
  {
   "cell_type": "code",
   "execution_count": null,
   "id": "08a3f063-9278-42a0-a149-52b4d2e52f25",
   "metadata": {},
   "outputs": [],
   "source": [
    "test_generator_coco.reset()\n",
    "predictions_coco_f = Res_coco_f.predict(test_generator_coco)\n",
    "predicted_classes_f = (predictions_coco_f > 0.5).astype(int)  \n",
    "\n",
    "true_classes = test_generator_coco.classes\n",
    "class_labels = list(test_generator_coco.class_indices.keys())\n",
    "conf_matrix = confusion_matrix(true_classes, predicted_classes_f)\n",
    "print(classification_report(true_classes, predicted_classes_f, target_names=class_labels))\n",
    "\n",
    "plt.figure(figsize=(8, 6))\n",
    "sns.heatmap(conf_matrix, annot=True, fmt='d', cmap='Blues', xticklabels=class_labels, yticklabels=class_labels)\n",
    "plt.xlabel('Predicted')\n",
    "plt.ylabel('True')\n",
    "plt.title('Confusion Matrix')\n",
    "plt.show()"
   ]
  },
  {
   "cell_type": "code",
   "execution_count": null,
   "id": "d0faab8c-0403-47e6-8055-b92592d35b76",
   "metadata": {},
   "outputs": [],
   "source": [
    "print(\"Resnet Coco-glide True/False completed\")"
   ]
  },
  {
   "cell_type": "markdown",
   "id": "2fed010a-f31d-4e51-8f21-57c067186aa2",
   "metadata": {},
   "source": [
    "ResNet50 - IMD2020_Dataset_Trainable_True"
   ]
  },
  {
   "cell_type": "code",
   "execution_count": null,
   "id": "a329443b-45b3-4753-8d6c-1154d6db6de3",
   "metadata": {},
   "outputs": [],
   "source": [
    "Res_imd_True = ResNet50(\n",
    "    weights='imagenet',\n",
    "    include_top = False,\n",
    "    input_shape=image_size_imd\n",
    ")\n",
    "Res_imd_True.trainable= True"
   ]
  },
  {
   "cell_type": "code",
   "execution_count": null,
   "id": "9d4026fc-2c81-42aa-8dd7-94c814ab4f1b",
   "metadata": {},
   "outputs": [],
   "source": [
    "Res_imd = tf.keras.models.Sequential()\n",
    "\n",
    "# Convolutional Layer from VGG16 True\n",
    "Res_imd.add(Res_imd_True)\n",
    "\n",
    "# Flattening\n",
    "Res_imd.add(tf.keras.layers.Flatten())\n",
    "\n",
    "# Full Connection\n",
    "Res_imd.add(tf.keras.layers.Dense(units=128, activation='relu'))\n",
    "\n",
    "# Output Layer\n",
    "Res_imd.add(tf.keras.layers.Dense(units=1, activation='sigmoid'))\n",
    "\n",
    "# Compiling the CNN\n",
    "Res_imd.compile(optimizer='adam', loss='binary_crossentropy', metrics=['accuracy'])\n",
    "\n",
    "# Summary of the model\n",
    "Res_imd.summary()"
   ]
  },
  {
   "cell_type": "code",
   "execution_count": null,
   "id": "c3317cdc-c127-4a45-95f5-43bb7ca1238f",
   "metadata": {},
   "outputs": [],
   "source": [
    "# Model VGG16 training on imd2020\n",
    "\n",
    "Model_Res_imd=Res_imd.fit(train_generator_imd, epochs=200, validation_data=validation_generator_imd)"
   ]
  },
  {
   "cell_type": "code",
   "execution_count": null,
   "id": "750fda61-8477-4bdb-9e39-40b61f29f7f6",
   "metadata": {},
   "outputs": [],
   "source": [
    "Res_imd.save('Res_imd.h5')"
   ]
  },
  {
   "cell_type": "code",
   "execution_count": null,
   "id": "d001a1cb-add0-4ded-86f7-8b2cf49f1bb3",
   "metadata": {},
   "outputs": [],
   "source": [
    "# Ploting graph of Loss and val_loss\n",
    "\n",
    "plt.figure(figsize=(10, 6))\n",
    "plt.plot(Model_Res_imd.history['loss'], label='Training Loss')\n",
    "plt.plot(Model_Res_imd.history['val_loss'], label='Validation Loss')\n",
    "plt.xlabel('Epochs')\n",
    "plt.ylabel('Loss')\n",
    "plt.title('Training and Validation Loss')\n",
    "plt.legend()\n",
    "plt.grid(True)\n",
    "plt.show()"
   ]
  },
  {
   "cell_type": "code",
   "execution_count": null,
   "id": "1807fae7-dc0f-4313-8f5d-fe03a441a1ae",
   "metadata": {},
   "outputs": [],
   "source": [
    "test_loss_imd_Res, test_accuracy_imd_Res = Res_imd.evaluate(test_generator_imd)\n",
    "print(f'Test Accuracy: {test_accuracy_imd_Res}')"
   ]
  },
  {
   "cell_type": "code",
   "execution_count": null,
   "id": "92bb3f29-e776-41b5-8de2-368a562af279",
   "metadata": {},
   "outputs": [],
   "source": [
    "test_generator_imd.reset()\n",
    "predictions_imd = Res_imd.predict(test_generator_imd)\n",
    "predicted_classes = (predictions_imd > 0.5).astype(int)  \n",
    "\n",
    "true_classes = test_generator_imd.classes\n",
    "class_labels = list(test_generator_imd.class_indices.keys())\n",
    "conf_matrix = confusion_matrix(true_classes, predicted_classes)\n",
    "print(classification_report(true_classes, predicted_classes, target_names=class_labels))\n",
    "\n",
    "plt.figure(figsize=(8, 6))\n",
    "sns.heatmap(conf_matrix, annot=True, fmt='d', cmap='Blues', xticklabels=class_labels, yticklabels=class_labels)\n",
    "plt.xlabel('Predicted')\n",
    "plt.ylabel('True')\n",
    "plt.title('Confusion Matrix')\n",
    "plt.show()"
   ]
  },
  {
   "cell_type": "markdown",
   "id": "871cd7e1-84c4-4005-90d0-a7fe7f4417d5",
   "metadata": {},
   "source": [
    "ResNet50- IMD2020_Dataset_Trainable_False"
   ]
  },
  {
   "cell_type": "code",
   "execution_count": null,
   "id": "43b5ab7e-5cc9-436a-a1c5-7141302297e8",
   "metadata": {},
   "outputs": [],
   "source": [
    "Res_imd_False = ResNet50(\n",
    "    weights='imagenet',\n",
    "    include_top = False,\n",
    "    input_shape=image_size_imd\n",
    ")\n",
    "Res_imd_False.trainable= False"
   ]
  },
  {
   "cell_type": "code",
   "execution_count": null,
   "id": "2a866155-47ea-473a-9a98-b2dae537f790",
   "metadata": {},
   "outputs": [],
   "source": [
    "Res_imd_f = tf.keras.models.Sequential()\n",
    "\n",
    "# Convolutional Layer from VGG16 True\n",
    "Res_imd_f.add(Res_imd_False)\n",
    "\n",
    "# Flattening\n",
    "Res_imd_f.add(tf.keras.layers.Flatten())\n",
    "\n",
    "# Full Connection\n",
    "Res_imd_f.add(tf.keras.layers.Dense(units=128, activation='relu'))\n",
    "\n",
    "# Output Layer\n",
    "Res_imd_f.add(tf.keras.layers.Dense(units=1, activation='sigmoid'))\n",
    "\n",
    "# Compiling the CNN\n",
    "Res_imd_f.compile(optimizer='adam', loss='binary_crossentropy', metrics=['accuracy'])\n",
    "\n",
    "# Summary of the model\n",
    "Res_imd_f.summary()"
   ]
  },
  {
   "cell_type": "code",
   "execution_count": null,
   "id": "4deeb3b2-fd9d-44df-ab4d-d669e613ab7f",
   "metadata": {},
   "outputs": [],
   "source": [
    "#padding ignore"
   ]
  },
  {
   "cell_type": "code",
   "execution_count": null,
   "id": "a87b4c29-8537-4406-a5cd-57086d4317f3",
   "metadata": {},
   "outputs": [],
   "source": [
    "# Model ResNet50 training on imd2020\n",
    "\n",
    "Model_Res_imd_f=Res_imd_f.fit(train_generator_imd, epochs=200, validation_data=validation_generator_imd)"
   ]
  },
  {
   "cell_type": "code",
   "execution_count": null,
   "id": "0aca541a-3622-44df-a7dd-36d0fcf10a8a",
   "metadata": {},
   "outputs": [],
   "source": [
    "Res_imd_f.save('Res_imd_f.h5')"
   ]
  },
  {
   "cell_type": "code",
   "execution_count": null,
   "id": "aa87e32a-ceac-45b7-90b5-ff0786664101",
   "metadata": {},
   "outputs": [],
   "source": [
    "# Ploting graph of Loss and val_loss\n",
    "\n",
    "plt.figure(figsize=(10, 6))\n",
    "plt.plot(Model_Res_imd_f.history['loss'], label='Training Loss')\n",
    "plt.plot(Model_Res_imd_f.history['val_loss'], label='Validation Loss')\n",
    "plt.xlabel('Epochs')\n",
    "plt.ylabel('Loss')\n",
    "plt.title('Training and Validation Loss')\n",
    "plt.legend()\n",
    "plt.grid(True)\n",
    "plt.show()"
   ]
  },
  {
   "cell_type": "code",
   "execution_count": null,
   "id": "1444568e-2d73-4638-81f2-624ef67d192b",
   "metadata": {},
   "outputs": [],
   "source": [
    "test_loss_imd_Res_f, test_accuracy_imd_Res_f = Res_imd_f.evaluate(test_generator_imd)\n",
    "print(f'Test Accuracy: {test_accuracy_imd_Res_f}')"
   ]
  },
  {
   "cell_type": "code",
   "execution_count": null,
   "id": "b904f28a-9424-47cc-8e1e-322bdff612a9",
   "metadata": {},
   "outputs": [],
   "source": [
    "test_generator_imd.reset()\n",
    "predictions_imd_f = Res_imd_f.predict(test_generator_imd)\n",
    "predicted_classes_f = (predictions_imd_f > 0.5).astype(int)  \n",
    "\n",
    "true_classes = test_generator_imd.classes\n",
    "class_labels = list(test_generator_imd.class_indices.keys())\n",
    "conf_matrix = confusion_matrix(true_classes, predicted_classes_f)\n",
    "print(classification_report(true_classes, predicted_classes_f, target_names=class_labels))\n",
    "\n",
    "plt.figure(figsize=(8, 6))\n",
    "sns.heatmap(conf_matrix, annot=True, fmt='d', cmap='Blues', xticklabels=class_labels, yticklabels=class_labels)\n",
    "plt.xlabel('Predicted')\n",
    "plt.ylabel('True')\n",
    "plt.title('Confusion Matrix')\n",
    "plt.show()"
   ]
  },
  {
   "cell_type": "code",
   "execution_count": null,
   "id": "43fd8bb3-b09f-4225-af27-c27e2d2389f4",
   "metadata": {},
   "outputs": [],
   "source": [
    "print(\"Resnet imd2020 True/False completed\")"
   ]
  },
  {
   "cell_type": "markdown",
   "id": "b7c5250a-b1d8-4ebb-ad5f-14b4a7923c8b",
   "metadata": {},
   "source": [
    "ResNet - MISD_Dataset_Trainable_True"
   ]
  },
  {
   "cell_type": "code",
   "execution_count": null,
   "id": "34620344-f7ca-43e9-9c00-77262f247863",
   "metadata": {},
   "outputs": [],
   "source": [
    "Res_misd_True = ResNet50(\n",
    "    weights='imagenet',\n",
    "    include_top = False,\n",
    "    input_shape=image_size_misd\n",
    ")\n",
    "Res_misd_True.trainable= True"
   ]
  },
  {
   "cell_type": "code",
   "execution_count": null,
   "id": "a774fa4d-be1c-4cbd-a741-9f363a1fe59d",
   "metadata": {},
   "outputs": [],
   "source": [
    "Res_misd = tf.keras.models.Sequential()\n",
    "\n",
    "# Convolutional Layer from VGG16 True\n",
    "Res_misd.add(Res_misd_True)\n",
    "\n",
    "# Flattening\n",
    "Res_misd.add(tf.keras.layers.Flatten())\n",
    "\n",
    "# Full Connection\n",
    "Res_misd.add(tf.keras.layers.Dense(units=128, activation='relu'))\n",
    "\n",
    "# Output Layer\n",
    "Res_misd.add(tf.keras.layers.Dense(units=1, activation='sigmoid'))\n",
    "\n",
    "# Compiling the CNN\n",
    "Res_misd.compile(optimizer='adam', loss='binary_crossentropy', metrics=['accuracy'])\n",
    "\n",
    "# Summary of the model\n",
    "Res_misd.summary()"
   ]
  },
  {
   "cell_type": "code",
   "execution_count": null,
   "id": "81dcee91-4bc9-4980-a13a-6dd76c0edad8",
   "metadata": {},
   "outputs": [],
   "source": [
    "# Model VGG16 training on imd2020\n",
    "\n",
    "Model_Res_misd=Res_misd.fit(train_generator_misd, epochs=200, validation_data=validation_generator_misd)"
   ]
  },
  {
   "cell_type": "code",
   "execution_count": null,
   "id": "ba1fb941-8db8-4b5b-9250-dd960d4ebdcd",
   "metadata": {},
   "outputs": [],
   "source": [
    "Res_misd.save('Res_misd.h5')"
   ]
  },
  {
   "cell_type": "code",
   "execution_count": null,
   "id": "bbed7585-83dc-461a-b0ee-7908c2089760",
   "metadata": {},
   "outputs": [],
   "source": [
    "# Ploting graph of Loss and val_loss\n",
    "\n",
    "plt.figure(figsize=(10, 6))\n",
    "plt.plot(Model_Res_misd.history['loss'], label='Training Loss')\n",
    "plt.plot(Model_Res_misd.history['val_loss'], label='Validation Loss')\n",
    "plt.xlabel('Epochs')\n",
    "plt.ylabel('Loss')\n",
    "plt.title('Training and Validation Loss')\n",
    "plt.legend()\n",
    "plt.grid(True)\n",
    "plt.show()"
   ]
  },
  {
   "cell_type": "code",
   "execution_count": null,
   "id": "5233a12d-9c19-4e3d-8dc1-8585ae96a55b",
   "metadata": {},
   "outputs": [],
   "source": [
    "test_loss_misd_Res, test_accuracy_misd_Res = Res_misd.evaluate(test_generator_misd)\n",
    "print(f'Test Accuracy: {test_accuracy_misd_Res}')"
   ]
  },
  {
   "cell_type": "code",
   "execution_count": null,
   "id": "dac782c6-6b76-4d3b-996b-c0de808cea94",
   "metadata": {},
   "outputs": [],
   "source": [
    "test_generator_misd.reset()\n",
    "predictions_misd = Res_misd.predict(test_generator_misd)\n",
    "predicted_classes = (predictions_misd > 0.5).astype(int)  \n",
    "\n",
    "true_classes = test_generator_misd.classes\n",
    "class_labels = list(test_generator_misd.class_indices.keys())\n",
    "conf_matrix = confusion_matrix(true_classes, predicted_classes)\n",
    "print(classification_report(true_classes, predicted_classes, target_names=class_labels))\n",
    "\n",
    "plt.figure(figsize=(8, 6))\n",
    "sns.heatmap(conf_matrix, annot=True, fmt='d', cmap='Blues', xticklabels=class_labels, yticklabels=class_labels)\n",
    "plt.xlabel('Predicted')\n",
    "plt.ylabel('True')\n",
    "plt.title('Confusion Matrix')\n",
    "plt.show()"
   ]
  },
  {
   "cell_type": "markdown",
   "id": "e4a64390-800a-4a7e-9c7e-6aadad56f5f3",
   "metadata": {},
   "source": [
    "ResNet50 - MISD_Dataset_Trainable_False"
   ]
  },
  {
   "cell_type": "code",
   "execution_count": null,
   "id": "0a7050e4-1b99-4932-9948-647d2d6148fd",
   "metadata": {},
   "outputs": [],
   "source": [
    "Res_misd_False = ResNet50(\n",
    "    weights='imagenet',\n",
    "    include_top = False,\n",
    "    input_shape=image_size_misd\n",
    ")\n",
    "Res_misd_False.trainable= False"
   ]
  },
  {
   "cell_type": "code",
   "execution_count": null,
   "id": "fd5d5aa7-c19e-4406-8015-ea58784f91df",
   "metadata": {},
   "outputs": [],
   "source": [
    "Res_misd_f = tf.keras.models.Sequential()\n",
    "\n",
    "# Convolutional Layer from VGG16 True\n",
    "Res_misd_f.add(Res_misd_False)\n",
    "\n",
    "# Flattening\n",
    "Res_misd_f.add(tf.keras.layers.Flatten())\n",
    "\n",
    "# Full Connection\n",
    "Res_misd_f.add(tf.keras.layers.Dense(units=128, activation='relu'))\n",
    "\n",
    "# Output Layer\n",
    "Res_misd_f.add(tf.keras.layers.Dense(units=1, activation='sigmoid'))\n",
    "\n",
    "# Compiling the CNN\n",
    "Res_misd_f.compile(optimizer='adam', loss='binary_crossentropy', metrics=['accuracy'])\n",
    "\n",
    "# Summary of the model\n",
    "Res_misd_f.summary()"
   ]
  },
  {
   "cell_type": "code",
   "execution_count": null,
   "id": "03a2a6fb-07de-4d8a-a3a8-1de3b4c0dd8b",
   "metadata": {},
   "outputs": [],
   "source": [
    "# Model VGG16 training on MISD\n",
    "\n",
    "Model_Res_misd_f=Res_misd_f.fit(train_generator_misd, epochs=200, validation_data=validation_generator_misd)"
   ]
  },
  {
   "cell_type": "code",
   "execution_count": null,
   "id": "a6dc6b8e-1587-476e-94bb-9694f67f9ae5",
   "metadata": {},
   "outputs": [],
   "source": [
    "Res_misd_f.save('Res_misd_f.h5')"
   ]
  },
  {
   "cell_type": "code",
   "execution_count": null,
   "id": "fea6a22c-59fe-4765-9587-4c865f3a5d60",
   "metadata": {},
   "outputs": [],
   "source": [
    "# Ploting graph of Loss and val_loss\n",
    "\n",
    "plt.figure(figsize=(10, 6))\n",
    "plt.plot(Model_Res_misd_f.history['loss'], label='Training Loss')\n",
    "plt.plot(Model_Res_misd_f.history['val_loss'], label='Validation Loss')\n",
    "plt.xlabel('Epochs')\n",
    "plt.ylabel('Loss')\n",
    "plt.title('Training and Validation Loss')\n",
    "plt.legend()\n",
    "plt.grid(True)\n",
    "plt.show()"
   ]
  },
  {
   "cell_type": "code",
   "execution_count": null,
   "id": "a2a97ec5-e203-4005-9be8-2a699bb24ca7",
   "metadata": {},
   "outputs": [],
   "source": [
    "test_loss_misd_Res_f, test_accuracy_misd_Res_f = Res_misd_f.evaluate(test_generator_misd)\n",
    "print(f'Test Accuracy: {test_accuracy_misd_Res_f}')"
   ]
  },
  {
   "cell_type": "code",
   "execution_count": null,
   "id": "d9b7ee78-2d69-4713-921d-12388483087f",
   "metadata": {},
   "outputs": [],
   "source": [
    "test_generator_misd.reset()\n",
    "predictions_misd_f = Res_misd_f.predict(test_generator_misd)\n",
    "predicted_classes_f = (predictions_misd_f > 0.5).astype(int)  \n",
    "\n",
    "true_classes = test_generator_misd.classes\n",
    "class_labels = list(test_generator_misd.class_indices.keys())\n",
    "conf_matrix = confusion_matrix(true_classes, predicted_classes_f)\n",
    "print(classification_report(true_classes, predicted_classes_f, target_names=class_labels))\n",
    "\n",
    "plt.figure(figsize=(8, 6))\n",
    "sns.heatmap(conf_matrix, annot=True, fmt='d', cmap='Blues', xticklabels=class_labels, yticklabels=class_labels)\n",
    "plt.xlabel('Predicted')\n",
    "plt.ylabel('True')\n",
    "plt.title('Confusion Matrix')\n",
    "plt.show()"
   ]
  },
  {
   "cell_type": "code",
   "execution_count": null,
   "id": "29b824b2-fd0c-4f95-97f0-5e957e6e2416",
   "metadata": {},
   "outputs": [],
   "source": [
    "print(\"Resnet misd True/False completed\")"
   ]
  },
  {
   "cell_type": "markdown",
   "id": "25b15c30-4357-4963-a919-48490d5c63a7",
   "metadata": {},
   "source": [
    "ResNet50 - ComoFod_small_Dataset_Trainable_True"
   ]
  },
  {
   "cell_type": "code",
   "execution_count": null,
   "id": "03dd5ac0-d046-43ce-ab60-969dc663b935",
   "metadata": {},
   "outputs": [],
   "source": [
    "Res_como_True = ResNet50(\n",
    "    weights='imagenet',\n",
    "    include_top = False,\n",
    "    input_shape=image_size_como\n",
    ")\n",
    "Res_como_True.trainable= True"
   ]
  },
  {
   "cell_type": "code",
   "execution_count": null,
   "id": "cbd99a7a-20d9-47b0-b204-00f002e7d59f",
   "metadata": {},
   "outputs": [],
   "source": [
    "Res_como = tf.keras.models.Sequential()\n",
    "\n",
    "# Convolutional Layer from VGG16 True\n",
    "Res_como.add(Res_como_True)\n",
    "\n",
    "# Flattening\n",
    "Res_como.add(tf.keras.layers.Flatten())\n",
    "\n",
    "# Full Connection\n",
    "Res_como.add(tf.keras.layers.Dense(units=128, activation='relu'))\n",
    "\n",
    "# Output Layer\n",
    "Res_como.add(tf.keras.layers.Dense(units=1, activation='sigmoid'))\n",
    "\n",
    "# Compiling the CNN\n",
    "Res_como.compile(optimizer='adam', loss='binary_crossentropy', metrics=['accuracy'])\n",
    "\n",
    "# Summary of the model\n",
    "Res_como.summary()"
   ]
  },
  {
   "cell_type": "code",
   "execution_count": null,
   "id": "e7dfd224-747f-4837-bc37-a231c3b0ad09",
   "metadata": {},
   "outputs": [],
   "source": [
    "# Model ResNet50 training on ComoFod-small\n",
    "\n",
    "Model_Res_como=Res_como.fit(train_generator_como, epochs=200, validation_data=validation_generator_como)"
   ]
  },
  {
   "cell_type": "code",
   "execution_count": null,
   "id": "c14ec65d-a772-4e3b-b3bb-c1e4491f4193",
   "metadata": {},
   "outputs": [],
   "source": [
    "Res_como.save('Res_como.h5')"
   ]
  },
  {
   "cell_type": "code",
   "execution_count": null,
   "id": "4947a589-cf01-4cf5-997b-cd5504502557",
   "metadata": {},
   "outputs": [],
   "source": [
    "# Ploting graph of Loss and val_loss\n",
    "\n",
    "plt.figure(figsize=(10, 6))\n",
    "plt.plot(Model_Res_como.history['loss'], label='Training Loss')\n",
    "plt.plot(Model_Res_como.history['val_loss'], label='Validation Loss')\n",
    "plt.xlabel('Epochs')\n",
    "plt.ylabel('Loss')\n",
    "plt.title('Training and Validation Loss')\n",
    "plt.legend()\n",
    "plt.grid(True)\n",
    "plt.show()"
   ]
  },
  {
   "cell_type": "code",
   "execution_count": null,
   "id": "310994ce-6e78-4f87-9591-3676ad335b33",
   "metadata": {},
   "outputs": [],
   "source": [
    "test_loss_como_Res, test_accuracy_como_Res = Res_como.evaluate(test_generator_como)\n",
    "print(f'Test Accuracy: {test_accuracy_como_Res}')"
   ]
  },
  {
   "cell_type": "code",
   "execution_count": null,
   "id": "bde5f857-a9b3-40a1-9d30-32f19e1d9128",
   "metadata": {},
   "outputs": [],
   "source": [
    "test_generator_como.reset()\n",
    "predictions_como = Res_como.predict(test_generator_como)\n",
    "predicted_classes = (predictions_como > 0.5).astype(int)  \n",
    "\n",
    "true_classes = test_generator_como.classes\n",
    "class_labels = list(test_generator_como.class_indices.keys())\n",
    "conf_matrix = confusion_matrix(true_classes, predicted_classes)\n",
    "print(classification_report(true_classes, predicted_classes, target_names=class_labels))\n",
    "\n",
    "plt.figure(figsize=(8, 6))\n",
    "sns.heatmap(conf_matrix, annot=True, fmt='d', cmap='Blues', xticklabels=class_labels, yticklabels=class_labels)\n",
    "plt.xlabel('Predicted')\n",
    "plt.ylabel('True')\n",
    "plt.title('Confusion Matrix')\n",
    "plt.show()"
   ]
  },
  {
   "cell_type": "markdown",
   "id": "a768417c-c887-41ee-ab19-68d229b679fe",
   "metadata": {},
   "source": [
    "ResNet50 - ComoFod_small_Dataset_Trainable_False"
   ]
  },
  {
   "cell_type": "code",
   "execution_count": null,
   "id": "93972040-1328-4d9e-a85b-0da0678ea2bd",
   "metadata": {},
   "outputs": [],
   "source": [
    "Res_como_False = ResNet50(\n",
    "    weights='imagenet',\n",
    "    include_top = False,\n",
    "    input_shape=image_size_como\n",
    ")\n",
    "Res_como_False.trainable= False"
   ]
  },
  {
   "cell_type": "code",
   "execution_count": null,
   "id": "f71fbe7a-1beb-4cda-9ef8-7ab4c77c4765",
   "metadata": {},
   "outputs": [],
   "source": [
    "Res_como_f = tf.keras.models.Sequential()\n",
    "\n",
    "# Convolutional Layer from VGG16 True\n",
    "Res_como_f.add(Res_como_False)\n",
    "\n",
    "# Flattening\n",
    "Res_como_f.add(tf.keras.layers.Flatten())\n",
    "\n",
    "# Full Connection\n",
    "Res_como_f.add(tf.keras.layers.Dense(units=128, activation='relu'))\n",
    "\n",
    "# Output Layer\n",
    "Res_como_f.add(tf.keras.layers.Dense(units=1, activation='sigmoid'))\n",
    "\n",
    "# Compiling the CNN\n",
    "Res_como_f.compile(optimizer='adam', loss='binary_crossentropy', metrics=['accuracy'])\n",
    "\n",
    "# Summary of the model\n",
    "Res_como_f.summary()"
   ]
  },
  {
   "cell_type": "code",
   "execution_count": null,
   "id": "7e5aa6da-fb7d-4613-b2b8-e109794400d2",
   "metadata": {},
   "outputs": [],
   "source": [
    "# Model Resnet50 training on comofod\n",
    "\n",
    "Model_Res_como_f=Res_como_f.fit(train_generator_como, epochs=200, validation_data=validation_generator_como)"
   ]
  },
  {
   "cell_type": "code",
   "execution_count": null,
   "id": "e07cff06-97ce-4dfe-ab52-5d2b096bd33d",
   "metadata": {},
   "outputs": [],
   "source": [
    "Res_como_f.save('Res_como_f.h5')"
   ]
  },
  {
   "cell_type": "code",
   "execution_count": null,
   "id": "a099e0d0-63a7-402a-858d-25d4af76d57e",
   "metadata": {},
   "outputs": [],
   "source": [
    "# Ploting graph of Loss and val_loss\n",
    "\n",
    "plt.figure(figsize=(10, 6))\n",
    "plt.plot(Model_Res_como_f.history['loss'], label='Training Loss')\n",
    "plt.plot(Model_Res_como_f.history['val_loss'], label='Validation Loss')\n",
    "plt.xlabel('Epochs')\n",
    "plt.ylabel('Loss')\n",
    "plt.title('Training and Validation Loss')\n",
    "plt.legend()\n",
    "plt.grid(True)\n",
    "plt.show()"
   ]
  },
  {
   "cell_type": "code",
   "execution_count": null,
   "id": "9b889f7e-fcb6-4e36-ae35-1399b6ad0834",
   "metadata": {},
   "outputs": [],
   "source": [
    "test_loss_como_Res_f, test_accuracy_como_Res_f = Res_como_f.evaluate(test_generator_como)\n",
    "print(f'Test Accuracy: {test_accuracy_como_Res_f}')"
   ]
  },
  {
   "cell_type": "code",
   "execution_count": null,
   "id": "548b96bf-583c-4e4a-b24a-cb6f28c5edd4",
   "metadata": {},
   "outputs": [],
   "source": [
    "test_generator_como.reset()\n",
    "predictions_como_f = Res_como_f.predict(test_generator_como)\n",
    "predicted_classes_f = (predictions_como_f > 0.5).astype(int)  \n",
    "\n",
    "true_classes = test_generator_como.classes\n",
    "class_labels = list(test_generator_como.class_indices.keys())\n",
    "conf_matrix = confusion_matrix(true_classes, predicted_classes_f)\n",
    "print(classification_report(true_classes, predicted_classes_f, target_names=class_labels))\n",
    "\n",
    "plt.figure(figsize=(8, 6))\n",
    "sns.heatmap(conf_matrix, annot=True, fmt='d', cmap='Blues', xticklabels=class_labels, yticklabels=class_labels)\n",
    "plt.xlabel('Predicted')\n",
    "plt.ylabel('True')\n",
    "plt.title('Confusion Matrix')\n",
    "plt.show()"
   ]
  },
  {
   "cell_type": "code",
   "execution_count": null,
   "id": "ba4dfcf1-e885-4d08-8260-7640b4e370cc",
   "metadata": {},
   "outputs": [],
   "source": [
    "print(\"Resnet comofod True/False completed\")"
   ]
  },
  {
   "cell_type": "markdown",
   "id": "0c9f84f7-d278-42c3-b93e-e0dd7117ae00",
   "metadata": {},
   "source": [
    "ResNet50- Realistic tempering_Dataset_Trainable_True"
   ]
  },
  {
   "cell_type": "code",
   "execution_count": null,
   "id": "7f73f1e1-0e4d-43fe-ad83-c250fc97b945",
   "metadata": {},
   "outputs": [],
   "source": [
    "Res_rt_True = ResNet50(\n",
    "    weights='imagenet',\n",
    "    include_top = False,\n",
    "    input_shape=image_size_rt\n",
    ")\n",
    "Res_rt_True.trainable= True"
   ]
  },
  {
   "cell_type": "code",
   "execution_count": null,
   "id": "074e97ff-741b-4caf-a15a-06a79967e1c1",
   "metadata": {},
   "outputs": [],
   "source": [
    "Res_rt = tf.keras.models.Sequential()\n",
    "\n",
    "# Convolutional Layer from VGG16 True\n",
    "Res_rt.add(Res_rt_True)\n",
    "\n",
    "# Flattening\n",
    "Res_rt.add(tf.keras.layers.Flatten())\n",
    "\n",
    "# Full Connection\n",
    "Res_rt.add(tf.keras.layers.Dense(units=128, activation='relu'))\n",
    "\n",
    "# Output Layer\n",
    "Res_rt.add(tf.keras.layers.Dense(units=1, activation='sigmoid'))\n",
    "\n",
    "# Compiling the CNN\n",
    "Res_rt.compile(optimizer='adam', loss='binary_crossentropy', metrics=['accuracy'])\n",
    "\n",
    "# Summary of the model\n",
    "Res_rt.summary()"
   ]
  },
  {
   "cell_type": "code",
   "execution_count": null,
   "id": "5a2dbaab-422d-4b89-8fc3-e0d29f2169e6",
   "metadata": {},
   "outputs": [],
   "source": [
    "# Model ResNet training on realistic tempering\n",
    "\n",
    "Model_Res_rt=Res_rt.fit(train_generator_rt, epochs=200, validation_data=validation_generator_rt)"
   ]
  },
  {
   "cell_type": "code",
   "execution_count": null,
   "id": "762388a0-e214-4fc2-b7d1-3b5762712dbb",
   "metadata": {},
   "outputs": [],
   "source": [
    "Res_rt.save('Res_rt.h5')"
   ]
  },
  {
   "cell_type": "code",
   "execution_count": null,
   "id": "2ae2fe56-0382-41d5-801f-87f508fd87bd",
   "metadata": {},
   "outputs": [],
   "source": [
    "# Ploting graph of Loss and val_loss\n",
    "\n",
    "plt.figure(figsize=(10, 6))\n",
    "plt.plot(Model_Res_rt.history['loss'], label='Training Loss')\n",
    "plt.plot(Model_Res_rt.history['val_loss'], label='Validation Loss')\n",
    "plt.xlabel('Epochs')\n",
    "plt.ylabel('Loss')\n",
    "plt.title('Training and Validation Loss')\n",
    "plt.legend()\n",
    "plt.grid(True)\n",
    "plt.show()"
   ]
  },
  {
   "cell_type": "code",
   "execution_count": null,
   "id": "9b10693f-a4a4-4f1a-bcaf-198291408165",
   "metadata": {},
   "outputs": [],
   "source": [
    "test_loss_rt_Res, test_accuracy_rt_Res = Res_rt.evaluate(test_generator_rt)\n",
    "print(f'Test Accuracy: {test_accuracy_rt_Res}')"
   ]
  },
  {
   "cell_type": "code",
   "execution_count": null,
   "id": "43df4897-294c-4f00-9bc4-5a61f3ad85f0",
   "metadata": {},
   "outputs": [],
   "source": [
    "test_generator_rt.reset()\n",
    "predictions_rt = Res_rt.predict(test_generator_rt)\n",
    "predicted_classes = (predictions_rt > 0.5).astype(int)  \n",
    "\n",
    "true_classes = test_generator_rt.classes\n",
    "class_labels = list(test_generator_rt.class_indices.keys())\n",
    "conf_matrix = confusion_matrix(true_classes, predicted_classes)\n",
    "print(classification_report(true_classes, predicted_classes, target_names=class_labels))\n",
    "\n",
    "plt.figure(figsize=(8, 6))\n",
    "sns.heatmap(conf_matrix, annot=True, fmt='d', cmap='Blues', xticklabels=class_labels, yticklabels=class_labels)\n",
    "plt.xlabel('Predicted')\n",
    "plt.ylabel('True')\n",
    "plt.title('Confusion Matrix')\n",
    "plt.show()"
   ]
  },
  {
   "cell_type": "markdown",
   "id": "10476e51-d6ce-4b50-a045-6631acee23ad",
   "metadata": {},
   "source": [
    "ResNet50 - Realistic_tempering_Dataset_Trainable_False"
   ]
  },
  {
   "cell_type": "code",
   "execution_count": null,
   "id": "ca4ecba5-b86d-4b4c-a0e4-3e9c82a03e20",
   "metadata": {},
   "outputs": [],
   "source": [
    "Res_rt_False = ResNet50(\n",
    "    weights='imagenet',\n",
    "    include_top = False,\n",
    "    input_shape=image_size_rt\n",
    ")\n",
    "Res_rt_False.trainable= False"
   ]
  },
  {
   "cell_type": "code",
   "execution_count": null,
   "id": "5a1f3a39-eb5a-4917-aee0-c6634c46c41f",
   "metadata": {},
   "outputs": [],
   "source": [
    "Res_rt_f = tf.keras.models.Sequential()\n",
    "\n",
    "# Convolutional Layer from VGG16 True\n",
    "Res_rt_f.add(Res_rt_False)\n",
    "\n",
    "# Flattening\n",
    "Res_rt_f.add(tf.keras.layers.Flatten())\n",
    "\n",
    "# Full Connection\n",
    "Res_rt_f.add(tf.keras.layers.Dense(units=128, activation='relu'))\n",
    "\n",
    "# Output Layer\n",
    "Res_rt_f.add(tf.keras.layers.Dense(units=1, activation='sigmoid'))\n",
    "\n",
    "# Compiling the CNN\n",
    "Res_rt_f.compile(optimizer='adam', loss='binary_crossentropy', metrics=['accuracy'])\n",
    "\n",
    "# Summary of the model\n",
    "Res_rt_f.summary()"
   ]
  },
  {
   "cell_type": "code",
   "execution_count": null,
   "id": "ba6f362f-cb00-4cb5-9d09-2e6685a03884",
   "metadata": {},
   "outputs": [],
   "source": [
    "Model_Res_rt_f=Res_rt_f.fit(train_generator_rt, epochs=200, validation_data=validation_generator_rt)"
   ]
  },
  {
   "cell_type": "code",
   "execution_count": null,
   "id": "9becf481-4f81-4950-8e4f-ab397953adb6",
   "metadata": {},
   "outputs": [],
   "source": [
    "Res_rt_f.save('Res_rt_f.h5')"
   ]
  },
  {
   "cell_type": "code",
   "execution_count": null,
   "id": "20030e02-98bc-4041-a3a9-bf7cc4db04e2",
   "metadata": {},
   "outputs": [],
   "source": [
    "# Ploting graph of Loss and val_loss\n",
    "\n",
    "plt.figure(figsize=(10, 6))\n",
    "plt.plot(Model_Res_rt_f.history['loss'], label='Training Loss')\n",
    "plt.plot(Model_Res_rt_f.history['val_loss'], label='Validation Loss')\n",
    "plt.xlabel('Epochs')\n",
    "plt.ylabel('Loss')\n",
    "plt.title('Training and Validation Loss')\n",
    "plt.legend()\n",
    "plt.grid(True)\n",
    "plt.show()"
   ]
  },
  {
   "cell_type": "code",
   "execution_count": null,
   "id": "e1beca04-458d-4d38-a5c5-4990c61fa882",
   "metadata": {},
   "outputs": [],
   "source": [
    "test_loss_rt_Res_f, test_accuracy_rt_Res_f = Res_rt_f.evaluate(test_generator_rt)\n",
    "print(f'Test Accuracy: {test_accuracy_rt_Res_f}')"
   ]
  },
  {
   "cell_type": "code",
   "execution_count": null,
   "id": "bd645dd3-7e43-41de-b827-b89214dc44f5",
   "metadata": {},
   "outputs": [],
   "source": [
    "test_generator_rt.reset()\n",
    "predictions_rt_f = Res_rt_f.predict(test_generator_rt)\n",
    "predicted_classes_f = (predictions_rt_f > 0.5).astype(int)  \n",
    "\n",
    "true_classes = test_generator_rt.classes\n",
    "class_labels = list(test_generator_rt.class_indices.keys())\n",
    "conf_matrix = confusion_matrix(true_classes, predicted_classes_f)\n",
    "print(classification_report(true_classes, predicted_classes_f, target_names=class_labels))\n",
    "\n",
    "plt.figure(figsize=(8, 6))\n",
    "sns.heatmap(conf_matrix, annot=True, fmt='d', cmap='Blues', xticklabels=class_labels, yticklabels=class_labels)\n",
    "plt.xlabel('Predicted')\n",
    "plt.ylabel('True')\n",
    "plt.title('Confusion Matrix')\n",
    "plt.show()"
   ]
  },
  {
   "cell_type": "code",
   "execution_count": null,
   "id": "b6ed3327-5d23-419c-9380-ed655c051b37",
   "metadata": {},
   "outputs": [],
   "source": [
    "print(\"Resnet realistic tempering True/False completed\")"
   ]
  },
  {
   "cell_type": "markdown",
   "id": "7bb7b70c-2059-4e47-9808-487df3dfd959",
   "metadata": {},
   "source": [
    "#From here we are going to train all the datasets on MobileNetV3Large"
   ]
  },
  {
   "cell_type": "markdown",
   "id": "a1fd661c-ca72-41cb-8bc1-ce781fccc093",
   "metadata": {},
   "source": [
    "Mobilenetv3large - Coco_Glide_Dataset_Trainable_true"
   ]
  },
  {
   "cell_type": "code",
   "execution_count": null,
   "id": "a99bb38f-c90e-4cee-932a-f794d43e4114",
   "metadata": {},
   "outputs": [],
   "source": [
    "from tensorflow.keras.applications import MobileNetV3Large"
   ]
  },
  {
   "cell_type": "code",
   "execution_count": null,
   "id": "e03f876d-2ebe-4b8e-9248-0a22d8b83277",
   "metadata": {},
   "outputs": [],
   "source": [
    "Mobi_True = MobileNetV3Large(\n",
    "    weights='imagenet',\n",
    "    include_top = False,\n",
    "    input_shape=image_size_coco\n",
    ")\n",
    "Mobi_True.trainable= True"
   ]
  },
  {
   "cell_type": "code",
   "execution_count": null,
   "id": "5bdba9c7-cf3a-4626-b82e-023972ea9d6d",
   "metadata": {},
   "outputs": [],
   "source": [
    "Mobi_coco = tf.keras.models.Sequential()\n",
    "\n",
    "# Convolutional Layer from VGG16 True\n",
    "Mobi_coco.add(Mobi_True)\n",
    "\n",
    "# Flattening\n",
    "Mobi_coco.add(tf.keras.layers.Flatten())\n",
    "\n",
    "# Full Connection\n",
    "Mobi_coco.add(tf.keras.layers.Dense(units=128, activation='relu'))\n",
    "\n",
    "# Output Layer\n",
    "Mobi_coco.add(tf.keras.layers.Dense(units=1, activation='sigmoid'))\n",
    "\n",
    "# Compiling the CNN\n",
    "Mobi_coco.compile(optimizer='adam', loss='binary_crossentropy', metrics=['accuracy'])\n",
    "\n",
    "# Summary of the model\n",
    "Mobi_coco.summary()"
   ]
  },
  {
   "cell_type": "code",
   "execution_count": null,
   "id": "fbffb07d-eea6-4d95-bc24-fca227d56c5f",
   "metadata": {},
   "outputs": [],
   "source": [
    "# Model Mobinet training on CocoGlide\n",
    "\n",
    "Model_Mobi_coco=Mobi_coco.fit(train_generator_coco, epochs=200, validation_data=validation_generator_coco)"
   ]
  },
  {
   "cell_type": "code",
   "execution_count": null,
   "id": "33c15fa0-8fe2-4097-b2ca-9577d9832b74",
   "metadata": {},
   "outputs": [],
   "source": [
    "Mobi_coco.save('Mobi_coco.h5')"
   ]
  },
  {
   "cell_type": "code",
   "execution_count": null,
   "id": "54ee90a3-5b33-483d-8f26-7423403788f9",
   "metadata": {},
   "outputs": [],
   "source": [
    "# Ploting graph of Loss and val_loss\n",
    "\n",
    "plt.figure(figsize=(10, 6))\n",
    "plt.plot(Model_Mobi_coco.history['loss'], label='Training Loss')\n",
    "plt.plot(Model_Mobi_coco.history['val_loss'], label='Validation Loss')\n",
    "plt.xlabel('Epochs')\n",
    "plt.ylabel('Loss')\n",
    "plt.title('Training and Validation Loss')\n",
    "plt.legend()\n",
    "plt.grid(True)\n",
    "plt.show()"
   ]
  },
  {
   "cell_type": "code",
   "execution_count": null,
   "id": "9caa4131-b146-4be3-a1e0-7f8f0c511554",
   "metadata": {},
   "outputs": [],
   "source": [
    "test_loss_coco_Mobi, test_accuracy_coco_Mobi = Mobi_coco.evaluate(test_generator_coco)\n",
    "print(f'Test Accuracy: {test_accuracy_coco_Mobi}')"
   ]
  },
  {
   "cell_type": "code",
   "execution_count": null,
   "id": "0f0663e5-2bee-42ec-b8b2-d2840037236c",
   "metadata": {},
   "outputs": [],
   "source": [
    "test_generator_coco.reset()\n",
    "predictions_coco = Mobi_coco.predict(test_generator_coco)\n",
    "predicted_classes = (predictions_coco > 0.5).astype(int)  \n",
    "\n",
    "true_classes = test_generator_coco.classes\n",
    "class_labels = list(test_generator_coco.class_indices.keys())\n",
    "conf_matrix = confusion_matrix(true_classes, predicted_classes)\n",
    "print(classification_report(true_classes, predicted_classes, target_names=class_labels))\n",
    "\n",
    "plt.figure(figsize=(8, 6))\n",
    "sns.heatmap(conf_matrix, annot=True, fmt='d', cmap='Blues', xticklabels=class_labels, yticklabels=class_labels)\n",
    "plt.xlabel('Predicted')\n",
    "plt.ylabel('True')\n",
    "plt.title('Confusion Matrix')\n",
    "plt.show()"
   ]
  },
  {
   "cell_type": "markdown",
   "id": "e399e200-f69b-47bd-8019-e048295a4916",
   "metadata": {},
   "source": [
    "MobileNet - Coco_Glide_Dataset_Trainable_False"
   ]
  },
  {
   "cell_type": "code",
   "execution_count": null,
   "id": "34e02266-5fd9-43bc-9df8-22f094dcf272",
   "metadata": {},
   "outputs": [],
   "source": [
    "Mobi_False = MobileNetV3Large(\n",
    "    weights='imagenet',\n",
    "    include_top = False,\n",
    "    input_shape=image_size_coco\n",
    ")\n",
    "Mobi_False.trainable= False"
   ]
  },
  {
   "cell_type": "code",
   "execution_count": null,
   "id": "ca260ccc-f0ea-4916-bd9a-aed23cf1119c",
   "metadata": {},
   "outputs": [],
   "source": [
    "Mobi_coco_f = tf.keras.models.Sequential()\n",
    "\n",
    "# Convolutional Layer from VGG16 True\n",
    "Mobi_coco_f.add(Mobi_False)\n",
    "\n",
    "# Flattening\n",
    "Mobi_coco_f.add(tf.keras.layers.Flatten())\n",
    "\n",
    "# Full Connection\n",
    "Mobi_coco_f.add(tf.keras.layers.Dense(units=128, activation='relu'))\n",
    "\n",
    "# Output Layer\n",
    "Mobi_coco_f.add(tf.keras.layers.Dense(units=1, activation='sigmoid'))\n",
    "\n",
    "# Compiling the CNN\n",
    "Mobi_coco_f.compile(optimizer='adam', loss='binary_crossentropy', metrics=['accuracy'])\n",
    "\n",
    "# Summary of the model\n",
    "Mobi_coco_f.summary()"
   ]
  },
  {
   "cell_type": "code",
   "execution_count": null,
   "id": "f80763ab-48b3-47a4-a683-9f8b0d38e594",
   "metadata": {},
   "outputs": [],
   "source": [
    "# Model Resnet50 training on CocoGlide\n",
    "\n",
    "Model_Mobi_coco_f=Mobi_coco_f.fit(train_generator_coco, epochs=200, validation_data=validation_generator_coco)"
   ]
  },
  {
   "cell_type": "code",
   "execution_count": null,
   "id": "11bdb989-6634-4958-923b-c189e245b38c",
   "metadata": {},
   "outputs": [],
   "source": [
    "Mobi_coco_f.save('Mobi_coco_f.h5')"
   ]
  },
  {
   "cell_type": "code",
   "execution_count": null,
   "id": "a35c95a7-6135-498a-a563-6e829e1a307e",
   "metadata": {},
   "outputs": [],
   "source": [
    "# Ploting graph of Loss and val_loss\n",
    "\n",
    "plt.figure(figsize=(10, 6))\n",
    "plt.plot(Model_Mobi_coco_f.history['loss'], label='Training Loss')\n",
    "plt.plot(Model_Mobi_coco_f.history['val_loss'], label='Validation Loss')\n",
    "plt.xlabel('Epochs')\n",
    "plt.ylabel('Loss')\n",
    "plt.title('Training and Validation Loss')\n",
    "plt.legend()\n",
    "plt.grid(True)\n",
    "plt.show()"
   ]
  },
  {
   "cell_type": "code",
   "execution_count": null,
   "id": "77bc702f-30fb-448b-8637-4dc5bf808a48",
   "metadata": {},
   "outputs": [],
   "source": [
    "test_loss_coco_Mobi_f, test_accuracy_coco_Mobi_f = Mobi_coco_f.evaluate(test_generator_coco)\n",
    "print(f'Test Accuracy: {test_accuracy_coco_Mobi_f}')"
   ]
  },
  {
   "cell_type": "code",
   "execution_count": null,
   "id": "729b8857-0b3b-458e-8c6f-b3f4f4d75cd5",
   "metadata": {},
   "outputs": [],
   "source": [
    "test_generator_coco.reset()\n",
    "predictions_coco_f = Mobi_coco_f.predict(test_generator_coco)\n",
    "predicted_classes_f = (predictions_coco_f > 0.5).astype(int)  \n",
    "\n",
    "true_classes = test_generator_coco.classes\n",
    "class_labels = list(test_generator_coco.class_indices.keys())\n",
    "conf_matrix = confusion_matrix(true_classes, predicted_classes_f)\n",
    "print(classification_report(true_classes, predicted_classes_f, target_names=class_labels))\n",
    "\n",
    "plt.figure(figsize=(8, 6))\n",
    "sns.heatmap(conf_matrix, annot=True, fmt='d', cmap='Blues', xticklabels=class_labels, yticklabels=class_labels)\n",
    "plt.xlabel('Predicted')\n",
    "plt.ylabel('True')\n",
    "plt.title('Confusion Matrix')\n",
    "plt.show()"
   ]
  },
  {
   "cell_type": "code",
   "execution_count": null,
   "id": "9215575e-6e2c-4edc-afcd-d62852350ba7",
   "metadata": {},
   "outputs": [],
   "source": [
    "print(\"Mobilenet Coco-glide True/False completed\")"
   ]
  },
  {
   "cell_type": "markdown",
   "id": "d8f2d0d6-e788-4525-8079-253f4aa6c5ee",
   "metadata": {},
   "source": [
    "MobileNet - IMD2020_Dataset_Trainable_True"
   ]
  },
  {
   "cell_type": "code",
   "execution_count": null,
   "id": "dea2771b-0fdf-4103-ad7f-5a94f8812f9e",
   "metadata": {},
   "outputs": [],
   "source": [
    "Mobi_imd_True = MobileNetV3Large(\n",
    "    weights='imagenet',\n",
    "    include_top = False,\n",
    "    input_shape=image_size_imd\n",
    ")\n",
    "Mobi_imd_True.trainable= True"
   ]
  },
  {
   "cell_type": "code",
   "execution_count": null,
   "id": "8a3e8d79-5bae-469c-904c-3dba8b565610",
   "metadata": {},
   "outputs": [],
   "source": [
    "Mobi_imd = tf.keras.models.Sequential()\n",
    "\n",
    "# Convolutional Layer from VGG16 True\n",
    "Mobi_imd.add(Mobi_imd_True)\n",
    "\n",
    "# Flattening\n",
    "Mobi_imd.add(tf.keras.layers.Flatten())\n",
    "\n",
    "# Full Connection\n",
    "Mobi_imd.add(tf.keras.layers.Dense(units=128, activation='relu'))\n",
    "\n",
    "# Output Layer\n",
    "Mobi_imd.add(tf.keras.layers.Dense(units=1, activation='sigmoid'))\n",
    "\n",
    "# Compiling the CNN\n",
    "Mobi_imd.compile(optimizer='adam', loss='binary_crossentropy', metrics=['accuracy'])\n",
    "\n",
    "# Summary of the model\n",
    "Mobi_imd.summary()"
   ]
  },
  {
   "cell_type": "code",
   "execution_count": null,
   "id": "e1d1b097-bd65-4484-bf39-b9d183aec657",
   "metadata": {},
   "outputs": [],
   "source": [
    "# Model VGG16 training on imd2020\n",
    "\n",
    "Model_Mobi_imd=Mobi_imd.fit(train_generator_imd, epochs=200, validation_data=validation_generator_imd)"
   ]
  },
  {
   "cell_type": "code",
   "execution_count": null,
   "id": "3730d40c-49fa-4fe7-a495-77029a4da3f5",
   "metadata": {},
   "outputs": [],
   "source": [
    "Mobi_imd.save('Mobi_imd.h5')"
   ]
  },
  {
   "cell_type": "code",
   "execution_count": null,
   "id": "70db0b0c-fd62-42e8-b25a-dc1f20b58fd3",
   "metadata": {},
   "outputs": [],
   "source": [
    "# Ploting graph of Loss and val_loss\n",
    "\n",
    "plt.figure(figsize=(10, 6))\n",
    "plt.plot(Model_Mobi_imd.history['loss'], label='Training Loss')\n",
    "plt.plot(Model_Mobi_imd.history['val_loss'], label='Validation Loss')\n",
    "plt.xlabel('Epochs')\n",
    "plt.ylabel('Loss')\n",
    "plt.title('Training and Validation Loss')\n",
    "plt.legend()\n",
    "plt.grid(True)\n",
    "plt.show()"
   ]
  },
  {
   "cell_type": "code",
   "execution_count": null,
   "id": "0cc0a434-2530-449d-bd97-02b4e2d78aee",
   "metadata": {},
   "outputs": [],
   "source": [
    "test_loss_imd_Mobi, test_accuracy_imd_Mobi = Mobi_imd.evaluate(test_generator_imd)\n",
    "print(f'Test Accuracy: {test_accuracy_imd_Mobi}')"
   ]
  },
  {
   "cell_type": "code",
   "execution_count": null,
   "id": "35cf522e-0aa2-4cf7-8d41-a849096250ea",
   "metadata": {},
   "outputs": [],
   "source": [
    "test_generator_imd.reset()\n",
    "predictions_imd = Mobi_imd.predict(test_generator_imd)\n",
    "predicted_classes = (predictions_imd > 0.5).astype(int)  \n",
    "\n",
    "true_classes = test_generator_imd.classes\n",
    "class_labels = list(test_generator_imd.class_indices.keys())\n",
    "conf_matrix = confusion_matrix(true_classes, predicted_classes)\n",
    "print(classification_report(true_classes, predicted_classes, target_names=class_labels))\n",
    "\n",
    "plt.figure(figsize=(8, 6))\n",
    "sns.heatmap(conf_matrix, annot=True, fmt='d', cmap='Blues', xticklabels=class_labels, yticklabels=class_labels)\n",
    "plt.xlabel('Predicted')\n",
    "plt.ylabel('True')\n",
    "plt.title('Confusion Matrix')\n",
    "plt.show()"
   ]
  },
  {
   "cell_type": "markdown",
   "id": "056f86eb-e8b1-497a-894a-0bf1ca541e9e",
   "metadata": {},
   "source": [
    "ResNet50- IMD2020_Dataset_Trainable_False"
   ]
  },
  {
   "cell_type": "code",
   "execution_count": null,
   "id": "306a27e2-0d84-4ff0-9b2e-70cd64fdb693",
   "metadata": {},
   "outputs": [],
   "source": [
    "Mobi_imd_False = MobileNetV3Large(\n",
    "    weights='imagenet',\n",
    "    include_top = False,\n",
    "    input_shape=image_size_imd\n",
    ")\n",
    "Mobi_imd_False.trainable= False"
   ]
  },
  {
   "cell_type": "code",
   "execution_count": null,
   "id": "971b9748-4773-4aba-97c1-24f4d0bd0a1d",
   "metadata": {},
   "outputs": [],
   "source": [
    "Mobi_imd_f = tf.keras.models.Sequential()\n",
    "\n",
    "# Convolutional Layer from VGG16 True\n",
    "Mobi_imd_f.add(Mobi_imd_False)\n",
    "\n",
    "# Flattening\n",
    "Mobi_imd_f.add(tf.keras.layers.Flatten())\n",
    "\n",
    "# Full Connection\n",
    "Mobi_imd_f.add(tf.keras.layers.Dense(units=128, activation='relu'))\n",
    "\n",
    "# Output Layer\n",
    "Mobi_imd_f.add(tf.keras.layers.Dense(units=1, activation='sigmoid'))\n",
    "\n",
    "# Compiling the CNN\n",
    "Mobi_imd_f.compile(optimizer='adam', loss='binary_crossentropy', metrics=['accuracy'])\n",
    "\n",
    "# Summary of the model\n",
    "Mobi_imd_f.summary()"
   ]
  },
  {
   "cell_type": "code",
   "execution_count": null,
   "id": "9f1cc581-3b7a-4cdb-a1e5-09720f1d9198",
   "metadata": {},
   "outputs": [],
   "source": [
    "# Model ResNet50 training on imd2020\n",
    "\n",
    "Model_Mobi_imd_f=Mobi_imd_f.fit(train_generator_imd, epochs=200, validation_data=validation_generator_imd)"
   ]
  },
  {
   "cell_type": "code",
   "execution_count": null,
   "id": "ae533414-32e5-45aa-a0b8-1ad1569cf3c4",
   "metadata": {},
   "outputs": [],
   "source": [
    "Mobi_imd_f.save('Mobi_imd_f.h5')"
   ]
  },
  {
   "cell_type": "code",
   "execution_count": null,
   "id": "633e711d-4a2b-4548-96be-508ccc4f6030",
   "metadata": {},
   "outputs": [],
   "source": [
    "# Ploting graph of Loss and val_loss\n",
    "\n",
    "plt.figure(figsize=(10, 6))\n",
    "plt.plot(Model_Mobi_imd_f.history['loss'], label='Training Loss')\n",
    "plt.plot(Model_Mobi_imd_f.history['val_loss'], label='Validation Loss')\n",
    "plt.xlabel('Epochs')\n",
    "plt.ylabel('Loss')\n",
    "plt.title('Training and Validation Loss')\n",
    "plt.legend()\n",
    "plt.grid(True)\n",
    "plt.show()"
   ]
  },
  {
   "cell_type": "code",
   "execution_count": null,
   "id": "c7f395ff-32c9-4884-acf7-f6b95d456324",
   "metadata": {},
   "outputs": [],
   "source": [
    "test_loss_imd_Mobi_f, test_accuracy_imd_Mobi_f = Mobi_imd_f.evaluate(test_generator_imd)\n",
    "print(f'Test Accuracy: {test_accuracy_imd_Mobi_f}')"
   ]
  },
  {
   "cell_type": "code",
   "execution_count": null,
   "id": "6f6f94da-ce93-4eb9-8e9a-5b2c7c499304",
   "metadata": {},
   "outputs": [],
   "source": [
    "test_generator_imd.reset()\n",
    "predictions_imd_f = Mobi_imd_f.predict(test_generator_imd)\n",
    "predicted_classes_f = (predictions_imd_f > 0.5).astype(int)  \n",
    "\n",
    "true_classes = test_generator_imd.classes\n",
    "class_labels = list(test_generator_imd.class_indices.keys())\n",
    "conf_matrix = confusion_matrix(true_classes, predicted_classes_f)\n",
    "print(classification_report(true_classes, predicted_classes_f, target_names=class_labels))\n",
    "\n",
    "plt.figure(figsize=(8, 6))\n",
    "sns.heatmap(conf_matrix, annot=True, fmt='d', cmap='Blues', xticklabels=class_labels, yticklabels=class_labels)\n",
    "plt.xlabel('Predicted')\n",
    "plt.ylabel('True')\n",
    "plt.title('Confusion Matrix')\n",
    "plt.show()"
   ]
  },
  {
   "cell_type": "code",
   "execution_count": null,
   "id": "d00edcbd-7a52-4de8-a607-5bb74827502b",
   "metadata": {},
   "outputs": [],
   "source": [
    "print(\"Mobilenet imd2020 True/False completed\")"
   ]
  },
  {
   "cell_type": "markdown",
   "id": "5d0e9440-b79c-48a1-93b2-7d6ec02c3524",
   "metadata": {},
   "source": [
    "MobileNet - MISD_Dataset_Trainable_True"
   ]
  },
  {
   "cell_type": "code",
   "execution_count": null,
   "id": "2fab5f2b-23ab-4367-b6ed-c36f21353a2f",
   "metadata": {},
   "outputs": [],
   "source": [
    "Mobi_misd_True = MobileNetV3Large(\n",
    "    weights='imagenet',\n",
    "    include_top = False,\n",
    "    input_shape=image_size_misd\n",
    ")\n",
    "Mobi_misd_True.trainable= True"
   ]
  },
  {
   "cell_type": "code",
   "execution_count": null,
   "id": "dd22de88-4300-4c94-96e6-964ade636369",
   "metadata": {},
   "outputs": [],
   "source": [
    "Mobi_misd = tf.keras.models.Sequential()\n",
    "\n",
    "# Convolutional Layer from VGG16 True\n",
    "Mobi_misd.add(Mobi_misd_True)\n",
    "\n",
    "# Flattening\n",
    "Mobi_misd.add(tf.keras.layers.Flatten())\n",
    "\n",
    "# Full Connection\n",
    "Mobi_misd.add(tf.keras.layers.Dense(units=128, activation='relu'))\n",
    "\n",
    "# Output Layer\n",
    "Mobi_misd.add(tf.keras.layers.Dense(units=1, activation='sigmoid'))\n",
    "\n",
    "# Compiling the CNN\n",
    "Mobi_misd.compile(optimizer='adam', loss='binary_crossentropy', metrics=['accuracy'])\n",
    "\n",
    "# Summary of the model\n",
    "Mobi_misd.summary()"
   ]
  },
  {
   "cell_type": "code",
   "execution_count": null,
   "id": "4692bc9b-414e-42ce-8bcd-5ecdcd4cf415",
   "metadata": {},
   "outputs": [],
   "source": [
    "# Model VGG16 training on imd2020\n",
    "\n",
    "Model_Mobi_misd=Mobi_misd.fit(train_generator_misd, epochs=200, validation_data=validation_generator_misd)"
   ]
  },
  {
   "cell_type": "code",
   "execution_count": null,
   "id": "8585ee64-3e24-48bc-aee5-02eae2e2abc4",
   "metadata": {},
   "outputs": [],
   "source": [
    "Mobi_misd.save('Mobi_misd.h5')"
   ]
  },
  {
   "cell_type": "code",
   "execution_count": null,
   "id": "1c88a5f6-06d6-4c07-b80f-77094a0b4867",
   "metadata": {},
   "outputs": [],
   "source": [
    "# Ploting graph of Loss and val_loss\n",
    "\n",
    "plt.figure(figsize=(10, 6))\n",
    "plt.plot(Model_Mobi_misd.history['loss'], label='Training Loss')\n",
    "plt.plot(Model_Mobi_misd.history['val_loss'], label='Validation Loss')\n",
    "plt.xlabel('Epochs')\n",
    "plt.ylabel('Loss')\n",
    "plt.title('Training and Validation Loss')\n",
    "plt.legend()\n",
    "plt.grid(True)\n",
    "plt.show()"
   ]
  },
  {
   "cell_type": "code",
   "execution_count": null,
   "id": "142bec37-4b69-46de-859e-476dc1755da2",
   "metadata": {},
   "outputs": [],
   "source": [
    "test_loss_misd_Mobi, test_accuracy_misd_Mobi = Mobi_misd.evaluate(test_generator_misd)\n",
    "print(f'Test Accuracy: {test_accuracy_misd_Mobi}')"
   ]
  },
  {
   "cell_type": "code",
   "execution_count": null,
   "id": "6cb0b2c6-3aca-4644-a5b8-f2d685fd5220",
   "metadata": {},
   "outputs": [],
   "source": [
    "test_generator_misd.reset()\n",
    "predictions_misd = Mobi_misd.predict(test_generator_misd)\n",
    "predicted_classes = (predictions_misd > 0.5).astype(int)  \n",
    "\n",
    "true_classes = test_generator_misd.classes\n",
    "class_labels = list(test_generator_misd.class_indices.keys())\n",
    "conf_matrix = confusion_matrix(true_classes, predicted_classes)\n",
    "print(classification_report(true_classes, predicted_classes, target_names=class_labels))\n",
    "\n",
    "plt.figure(figsize=(8, 6))\n",
    "sns.heatmap(conf_matrix, annot=True, fmt='d', cmap='Blues', xticklabels=class_labels, yticklabels=class_labels)\n",
    "plt.xlabel('Predicted')\n",
    "plt.ylabel('True')\n",
    "plt.title('Confusion Matrix')\n",
    "plt.show()"
   ]
  },
  {
   "cell_type": "markdown",
   "id": "bb79bdc8-556f-40a2-9b1a-9386365c7d84",
   "metadata": {},
   "source": [
    "MobileNet - MISD_Dataset_Trainable_False"
   ]
  },
  {
   "cell_type": "code",
   "execution_count": null,
   "id": "72bacce6-830f-43f2-8ee0-9da666a65fda",
   "metadata": {},
   "outputs": [],
   "source": [
    "Mobi_misd_False = MobileNetV3Large(\n",
    "    weights='imagenet',\n",
    "    include_top = False,\n",
    "    input_shape=image_size_misd\n",
    ")\n",
    "Mobi_misd_False.trainable= False"
   ]
  },
  {
   "cell_type": "code",
   "execution_count": null,
   "id": "46ebb92d-0617-4d62-80d9-1c467ee8e423",
   "metadata": {},
   "outputs": [],
   "source": [
    "Mobi_misd_f = tf.keras.models.Sequential()\n",
    "\n",
    "# Convolutional Layer from VGG16 True\n",
    "Mobi_misd_f.add(Mobi_misd_False)\n",
    "\n",
    "# Flattening\n",
    "Mobi_misd_f.add(tf.keras.layers.Flatten())\n",
    "\n",
    "# Full Connection\n",
    "Mobi_misd_f.add(tf.keras.layers.Dense(units=128, activation='relu'))\n",
    "\n",
    "# Output Layer\n",
    "Mobi_misd_f.add(tf.keras.layers.Dense(units=1, activation='sigmoid'))\n",
    "\n",
    "# Compiling the CNN\n",
    "Mobi_misd_f.compile(optimizer='adam', loss='binary_crossentropy', metrics=['accuracy'])\n",
    "\n",
    "# Summary of the model\n",
    "Mobi_misd_f.summary()"
   ]
  },
  {
   "cell_type": "code",
   "execution_count": null,
   "id": "60eb7d29-201d-4006-83ea-d0df60a69dbe",
   "metadata": {},
   "outputs": [],
   "source": [
    "# Model VGG16 training on MISD\n",
    "\n",
    "Model_Mobi_misd_f=Mobi_misd_f.fit(train_generator_misd, epochs=200, validation_data=validation_generator_misd)"
   ]
  },
  {
   "cell_type": "code",
   "execution_count": null,
   "id": "dc21f176-0507-4aa5-86b5-e7e1fa75432a",
   "metadata": {},
   "outputs": [],
   "source": [
    "Mobi_misd_f.save('Mobi_misd_f.h5')"
   ]
  },
  {
   "cell_type": "code",
   "execution_count": null,
   "id": "2c3e1e97-c692-4323-8790-7d0cd23c845e",
   "metadata": {},
   "outputs": [],
   "source": [
    "# Ploting graph of Loss and val_loss\n",
    "\n",
    "plt.figure(figsize=(10, 6))\n",
    "plt.plot(Model_Mobi_misd_f.history['loss'], label='Training Loss')\n",
    "plt.plot(Model_Mobi_misd_f.history['val_loss'], label='Validation Loss')\n",
    "plt.xlabel('Epochs')\n",
    "plt.ylabel('Loss')\n",
    "plt.title('Training and Validation Loss')\n",
    "plt.legend()\n",
    "plt.grid(True)\n",
    "plt.show()"
   ]
  },
  {
   "cell_type": "code",
   "execution_count": null,
   "id": "7c2db89a-fc05-4cf3-ad7c-0516160a85a9",
   "metadata": {},
   "outputs": [],
   "source": [
    "test_loss_misd_Mobi_f, test_accuracy_misd_Mobi_f = Mobi_misd_f.evaluate(test_generator_misd)\n",
    "print(f'Test Accuracy: {test_accuracy_misd_Mobi_f}')"
   ]
  },
  {
   "cell_type": "code",
   "execution_count": null,
   "id": "5399f7f0-8bba-41d4-930f-4b3fb7193f45",
   "metadata": {},
   "outputs": [],
   "source": [
    "test_generator_misd.reset()\n",
    "predictions_misd_f = Mobi_misd_f.predict(test_generator_misd)\n",
    "predicted_classes_f = (predictions_misd_f > 0.5).astype(int)  \n",
    "\n",
    "true_classes = test_generator_misd.classes\n",
    "class_labels = list(test_generator_misd.class_indices.keys())\n",
    "conf_matrix = confusion_matrix(true_classes, predicted_classes_f)\n",
    "print(classification_report(true_classes, predicted_classes_f, target_names=class_labels))\n",
    "\n",
    "plt.figure(figsize=(8, 6))\n",
    "sns.heatmap(conf_matrix, annot=True, fmt='d', cmap='Blues', xticklabels=class_labels, yticklabels=class_labels)\n",
    "plt.xlabel('Predicted')\n",
    "plt.ylabel('True')\n",
    "plt.title('Confusion Matrix')\n",
    "plt.show()"
   ]
  },
  {
   "cell_type": "code",
   "execution_count": null,
   "id": "d69d5d82-ea44-4dfd-a358-0fc7bad97e65",
   "metadata": {},
   "outputs": [],
   "source": [
    "print(\"Mobilenet Misd True/False completed\")"
   ]
  },
  {
   "cell_type": "markdown",
   "id": "cfbaa38b-d6a6-43ae-b191-b769169343af",
   "metadata": {},
   "source": [
    "MobileNetV3Large - ComoFod_small_Dataset_Trainable_True"
   ]
  },
  {
   "cell_type": "code",
   "execution_count": null,
   "id": "a2804d41-233f-48ec-b976-fb6b635722cc",
   "metadata": {},
   "outputs": [],
   "source": [
    "Mobi_como_True = MobileNetV3Large(\n",
    "    weights='imagenet',\n",
    "    include_top = False,\n",
    "    input_shape=image_size_como\n",
    ")\n",
    "Mobi_como_True.trainable= True"
   ]
  },
  {
   "cell_type": "code",
   "execution_count": null,
   "id": "b4358340-7d97-400b-8ba8-7848102f8430",
   "metadata": {},
   "outputs": [],
   "source": [
    "Mobi_como = tf.keras.models.Sequential()\n",
    "\n",
    "# Convolutional Layer from VGG16 True\n",
    "Mobi_como.add(Mobi_como_True)\n",
    "\n",
    "# Flattening\n",
    "Mobi_como.add(tf.keras.layers.Flatten())\n",
    "\n",
    "# Full Connection\n",
    "Mobi_como.add(tf.keras.layers.Dense(units=128, activation='relu'))\n",
    "\n",
    "# Output Layer\n",
    "Mobi_como.add(tf.keras.layers.Dense(units=1, activation='sigmoid'))\n",
    "\n",
    "# Compiling the CNN\n",
    "Mobi_como.compile(optimizer='adam', loss='binary_crossentropy', metrics=['accuracy'])\n",
    "\n",
    "# Summary of the model\n",
    "Mobi_como.summary()"
   ]
  },
  {
   "cell_type": "code",
   "execution_count": null,
   "id": "aa04370f-357b-4ee3-bc28-5944a8784be2",
   "metadata": {},
   "outputs": [],
   "source": [
    "# Model ResNet50 training on ComoFod-small\n",
    "\n",
    "Model_Mobi_como=Mobi_como.fit(train_generator_como, epochs=200, validation_data=validation_generator_como)"
   ]
  },
  {
   "cell_type": "code",
   "execution_count": null,
   "id": "aeef3fb5-11bb-4031-a502-417959d8f8f3",
   "metadata": {},
   "outputs": [],
   "source": [
    "Mobi_como.save('Mobi_como.h5')"
   ]
  },
  {
   "cell_type": "code",
   "execution_count": null,
   "id": "f37d7552-f495-4bb6-983a-42e205421fad",
   "metadata": {},
   "outputs": [],
   "source": [
    "# Ploting graph of Loss and val_loss\n",
    "\n",
    "plt.figure(figsize=(10, 6))\n",
    "plt.plot(Model_Mobi_como.history['loss'], label='Training Loss')\n",
    "plt.plot(Model_Mobi_como.history['val_loss'], label='Validation Loss')\n",
    "plt.xlabel('Epochs')\n",
    "plt.ylabel('Loss')\n",
    "plt.title('Training and Validation Loss')\n",
    "plt.legend()\n",
    "plt.grid(True)\n",
    "plt.show()"
   ]
  },
  {
   "cell_type": "code",
   "execution_count": null,
   "id": "bb4bf456-0a28-4bdb-85d7-d21240ebd930",
   "metadata": {},
   "outputs": [],
   "source": [
    "test_loss_como_Mobi, test_accuracy_como_Mobi = Mobi_como.evaluate(test_generator_como)\n",
    "print(f'Test Accuracy: {test_accuracy_como_Mobi}')"
   ]
  },
  {
   "cell_type": "code",
   "execution_count": null,
   "id": "40ef1513-eb94-4343-b558-9e686f1eb757",
   "metadata": {},
   "outputs": [],
   "source": [
    "test_generator_como.reset()\n",
    "predictions_como = Mobi_como.predict(test_generator_como)\n",
    "predicted_classes = (predictions_como > 0.5).astype(int)  \n",
    "\n",
    "true_classes = test_generator_como.classes\n",
    "class_labels = list(test_generator_como.class_indices.keys())\n",
    "conf_matrix = confusion_matrix(true_classes, predicted_classes)\n",
    "print(classification_report(true_classes, predicted_classes, target_names=class_labels))\n",
    "\n",
    "plt.figure(figsize=(8, 6))\n",
    "sns.heatmap(conf_matrix, annot=True, fmt='d', cmap='Blues', xticklabels=class_labels, yticklabels=class_labels)\n",
    "plt.xlabel('Predicted')\n",
    "plt.ylabel('True')\n",
    "plt.title('Confusion Matrix')\n",
    "plt.show()"
   ]
  },
  {
   "cell_type": "markdown",
   "id": "179b971f-78d1-438a-8da1-a9bc8b33b50b",
   "metadata": {},
   "source": [
    "MobileNet - ComoFod_small_Dataset_Trainable_False"
   ]
  },
  {
   "cell_type": "code",
   "execution_count": null,
   "id": "54a2f377-e2e8-4fed-8883-026fb4929412",
   "metadata": {},
   "outputs": [],
   "source": [
    "Mobi_como_False = MobileNetV3Large(\n",
    "    weights='imagenet',\n",
    "    include_top = False,\n",
    "    input_shape=image_size_como\n",
    ")\n",
    "Mobi_como_False.trainable= False"
   ]
  },
  {
   "cell_type": "code",
   "execution_count": null,
   "id": "a1883e92-ca28-4ab8-b782-d1c39f6f4736",
   "metadata": {},
   "outputs": [],
   "source": [
    "Mobi_como_f = tf.keras.models.Sequential()\n",
    "\n",
    "# Convolutional Layer from VGG16 True\n",
    "Mobi_como_f.add(Mobi_como_False)\n",
    "\n",
    "# Flattening\n",
    "Mobi_como_f.add(tf.keras.layers.Flatten())\n",
    "\n",
    "# Full Connection\n",
    "Mobi_como_f.add(tf.keras.layers.Dense(units=128, activation='relu'))\n",
    "\n",
    "# Output Layer\n",
    "Mobi_como_f.add(tf.keras.layers.Dense(units=1, activation='sigmoid'))\n",
    "\n",
    "# Compiling the CNN\n",
    "Mobi_como_f.compile(optimizer='adam', loss='binary_crossentropy', metrics=['accuracy'])\n",
    "\n",
    "# Summary of the model\n",
    "Mobi_como_f.summary()"
   ]
  },
  {
   "cell_type": "code",
   "execution_count": null,
   "id": "67bba3d7-2c01-4b98-8f32-ea3463c4ff37",
   "metadata": {},
   "outputs": [],
   "source": [
    "# Model Resnet50 training on comofod\n",
    "\n",
    "Model_Mobi_como_f=Mobi_como_f.fit(train_generator_como, epochs=200, validation_data=validation_generator_como)"
   ]
  },
  {
   "cell_type": "code",
   "execution_count": null,
   "id": "5caf8bf9-590a-4790-8a7e-6d2c7eb60a39",
   "metadata": {},
   "outputs": [],
   "source": [
    "Mobi_como_f.save('Mobi_como_f.h5')"
   ]
  },
  {
   "cell_type": "code",
   "execution_count": null,
   "id": "28407ba8-ff67-4444-a32f-bccb125cd674",
   "metadata": {},
   "outputs": [],
   "source": [
    "# Ploting graph of Loss and val_loss\n",
    "\n",
    "plt.figure(figsize=(10, 6))\n",
    "plt.plot(Model_Mobi_como_f.history['loss'], label='Training Loss')\n",
    "plt.plot(Model_Mobi_como_f.history['val_loss'], label='Validation Loss')\n",
    "plt.xlabel('Epochs')\n",
    "plt.ylabel('Loss')\n",
    "plt.title('Training and Validation Loss')\n",
    "plt.legend()\n",
    "plt.grid(True)\n",
    "plt.show()"
   ]
  },
  {
   "cell_type": "code",
   "execution_count": null,
   "id": "c271997a-36ba-4b81-94ee-8d4aa553ac5e",
   "metadata": {},
   "outputs": [],
   "source": [
    "test_loss_como_Mobi_f, test_accuracy_como_Mobi_f = Mobi_como_f.evaluate(test_generator_como)\n",
    "print(f'Test Accuracy: {test_accuracy_como_Mobi_f}')"
   ]
  },
  {
   "cell_type": "code",
   "execution_count": null,
   "id": "b1f8ceca-ed8d-4a30-a7e6-7f7a8d4f67c1",
   "metadata": {},
   "outputs": [],
   "source": [
    "test_generator_como.reset()\n",
    "predictions_como_f = Mobi_como_f.predict(test_generator_como)\n",
    "predicted_classes_f = (predictions_como_f > 0.5).astype(int)  \n",
    "\n",
    "true_classes = test_generator_como.classes\n",
    "class_labels = list(test_generator_como.class_indices.keys())\n",
    "conf_matrix = confusion_matrix(true_classes, predicted_classes_f)\n",
    "print(classification_report(true_classes, predicted_classes_f, target_names=class_labels))\n",
    "\n",
    "plt.figure(figsize=(8, 6))\n",
    "sns.heatmap(conf_matrix, annot=True, fmt='d', cmap='Blues', xticklabels=class_labels, yticklabels=class_labels)\n",
    "plt.xlabel('Predicted')\n",
    "plt.ylabel('True')\n",
    "plt.title('Confusion Matrix')\n",
    "plt.show()"
   ]
  },
  {
   "cell_type": "code",
   "execution_count": null,
   "id": "80085f2d-c5fb-4a3d-890a-b361ac269fcc",
   "metadata": {},
   "outputs": [],
   "source": [
    "print(\"Mobilenet Comofod True/False completed\")"
   ]
  },
  {
   "cell_type": "markdown",
   "id": "8abedce9-dfdd-4a9e-bf07-764e5d203241",
   "metadata": {},
   "source": [
    "MobileNet - Realistic tempering_Dataset_Trainable_True"
   ]
  },
  {
   "cell_type": "code",
   "execution_count": null,
   "id": "6ca72717-813b-4c88-9c4f-6b9d91ef32fd",
   "metadata": {},
   "outputs": [],
   "source": [
    "Mobi_rt_True = MobileNetV3Large(\n",
    "    weights='imagenet',\n",
    "    include_top = False,\n",
    "    input_shape=image_size_rt\n",
    ")\n",
    "Mobi_rt_True.trainable= True"
   ]
  },
  {
   "cell_type": "code",
   "execution_count": null,
   "id": "d5d33d2e-b766-487c-9d53-4fbb95d1863f",
   "metadata": {},
   "outputs": [],
   "source": [
    "Mobi_rt = tf.keras.models.Sequential()\n",
    "\n",
    "# Convolutional Layer from VGG16 True\n",
    "Mobi_rt.add(Mobi_rt_True)\n",
    "\n",
    "# Flattening\n",
    "Mobi_rt.add(tf.keras.layers.Flatten())\n",
    "\n",
    "# Full Connection\n",
    "Mobi_rt.add(tf.keras.layers.Dense(units=128, activation='relu'))\n",
    "\n",
    "# Output Layer\n",
    "Mobi_rt.add(tf.keras.layers.Dense(units=1, activation='sigmoid'))\n",
    "\n",
    "# Compiling the CNN\n",
    "Mobi_rt.compile(optimizer='adam', loss='binary_crossentropy', metrics=['accuracy'])\n",
    "\n",
    "# Summary of the model\n",
    "Mobi_rt.summary()"
   ]
  },
  {
   "cell_type": "code",
   "execution_count": null,
   "id": "09d22be9-f941-484e-9a8c-e4c3ec133ded",
   "metadata": {},
   "outputs": [],
   "source": [
    "# Model ResNet training on realistic tempering\n",
    "\n",
    "Model_Mobi_rt=Mobi_rt.fit(train_generator_rt, epochs=200, validation_data=validation_generator_rt)"
   ]
  },
  {
   "cell_type": "code",
   "execution_count": null,
   "id": "4f63b546-d2a8-4caa-8339-b4eb3f41f433",
   "metadata": {},
   "outputs": [],
   "source": [
    "Mobi_rt.save('Mobi_rt.h5')"
   ]
  },
  {
   "cell_type": "code",
   "execution_count": null,
   "id": "bedab410-d294-4b8b-bfa5-28fc44d80a76",
   "metadata": {},
   "outputs": [],
   "source": [
    "# Ploting graph of Loss and val_loss\n",
    "\n",
    "plt.figure(figsize=(10, 6))\n",
    "plt.plot(Model_Mobi_rt.history['loss'], label='Training Loss')\n",
    "plt.plot(Model_Mobi_rt.history['val_loss'], label='Validation Loss')\n",
    "plt.xlabel('Epochs')\n",
    "plt.ylabel('Loss')\n",
    "plt.title('Training and Validation Loss')\n",
    "plt.legend()\n",
    "plt.grid(True)\n",
    "plt.show()"
   ]
  },
  {
   "cell_type": "code",
   "execution_count": null,
   "id": "3308e97b-8a6a-4ad4-9585-f1fa151980ee",
   "metadata": {},
   "outputs": [],
   "source": [
    "test_loss_rt_Mobi, test_accuracy_rt_Mobi = Mobi_rt.evaluate(test_generator_rt)\n",
    "print(f'Test Accuracy: {test_accuracy_rt_Mobi}')"
   ]
  },
  {
   "cell_type": "code",
   "execution_count": null,
   "id": "ac0dc8ea-36db-4a6c-a961-241ca946aaaa",
   "metadata": {},
   "outputs": [],
   "source": [
    "test_generator_rt.reset()\n",
    "predictions_rt = Mobi_rt.predict(test_generator_rt)\n",
    "predicted_classes = (predictions_rt > 0.5).astype(int)  \n",
    "\n",
    "true_classes = test_generator_rt.classes\n",
    "class_labels = list(test_generator_rt.class_indices.keys())\n",
    "conf_matrix = confusion_matrix(true_classes, predicted_classes)\n",
    "print(classification_report(true_classes, predicted_classes, target_names=class_labels))\n",
    "\n",
    "plt.figure(figsize=(8, 6))\n",
    "sns.heatmap(conf_matrix, annot=True, fmt='d', cmap='Blues', xticklabels=class_labels, yticklabels=class_labels)\n",
    "plt.xlabel('Predicted')\n",
    "plt.ylabel('True')\n",
    "plt.title('Confusion Matrix')\n",
    "plt.show()"
   ]
  },
  {
   "cell_type": "markdown",
   "id": "cdaf9a72-93ed-4386-9581-b90939f48c1f",
   "metadata": {},
   "source": [
    "MobileNetV3Large - Realistic_tempering_Dataset_Trainable_False"
   ]
  },
  {
   "cell_type": "code",
   "execution_count": null,
   "id": "9a5ad5a7-4986-4efd-b167-e3d401852310",
   "metadata": {},
   "outputs": [],
   "source": [
    "Mobi_rt_False = MobileNetV3Large(\n",
    "    weights='imagenet',\n",
    "    include_top = False,\n",
    "    input_shape=image_size_rt\n",
    ")\n",
    "Mobi_rt_False.trainable= False"
   ]
  },
  {
   "cell_type": "code",
   "execution_count": null,
   "id": "c288cf11-3396-49cf-b72c-2ec738b566bb",
   "metadata": {},
   "outputs": [],
   "source": [
    "Mobi_rt_f = tf.keras.models.Sequential()\n",
    "\n",
    "# Convolutional Layer from VGG16 True\n",
    "Mobi_rt_f.add(Mobi_rt_False)\n",
    "\n",
    "# Flattening\n",
    "Mobi_rt_f.add(tf.keras.layers.Flatten())\n",
    "\n",
    "# Full Connection\n",
    "Mobi_rt_f.add(tf.keras.layers.Dense(units=128, activation='relu'))\n",
    "\n",
    "# Output Layer\n",
    "Mobi_rt_f.add(tf.keras.layers.Dense(units=1, activation='sigmoid'))\n",
    "\n",
    "# Compiling the CNN\n",
    "Mobi_rt_f.compile(optimizer='adam', loss='binary_crossentropy', metrics=['accuracy'])\n",
    "\n",
    "# Summary of the model\n",
    "Mobi_rt_f.summary()"
   ]
  },
  {
   "cell_type": "code",
   "execution_count": null,
   "id": "7b548580-19f4-4f0f-b1d3-66f8eec2daf9",
   "metadata": {},
   "outputs": [],
   "source": [
    "Model_Mobi_rt_f=Mobi_rt_f.fit(train_generator_rt, epochs=200, validation_data=validation_generator_rt)"
   ]
  },
  {
   "cell_type": "code",
   "execution_count": null,
   "id": "d06b9836-7557-4dc2-863e-dae03501fc3c",
   "metadata": {},
   "outputs": [],
   "source": [
    "Mobi_rt_f.save('Mobi_rt_f.h5')"
   ]
  },
  {
   "cell_type": "code",
   "execution_count": null,
   "id": "5743bc19-42c6-4ab2-a23d-9b0eb87724e3",
   "metadata": {},
   "outputs": [],
   "source": [
    "# Ploting graph of Loss and val_loss\n",
    "\n",
    "plt.figure(figsize=(10, 6))\n",
    "plt.plot(Model_Mobi_rt_f.history['loss'], label='Training Loss')\n",
    "plt.plot(Model_Mobi_rt_f.history['val_loss'], label='Validation Loss')\n",
    "plt.xlabel('Epochs')\n",
    "plt.ylabel('Loss')\n",
    "plt.title('Training and Validation Loss')\n",
    "plt.legend()\n",
    "plt.grid(True)\n",
    "plt.show()"
   ]
  },
  {
   "cell_type": "code",
   "execution_count": null,
   "id": "140215f0-cb48-49af-baa7-f2ed4507ee2a",
   "metadata": {},
   "outputs": [],
   "source": [
    "test_loss_rt_Mobi_f, test_accuracy_rt_Mobi_f = Mobi_rt_f.evaluate(test_generator_rt)\n",
    "print(f'Test Accuracy: {test_accuracy_rt_Mobi_f}')"
   ]
  },
  {
   "cell_type": "code",
   "execution_count": null,
   "id": "e62fbab0-bc9f-4226-8427-538977248ee0",
   "metadata": {},
   "outputs": [],
   "source": [
    "test_generator_rt.reset()\n",
    "predictions_rt_f = Mobi_rt_f.predict(test_generator_rt)\n",
    "predicted_classes_f = (predictions_rt_f > 0.5).astype(int)  \n",
    "\n",
    "true_classes = test_generator_rt.classes\n",
    "class_labels = list(test_generator_rt.class_indices.keys())\n",
    "conf_matrix = confusion_matrix(true_classes, predicted_classes_f)\n",
    "print(classification_report(true_classes, predicted_classes_f, target_names=class_labels))\n",
    "\n",
    "plt.figure(figsize=(8, 6))\n",
    "sns.heatmap(conf_matrix, annot=True, fmt='d', cmap='Blues', xticklabels=class_labels, yticklabels=class_labels)\n",
    "plt.xlabel('Predicted')\n",
    "plt.ylabel('True')\n",
    "plt.title('Confusion Matrix')\n",
    "plt.show()"
   ]
  },
  {
   "cell_type": "code",
   "execution_count": null,
   "id": "8d903960-3f49-40b2-ba9f-d30cfe837b1b",
   "metadata": {},
   "outputs": [],
   "source": [
    "print(\"Mobilenet Realistic tempering True/False completed\")"
   ]
  },
  {
   "cell_type": "markdown",
   "id": "9e679b16-504b-4c00-8033-bd86b1289758",
   "metadata": {},
   "source": [
    "#From here we are going to train all the datasets on EfficientNetB3"
   ]
  },
  {
   "cell_type": "markdown",
   "id": "63b69aed-86f3-4118-a984-3c19ea1ea73f",
   "metadata": {},
   "source": [
    "EfficientNEtB3 - Coco_Glide_Dataset_Trainable_true"
   ]
  },
  {
   "cell_type": "code",
   "execution_count": null,
   "id": "0e73cd2c-b001-487e-85f5-5f8951458a4c",
   "metadata": {},
   "outputs": [],
   "source": [
    "from tensorflow.keras.applications import EfficientNetB3"
   ]
  },
  {
   "cell_type": "code",
   "execution_count": null,
   "id": "a1075447-e79b-4bc7-aa4a-f337ea9fec9b",
   "metadata": {},
   "outputs": [],
   "source": [
    "Effi_True = EfficientNetB3(\n",
    "    weights='imagenet',\n",
    "    include_top = False,\n",
    "    input_shape=image_size_coco\n",
    ")\n",
    "Effi_True.trainable= True"
   ]
  },
  {
   "cell_type": "code",
   "execution_count": null,
   "id": "794a4956-05e6-4133-848e-71f3180ab455",
   "metadata": {},
   "outputs": [],
   "source": [
    "Effi_coco = tf.keras.models.Sequential()\n",
    "\n",
    "# Convolutional Layer from VGG16 True\n",
    "Effi_coco.add(Effi_True)\n",
    "\n",
    "# Flattening\n",
    "Effi_coco.add(tf.keras.layers.Flatten())\n",
    "\n",
    "# Full Connection\n",
    "Effi_coco.add(tf.keras.layers.Dense(units=128, activation='relu'))\n",
    "\n",
    "# Output Layer\n",
    "Effi_coco.add(tf.keras.layers.Dense(units=1, activation='sigmoid'))\n",
    "\n",
    "# Compiling the CNN\n",
    "Effi_coco.compile(optimizer='adam', loss='binary_crossentropy', metrics=['accuracy'])\n",
    "\n",
    "# Summary of the model\n",
    "Effi_coco.summary()"
   ]
  },
  {
   "cell_type": "code",
   "execution_count": null,
   "id": "a4263860-dbe1-49b1-92cd-073ac7962bd2",
   "metadata": {},
   "outputs": [],
   "source": [
    "# Model Mobinet training on CocoGlide\n",
    "\n",
    "Model_Effi_coco=Effi_coco.fit(train_generator_coco, epochs=200, validation_data=validation_generator_coco)"
   ]
  },
  {
   "cell_type": "code",
   "execution_count": null,
   "id": "5091c1ed-355f-45bf-b41c-833c623ccc65",
   "metadata": {},
   "outputs": [],
   "source": [
    "#Effi_coco.save('Effi_coco.h5')"
   ]
  },
  {
   "cell_type": "code",
   "execution_count": null,
   "id": "a62e3f02-f5e7-464e-bf12-21504ee3fd0d",
   "metadata": {},
   "outputs": [],
   "source": [
    "# Ploting graph of Loss and val_loss\n",
    "\n",
    "plt.figure(figsize=(10, 6))\n",
    "plt.plot(Model_Effi_coco.history['loss'], label='Training Loss')\n",
    "plt.plot(Model_Effi_coco.history['val_loss'], label='Validation Loss')\n",
    "plt.xlabel('Epochs')\n",
    "plt.ylabel('Loss')\n",
    "plt.title('Training and Validation Loss')\n",
    "plt.legend()\n",
    "plt.grid(True)"
   ]
  },
  {
   "cell_type": "code",
   "execution_count": null,
   "id": "faa55dec-daee-46d6-9bb0-c90d7894ecc3",
   "metadata": {},
   "outputs": [],
   "source": [
    "test_loss_coco_Effi, test_accuracy_coco_Effi = Effi_coco.evaluate(test_generator_coco)\n",
    "print(f'Test Accuracy: {test_accuracy_coco_Effi}')"
   ]
  },
  {
   "cell_type": "code",
   "execution_count": null,
   "id": "2ba87fc4-f9d9-4948-b212-cdffdfa694b7",
   "metadata": {},
   "outputs": [],
   "source": [
    "test_generator_coco.reset()\n",
    "predictions_coco = Effi_coco.predict(test_generator_coco)\n",
    "predicted_classes = (predictions_coco > 0.5).astype(int)  \n",
    "\n",
    "true_classes = test_generator_coco.classes\n",
    "class_labels = list(test_generator_coco.class_indices.keys())\n",
    "conf_matrix = confusion_matrix(true_classes, predicted_classes)\n",
    "print(classification_report(true_classes, predicted_classes, target_names=class_labels))\n",
    "\n",
    "plt.figure(figsize=(8, 6))\n",
    "sns.heatmap(conf_matrix, annot=True, fmt='d', cmap='Blues', xticklabels=class_labels, yticklabels=class_labels)\n",
    "plt.xlabel('Predicted')\n",
    "plt.ylabel('True')\n",
    "plt.title('Confusion Matrix')\n",
    "plt.show()"
   ]
  },
  {
   "cell_type": "markdown",
   "id": "7181ca6f-67d9-45ab-8e68-19d3fb66b8bc",
   "metadata": {},
   "source": [
    "EfficientNet - Coco_Glide_Dataset_Trainable_False"
   ]
  },
  {
   "cell_type": "code",
   "execution_count": null,
   "id": "3732cf7c-8166-4277-8763-f0f0501bf887",
   "metadata": {},
   "outputs": [],
   "source": [
    "Effi_False = EfficientNetB3(\n",
    "    weights='imagenet',\n",
    "    include_top = False,\n",
    "    input_shape=image_size_coco\n",
    ")\n",
    "Effi_False.trainable= False"
   ]
  },
  {
   "cell_type": "code",
   "execution_count": null,
   "id": "285470ce-9cea-4673-9357-836b68744e24",
   "metadata": {},
   "outputs": [],
   "source": [
    "Effi_coco_f = tf.keras.models.Sequential()\n",
    "\n",
    "# Convolutional Layer from VGG16 True\n",
    "Effi_coco_f.add(Effi_False)\n",
    "\n",
    "# Flattening\n",
    "Effi_coco_f.add(tf.keras.layers.Flatten())\n",
    "\n",
    "# Full Connection\n",
    "Effi_coco_f.add(tf.keras.layers.Dense(units=128, activation='relu'))\n",
    "\n",
    "# Output Layer\n",
    "Effi_coco_f.add(tf.keras.layers.Dense(units=1, activation='sigmoid'))\n",
    "\n",
    "# Compiling the CNN\n",
    "Effi_coco_f.compile(optimizer='adam', loss='binary_crossentropy', metrics=['accuracy'])\n",
    "\n",
    "# Summary of the model\n",
    "Effi_coco_f.summary()"
   ]
  },
  {
   "cell_type": "code",
   "execution_count": null,
   "id": "eb8533d3-d93c-4ffa-b88c-80754c76b57e",
   "metadata": {},
   "outputs": [],
   "source": [
    "# Model Resnet50 training on CocoGlide\n",
    "\n",
    "Model_Effi_coco_f=Effi_coco_f.fit(train_generator_coco, epochs=200, validation_data=validation_generator_coco)"
   ]
  },
  {
   "cell_type": "code",
   "execution_count": null,
   "id": "c2de1e55-2116-4b22-9870-ea64ce22909a",
   "metadata": {},
   "outputs": [],
   "source": [
    "#Effi_coco_f.save('Effi_coco_f.h5')"
   ]
  },
  {
   "cell_type": "code",
   "execution_count": null,
   "id": "37613e1a-6df2-4816-b16a-051ef7cdccb9",
   "metadata": {},
   "outputs": [],
   "source": [
    "# Ploting graph of Loss and val_loss\n",
    "\n",
    "plt.figure(figsize=(10, 6))\n",
    "plt.plot(Model_Effi_coco_f.history['loss'], label='Training Loss')\n",
    "plt.plot(Model_Effi_coco_f.history['val_loss'], label='Validation Loss')\n",
    "plt.xlabel('Epochs')\n",
    "plt.ylabel('Loss')\n",
    "plt.title('Training and Validation Loss')\n",
    "plt.legend()\n",
    "plt.grid(True)\n",
    "plt.show()"
   ]
  },
  {
   "cell_type": "code",
   "execution_count": null,
   "id": "d5199fce-e115-44e7-8ab5-1318dea09aa3",
   "metadata": {},
   "outputs": [],
   "source": [
    "test_loss_coco_Effi_f, test_accuracy_coco_Effi_f = Effi_coco_f.evaluate(test_generator_coco)\n",
    "print(f'Test Accuracy: {test_accuracy_coco_Effi_f}')"
   ]
  },
  {
   "cell_type": "code",
   "execution_count": null,
   "id": "1263d5be-023e-4969-8699-ad9ff166a7fa",
   "metadata": {},
   "outputs": [],
   "source": [
    "test_generator_coco.reset()\n",
    "predictions_coco_f = Effi_coco_f.predict(test_generator_coco)\n",
    "predicted_classes_f = (predictions_coco_f > 0.5).astype(int)  \n",
    "\n",
    "true_classes = test_generator_coco.classes\n",
    "class_labels = list(test_generator_coco.class_indices.keys())\n",
    "conf_matrix = confusion_matrix(true_classes, predicted_classes_f)\n",
    "print(classification_report(true_classes, predicted_classes_f, target_names=class_labels))\n",
    "\n",
    "plt.figure(figsize=(8, 6))\n",
    "sns.heatmap(conf_matrix, annot=True, fmt='d', cmap='Blues', xticklabels=class_labels, yticklabels=class_labels)\n",
    "plt.xlabel('Predicted')\n",
    "plt.ylabel('True')\n",
    "plt.title('Confusion Matrix')\n",
    "plt.show()"
   ]
  },
  {
   "cell_type": "code",
   "execution_count": null,
   "id": "7ea38c5e-541f-4b13-9692-b9ebfb93e860",
   "metadata": {},
   "outputs": [],
   "source": [
    "print(\"EfficientNetB3 Coco-glide True/False completed\")"
   ]
  },
  {
   "cell_type": "markdown",
   "id": "45c5f918-f088-434d-a384-1f82034ecb60",
   "metadata": {},
   "source": [
    "EfficientNetB3 - IMD2020_Dataset_Trainable_True"
   ]
  },
  {
   "cell_type": "code",
   "execution_count": null,
   "id": "9bbf9f99-404a-41f6-8a4d-b3daac10d0fc",
   "metadata": {},
   "outputs": [],
   "source": [
    "Effi_imd_True = EfficientNetB3(\n",
    "    weights='imagenet',\n",
    "    include_top = False,\n",
    "    input_shape=image_size_imd\n",
    ")\n",
    "Effi_imd_True.trainable= True"
   ]
  },
  {
   "cell_type": "code",
   "execution_count": null,
   "id": "a70137b5-3181-4470-94da-26c98e75cbbc",
   "metadata": {},
   "outputs": [],
   "source": [
    "Effi_imd = tf.keras.models.Sequential()\n",
    "\n",
    "# Convolutional Layer from VGG16 True\n",
    "Effi_imd.add(Effi_imd_True)\n",
    "\n",
    "# Flattening\n",
    "Effi_imd.add(tf.keras.layers.Flatten())\n",
    "\n",
    "# Full Connection\n",
    "Effi_imd.add(tf.keras.layers.Dense(units=128, activation='relu'))\n",
    "\n",
    "# Output Layer\n",
    "Effi_imd.add(tf.keras.layers.Dense(units=1, activation='sigmoid'))\n",
    "\n",
    "# Compiling the CNN\n",
    "Effi_imd.compile(optimizer='adam', loss='binary_crossentropy', metrics=['accuracy'])\n",
    "\n",
    "# Summary of the model\n",
    "Effi_imd.summary()"
   ]
  },
  {
   "cell_type": "code",
   "execution_count": null,
   "id": "04a76d2f-ef04-4fb8-a0d0-1bb3137ef18f",
   "metadata": {},
   "outputs": [],
   "source": [
    "# Model VGG16 training on imd2020\n",
    "\n",
    "Model_Effi_imd=Effi_imd.fit(train_generator_imd, epochs=200, validation_data=validation_generator_imd)"
   ]
  },
  {
   "cell_type": "code",
   "execution_count": null,
   "id": "fe3fdd83-bfad-47b0-bf58-120a70a7a7d1",
   "metadata": {},
   "outputs": [],
   "source": [
    "#Effi_imd.save('Effi_imd.h5')"
   ]
  },
  {
   "cell_type": "code",
   "execution_count": null,
   "id": "a976a9ea-76ac-476e-91f8-02e0f226e57e",
   "metadata": {},
   "outputs": [],
   "source": [
    "# Ploting graph of Loss and val_loss\n",
    "\n",
    "plt.figure(figsize=(10, 6))\n",
    "plt.plot(Model_Effi_imd.history['loss'], label='Training Loss')\n",
    "plt.plot(Model_Effi_imd.history['val_loss'], label='Validation Loss')\n",
    "plt.xlabel('Epochs')\n",
    "plt.ylabel('Loss')\n",
    "plt.title('Training and Validation Loss')\n",
    "plt.legend()\n",
    "plt.grid(True)\n",
    "plt.show()"
   ]
  },
  {
   "cell_type": "code",
   "execution_count": null,
   "id": "fb07e9f5-e946-4316-8882-51362be87411",
   "metadata": {},
   "outputs": [],
   "source": [
    "test_loss_imd_Effi, test_accuracy_imd_Effi = Effi_imd.evaluate(test_generator_imd)\n",
    "print(f'Test Accuracy: {test_accuracy_imd_Effi}')"
   ]
  },
  {
   "cell_type": "code",
   "execution_count": null,
   "id": "1ade9fa7-8a25-48e0-a67d-bae1593ccbf3",
   "metadata": {},
   "outputs": [],
   "source": [
    "test_generator_imd.reset()\n",
    "predictions_imd = Effi_imd.predict(test_generator_imd)\n",
    "predicted_classes = (predictions_imd > 0.5).astype(int)  \n",
    "\n",
    "true_classes = test_generator_imd.classes\n",
    "class_labels = list(test_generator_imd.class_indices.keys())\n",
    "conf_matrix = confusion_matrix(true_classes, predicted_classes)\n",
    "print(classification_report(true_classes, predicted_classes, target_names=class_labels))\n",
    "\n",
    "plt.figure(figsize=(8, 6))\n",
    "sns.heatmap(conf_matrix, annot=True, fmt='d', cmap='Blues', xticklabels=class_labels, yticklabels=class_labels)\n",
    "plt.xlabel('Predicted')\n",
    "plt.ylabel('True')\n",
    "plt.title('Confusion Matrix')\n",
    "plt.show()"
   ]
  },
  {
   "cell_type": "markdown",
   "id": "2676eccd-aa4b-4e81-aeee-c83df5c73f78",
   "metadata": {},
   "source": [
    "EfficientNetB3- IMD2020_Dataset_Trainable_False"
   ]
  },
  {
   "cell_type": "code",
   "execution_count": null,
   "id": "6fb49bbe-2423-4f67-bb41-a2eb93dfb6ed",
   "metadata": {},
   "outputs": [],
   "source": [
    "Effi_imd_False = EfficientNetB3(\n",
    "    weights='imagenet',\n",
    "    include_top = False,\n",
    "    input_shape=image_size_imd\n",
    ")\n",
    "Effi_imd_False.trainable= False"
   ]
  },
  {
   "cell_type": "code",
   "execution_count": null,
   "id": "36fd6b61-1a4f-4c69-8f5f-2b0fc28e063b",
   "metadata": {},
   "outputs": [],
   "source": [
    "Effi_imd_f = tf.keras.models.Sequential()\n",
    "\n",
    "# Convolutional Layer from VGG16 True\n",
    "Effi_imd_f.add(Effi_imd_False)\n",
    "\n",
    "# Flattening\n",
    "Effi_imd_f.add(tf.keras.layers.Flatten())\n",
    "\n",
    "# Full Connection\n",
    "Effi_imd_f.add(tf.keras.layers.Dense(units=128, activation='relu'))\n",
    "\n",
    "# Output Layer\n",
    "Effi_imd_f.add(tf.keras.layers.Dense(units=1, activation='sigmoid'))\n",
    "\n",
    "# Compiling the CNN\n",
    "Effi_imd_f.compile(optimizer='adam', loss='binary_crossentropy', metrics=['accuracy'])\n",
    "\n",
    "# Summary of the model\n",
    "Effi_imd_f.summary()"
   ]
  },
  {
   "cell_type": "code",
   "execution_count": null,
   "id": "0e8ba503-18bf-4ea4-95ef-cafe9582e41a",
   "metadata": {},
   "outputs": [],
   "source": [
    "# Model ResNet50 training on imd2020\n",
    "\n",
    "Model_Effi_imd_f=Effi_imd_f.fit(train_generator_imd, epochs=200, validation_data=validation_generator_imd)"
   ]
  },
  {
   "cell_type": "code",
   "execution_count": null,
   "id": "b9bbb8bd-8145-40d2-9f21-428c82f06624",
   "metadata": {},
   "outputs": [],
   "source": [
    "#Effi_imd_f.save('Effi_imd_f.h5')"
   ]
  },
  {
   "cell_type": "code",
   "execution_count": null,
   "id": "3a34fc4f-7cda-4b85-b58e-ae3e2ffaa5dd",
   "metadata": {},
   "outputs": [],
   "source": [
    "# Ploting graph of Loss and val_loss\n",
    "\n",
    "plt.figure(figsize=(10, 6))\n",
    "plt.plot(Model_Effi_imd_f.history['loss'], label='Training Loss')\n",
    "plt.plot(Model_Effi_imd_f.history['val_loss'], label='Validation Loss')\n",
    "plt.xlabel('Epochs')\n",
    "plt.ylabel('Loss')\n",
    "plt.title('Training and Validation Loss')\n",
    "plt.legend()\n",
    "plt.grid(True)\n",
    "plt.show()"
   ]
  },
  {
   "cell_type": "code",
   "execution_count": null,
   "id": "e65d6528-caaa-408a-9b76-63353c4028ad",
   "metadata": {},
   "outputs": [],
   "source": [
    "test_loss_imd_Effi_f, test_accuracy_imd_Effi_f = Effi_imd_f.evaluate(test_generator_imd)\n",
    "print(f'Test Accuracy: {test_accuracy_imd_Effi_f}')"
   ]
  },
  {
   "cell_type": "code",
   "execution_count": null,
   "id": "b59cfd27-8552-4b0d-99f3-882bc60a72c9",
   "metadata": {},
   "outputs": [],
   "source": [
    "test_generator_imd.reset()\n",
    "predictions_imd_f = Effi_imd_f.predict(test_generator_imd)\n",
    "predicted_classes_f = (predictions_imd_f > 0.5).astype(int)  \n",
    "\n",
    "true_classes = test_generator_imd.classes\n",
    "class_labels = list(test_generator_imd.class_indices.keys())\n",
    "conf_matrix = confusion_matrix(true_classes, predicted_classes_f)\n",
    "print(classification_report(true_classes, predicted_classes_f, target_names=class_labels))\n",
    "\n",
    "plt.figure(figsize=(8, 6))\n",
    "sns.heatmap(conf_matrix, annot=True, fmt='d', cmap='Blues', xticklabels=class_labels, yticklabels=class_labels)\n",
    "plt.xlabel('Predicted')\n",
    "plt.ylabel('True')\n",
    "plt.title('Confusion Matrix')\n",
    "plt.show()"
   ]
  },
  {
   "cell_type": "code",
   "execution_count": null,
   "id": "b2ee10ef-255b-450a-bea4-201a32223b3b",
   "metadata": {},
   "outputs": [],
   "source": [
    "print(\"efficientNet imd2020 True/False completed\")"
   ]
  },
  {
   "cell_type": "markdown",
   "id": "21783ba6-6004-44ac-a701-62d467087185",
   "metadata": {},
   "source": [
    "MobileNet - MISD_Dataset_Trainable_True"
   ]
  },
  {
   "cell_type": "code",
   "execution_count": null,
   "id": "e8096186-3115-4e6e-a40b-4087320cbe3b",
   "metadata": {},
   "outputs": [],
   "source": [
    "Effi_misd_True = EfficientNetB3(\n",
    "    weights='imagenet',\n",
    "    include_top = False,\n",
    "    input_shape=image_size_misd\n",
    ")\n",
    "Effi_misd_True.trainable= True"
   ]
  },
  {
   "cell_type": "code",
   "execution_count": null,
   "id": "25ef8062-1562-43dc-9875-c273512a691d",
   "metadata": {},
   "outputs": [],
   "source": [
    "Effi_misd = tf.keras.models.Sequential()\n",
    "\n",
    "# Convolutional Layer from VGG16 True\n",
    "Effi_misd.add(Effi_misd_True)\n",
    "\n",
    "# Flattening\n",
    "Effi_misd.add(tf.keras.layers.Flatten())\n",
    "\n",
    "# Full Connection\n",
    "Effi_misd.add(tf.keras.layers.Dense(units=128, activation='relu'))\n",
    "\n",
    "# Output Layer\n",
    "Effi_misd.add(tf.keras.layers.Dense(units=1, activation='sigmoid'))\n",
    "\n",
    "# Compiling the CNN\n",
    "Effi_misd.compile(optimizer='adam', loss='binary_crossentropy', metrics=['accuracy'])\n",
    "\n",
    "# Summary of the model\n",
    "Effi_misd.summary()"
   ]
  },
  {
   "cell_type": "code",
   "execution_count": null,
   "id": "55a353a8-5526-4c22-8151-347c0bd0e557",
   "metadata": {},
   "outputs": [],
   "source": [
    "# Model VGG16 training on imd2020\n",
    "\n",
    "Model_Effi_misd=Effi_misd.fit(train_generator_misd, epochs=200, validation_data=validation_generator_misd)"
   ]
  },
  {
   "cell_type": "code",
   "execution_count": null,
   "id": "9708f352-bab8-4eae-8b56-010149fd5468",
   "metadata": {},
   "outputs": [],
   "source": [
    "#Effi_misd.save('Effi_misd.h5')"
   ]
  },
  {
   "cell_type": "code",
   "execution_count": null,
   "id": "f3528c8b-d582-472b-9113-d3c3311fefa7",
   "metadata": {},
   "outputs": [],
   "source": [
    "# Ploting graph of Loss and val_loss\n",
    "\n",
    "plt.figure(figsize=(10, 6))\n",
    "plt.plot(Model_Effi_misd.history['loss'], label='Training Loss')\n",
    "plt.plot(Model_Effi_misd.history['val_loss'], label='Validation Loss')\n",
    "plt.xlabel('Epochs')\n",
    "plt.ylabel('Loss')\n",
    "plt.title('Training and Validation Loss')\n",
    "plt.legend()\n",
    "plt.grid(True)\n",
    "plt.show()"
   ]
  },
  {
   "cell_type": "code",
   "execution_count": null,
   "id": "5b67e0c1-afcd-467a-bf31-6200a2cdd1a4",
   "metadata": {},
   "outputs": [],
   "source": [
    "test_loss_misd_Effi, test_accuracy_misd_Effi = Effi_misd.evaluate(test_generator_misd)\n",
    "print(f'Test Accuracy: {test_accuracy_misd_Effi}')"
   ]
  },
  {
   "cell_type": "code",
   "execution_count": null,
   "id": "ace0b942-0785-457c-8b4f-1845f2cc0b6f",
   "metadata": {},
   "outputs": [],
   "source": [
    "test_generator_misd.reset()\n",
    "predictions_misd = Effi_misd.predict(test_generator_misd)\n",
    "predicted_classes = (predictions_misd > 0.5).astype(int)  \n",
    "\n",
    "true_classes = test_generator_misd.classes\n",
    "class_labels = list(test_generator_misd.class_indices.keys())\n",
    "conf_matrix = confusion_matrix(true_classes, predicted_classes)\n",
    "print(classification_report(true_classes, predicted_classes, target_names=class_labels))\n",
    "\n",
    "plt.figure(figsize=(8, 6))\n",
    "sns.heatmap(conf_matrix, annot=True, fmt='d', cmap='Blues', xticklabels=class_labels, yticklabels=class_labels)\n",
    "plt.xlabel('Predicted')\n",
    "plt.ylabel('True')\n",
    "plt.title('Confusion Matrix')\n",
    "plt.show()"
   ]
  },
  {
   "cell_type": "markdown",
   "id": "034ed529-da19-4037-b578-6c54b7e6e697",
   "metadata": {},
   "source": [
    "EfficientNetB3 - MISD_Dataset_Trainable_False"
   ]
  },
  {
   "cell_type": "code",
   "execution_count": null,
   "id": "8ad9c533-2e67-4a1d-88ed-f31971cd882a",
   "metadata": {},
   "outputs": [],
   "source": [
    "Effi_misd_False = EfficientNetB3(\n",
    "    weights='imagenet',\n",
    "    include_top = False,\n",
    "    input_shape=image_size_misd\n",
    ")\n",
    "Effi_misd_False.trainable= False"
   ]
  },
  {
   "cell_type": "code",
   "execution_count": null,
   "id": "a99addfd-a68e-4c98-9b79-f3442d2249c0",
   "metadata": {},
   "outputs": [],
   "source": [
    "Effi_misd_f = tf.keras.models.Sequential()\n",
    "\n",
    "# Convolutional Layer from VGG16 True\n",
    "Effi_misd_f.add(Effi_misd_False)\n",
    "\n",
    "# Flattening\n",
    "Effi_misd_f.add(tf.keras.layers.Flatten())\n",
    "\n",
    "# Full Connection\n",
    "Effi_misd_f.add(tf.keras.layers.Dense(units=128, activation='relu'))\n",
    "\n",
    "# Output Layer\n",
    "Effi_misd_f.add(tf.keras.layers.Dense(units=1, activation='sigmoid'))\n",
    "\n",
    "# Compiling the CNN\n",
    "Effi_misd_f.compile(optimizer='adam', loss='binary_crossentropy', metrics=['accuracy'])\n",
    "\n",
    "# Summary of the model\n",
    "Effi_misd_f.summary()"
   ]
  },
  {
   "cell_type": "code",
   "execution_count": null,
   "id": "a4c6118b-2787-44f7-a143-76b617553a32",
   "metadata": {},
   "outputs": [],
   "source": [
    "# Model VGG16 training on MISD\n",
    "\n",
    "Model_Effi_misd_f=Effi_misd_f.fit(train_generator_misd, epochs=200, validation_data=validation_generator_misd)"
   ]
  },
  {
   "cell_type": "code",
   "execution_count": null,
   "id": "72029fa3-2fe4-44a4-b83f-ea1c2dc98d09",
   "metadata": {},
   "outputs": [],
   "source": [
    "#Effi_misd_f.save('Effi_misd_f.h5')"
   ]
  },
  {
   "cell_type": "code",
   "execution_count": null,
   "id": "61c835d7-558d-406f-a35e-cb3bb7bb6e8b",
   "metadata": {},
   "outputs": [],
   "source": [
    "# Ploting graph of Loss and val_loss\n",
    "\n",
    "plt.figure(figsize=(10, 6))\n",
    "plt.plot(Model_Effi_misd_f.history['loss'], label='Training Loss')\n",
    "plt.plot(Model_Effi_misd_f.history['val_loss'], label='Validation Loss')\n",
    "plt.xlabel('Epochs')\n",
    "plt.ylabel('Loss')\n",
    "plt.title('Training and Validation Loss')\n",
    "plt.legend()\n",
    "plt.grid(True)\n",
    "plt.show()"
   ]
  },
  {
   "cell_type": "code",
   "execution_count": null,
   "id": "8c2349da-3379-44dd-98ee-d59c56d67fe7",
   "metadata": {},
   "outputs": [],
   "source": [
    "test_loss_misd_Effi_f, test_accuracy_misd_Effi_f = Effi_misd_f.evaluate(test_generator_misd)\n",
    "print(f'Test Accuracy: {test_accuracy_misd_Effi_f}')"
   ]
  },
  {
   "cell_type": "code",
   "execution_count": null,
   "id": "1aef8ea3-44d0-4547-acce-1f34b64c6c96",
   "metadata": {},
   "outputs": [],
   "source": [
    "test_generator_misd.reset()\n",
    "predictions_misd_f = Effi_misd_f.predict(test_generator_misd)\n",
    "predicted_classes_f = (predictions_misd_f > 0.5).astype(int)  \n",
    "\n",
    "true_classes = test_generator_misd.classes\n",
    "class_labels = list(test_generator_misd.class_indices.keys())\n",
    "conf_matrix = confusion_matrix(true_classes, predicted_classes_f)\n",
    "print(classification_report(true_classes, predicted_classes_f, target_names=class_labels))\n",
    "\n",
    "plt.figure(figsize=(8, 6))\n",
    "sns.heatmap(conf_matrix, annot=True, fmt='d', cmap='Blues', xticklabels=class_labels, yticklabels=class_labels)\n",
    "plt.xlabel('Predicted')\n",
    "plt.ylabel('True')\n",
    "plt.title('Confusion Matrix')\n",
    "plt.show()"
   ]
  },
  {
   "cell_type": "code",
   "execution_count": null,
   "id": "37bf1ca8-2c4f-411e-afa9-35ddd86532a1",
   "metadata": {},
   "outputs": [],
   "source": [
    "print(\"EfficientNetB3  training/testing on Misd True/False is completed \")"
   ]
  },
  {
   "cell_type": "markdown",
   "id": "4059e89a-0442-410d-b3b7-207dcc5721b3",
   "metadata": {},
   "source": [
    "EfficientNetB3- ComoFod_small_Dataset_Trainable_True"
   ]
  },
  {
   "cell_type": "code",
   "execution_count": null,
   "id": "af2f9897-2fc4-4f72-a083-2f5ce5035f94",
   "metadata": {},
   "outputs": [],
   "source": [
    "Effi_como_True = EfficientNetB3(\n",
    "    weights='imagenet',\n",
    "    include_top = False,\n",
    "    input_shape=image_size_como\n",
    ")\n",
    "Effi_como_True.trainable= True"
   ]
  },
  {
   "cell_type": "code",
   "execution_count": null,
   "id": "6d3f94f9-4549-43f9-89cd-8b86ef4951c6",
   "metadata": {},
   "outputs": [],
   "source": [
    "Effi_como = tf.keras.models.Sequential()\n",
    "\n",
    "# Convolutional Layer from VGG16 True\n",
    "Effi_como.add(Effi_como_True)\n",
    "\n",
    "# Flattening\n",
    "Effi_como.add(tf.keras.layers.Flatten())\n",
    "\n",
    "# Full Connection\n",
    "Effi_como.add(tf.keras.layers.Dense(units=128, activation='relu'))\n",
    "\n",
    "# Output Layer\n",
    "Effi_como.add(tf.keras.layers.Dense(units=1, activation='sigmoid'))\n",
    "\n",
    "# Compiling the CNN\n",
    "Effi_como.compile(optimizer='adam', loss='binary_crossentropy', metrics=['accuracy'])\n",
    "\n",
    "# Summary of the model\n",
    "Effi_como.summary()"
   ]
  },
  {
   "cell_type": "code",
   "execution_count": null,
   "id": "53776401-4ba8-4b8e-9a56-1978c65bafef",
   "metadata": {},
   "outputs": [],
   "source": [
    "# Model ResNet50 training on ComoFod-small\n",
    "\n",
    "Model_Effi_como=Effi_como.fit(train_generator_como, epochs=200, validation_data=validation_generator_como)"
   ]
  },
  {
   "cell_type": "code",
   "execution_count": null,
   "id": "e5c8665b-859f-4a40-a2b2-1253114757c9",
   "metadata": {},
   "outputs": [],
   "source": [
    "#Effi_como.save('Effi_como.h5')"
   ]
  },
  {
   "cell_type": "code",
   "execution_count": null,
   "id": "7feb7c87-15b5-4fcc-909c-7ade818c951b",
   "metadata": {},
   "outputs": [],
   "source": [
    "# Ploting graph of Loss and val_loss\n",
    "\n",
    "plt.figure(figsize=(10, 6))\n",
    "plt.plot(Model_Effi_como.history['loss'], label='Training Loss')\n",
    "plt.plot(Model_Effi_como.history['val_loss'], label='Validation Loss')\n",
    "plt.xlabel('Epochs')\n",
    "plt.ylabel('Loss')\n",
    "plt.title('Training and Validation Loss')\n",
    "plt.legend()\n",
    "plt.grid(True)\n",
    "plt.show()"
   ]
  },
  {
   "cell_type": "code",
   "execution_count": null,
   "id": "60e84996-11be-4611-a5a9-2155007c567e",
   "metadata": {},
   "outputs": [],
   "source": [
    "test_loss_como_Effi, test_accuracy_como_Effi = Effi_como.evaluate(test_generator_como)\n",
    "print(f'Test Accuracy: {test_accuracy_como_Effi}')"
   ]
  },
  {
   "cell_type": "code",
   "execution_count": null,
   "id": "9eb7e4c1-aca2-483d-9c56-d985473ffb2c",
   "metadata": {},
   "outputs": [],
   "source": [
    "test_generator_como.reset()\n",
    "predictions_como = Effi_como.predict(test_generator_como)\n",
    "predicted_classes = (predictions_como > 0.5).astype(int)  \n",
    "\n",
    "true_classes = test_generator_como.classes\n",
    "class_labels = list(test_generator_como.class_indices.keys())\n",
    "conf_matrix = confusion_matrix(true_classes, predicted_classes)\n",
    "print(classification_report(true_classes, predicted_classes, target_names=class_labels))\n",
    "\n",
    "plt.figure(figsize=(8, 6))\n",
    "sns.heatmap(conf_matrix, annot=True, fmt='d', cmap='Blues', xticklabels=class_labels, yticklabels=class_labels)\n",
    "plt.xlabel('Predicted')\n",
    "plt.ylabel('True')\n",
    "plt.title('Confusion Matrix')\n",
    "plt.show()"
   ]
  },
  {
   "cell_type": "markdown",
   "id": "18dd0728-7cd2-49d3-83f4-cd9cd52ffc95",
   "metadata": {},
   "source": [
    "EfficientNetB3 - ComoFod_small_Dataset_Trainable_False"
   ]
  },
  {
   "cell_type": "code",
   "execution_count": null,
   "id": "aa6eb99f-80e7-4043-b228-7510b69de47a",
   "metadata": {},
   "outputs": [],
   "source": [
    "Effi_como_False = EfficientNetB3(\n",
    "    weights='imagenet',\n",
    "    include_top = False,\n",
    "    input_shape=image_size_como\n",
    ")\n",
    "Effi_como_False.trainable= False"
   ]
  },
  {
   "cell_type": "code",
   "execution_count": null,
   "id": "64fa2ca0-6653-4d9d-a569-4c1497f667e5",
   "metadata": {},
   "outputs": [],
   "source": [
    "Effi_como_f = tf.keras.models.Sequential()\n",
    "\n",
    "# Convolutional Layer from VGG16 True\n",
    "Effi_como_f.add(Effi_como_False)\n",
    "\n",
    "# Flattening\n",
    "Effi_como_f.add(tf.keras.layers.Flatten())\n",
    "\n",
    "# Full Connection\n",
    "Effi_como_f.add(tf.keras.layers.Dense(units=128, activation='relu'))\n",
    "\n",
    "# Output Layer\n",
    "Effi_como_f.add(tf.keras.layers.Dense(units=1, activation='sigmoid'))\n",
    "\n",
    "# Compiling the CNN\n",
    "Effi_como_f.compile(optimizer='adam', loss='binary_crossentropy', metrics=['accuracy'])\n",
    "\n",
    "# Summary of the model\n",
    "Effi_como_f.summary()"
   ]
  },
  {
   "cell_type": "code",
   "execution_count": null,
   "id": "47a146a4-b540-41b3-a8b0-097e1e1c237b",
   "metadata": {},
   "outputs": [],
   "source": [
    "# Model Resnet50 training on comofod\n",
    "\n",
    "Model_Effi_como_f=Effi_como_f.fit(train_generator_como, epochs=200, validation_data=validation_generator_como)"
   ]
  },
  {
   "cell_type": "code",
   "execution_count": null,
   "id": "d2feea36-998a-4102-bba3-10bf3d39689c",
   "metadata": {},
   "outputs": [],
   "source": [
    "#Effi_como_f.save('Effi_como_f.h5')"
   ]
  },
  {
   "cell_type": "code",
   "execution_count": null,
   "id": "750ec8b6-e3fe-40da-af66-9b7ceab490a3",
   "metadata": {},
   "outputs": [],
   "source": [
    "# Ploting graph of Loss and val_loss\n",
    "\n",
    "plt.figure(figsize=(10, 6))\n",
    "plt.plot(Model_Effi_como_f.history['loss'], label='Training Loss')\n",
    "plt.plot(Model_Effi_como_f.history['val_loss'], label='Validation Loss')\n",
    "plt.xlabel('Epochs')\n",
    "plt.ylabel('Loss')\n",
    "plt.title('Training and Validation Loss')\n",
    "plt.legend()\n",
    "plt.grid(True)\n",
    "plt.show()"
   ]
  },
  {
   "cell_type": "code",
   "execution_count": null,
   "id": "51c1f198-d01d-4c1a-a9c3-14f7af25d130",
   "metadata": {},
   "outputs": [],
   "source": [
    "test_loss_como_Effi_f, test_accuracy_como_Effi_f = Effi_como_f.evaluate(test_generator_como)\n",
    "print(f'Test Accuracy: {test_accuracy_como_Effi_f}')"
   ]
  },
  {
   "cell_type": "code",
   "execution_count": null,
   "id": "b223535f-d1ad-43a4-b940-7689f8935ebe",
   "metadata": {},
   "outputs": [],
   "source": [
    "test_generator_como.reset()\n",
    "predictions_como_f = Effi_como_f.predict(test_generator_como)\n",
    "predicted_classes_f = (predictions_como_f > 0.5).astype(int)  \n",
    "\n",
    "true_classes = test_generator_como.classes\n",
    "class_labels = list(test_generator_como.class_indices.keys())\n",
    "conf_matrix = confusion_matrix(true_classes, predicted_classes_f)\n",
    "print(classification_report(true_classes, predicted_classes_f, target_names=class_labels))\n",
    "\n",
    "plt.figure(figsize=(8, 6))\n",
    "sns.heatmap(conf_matrix, annot=True, fmt='d', cmap='Blues', xticklabels=class_labels, yticklabels=class_labels)\n",
    "plt.xlabel('Predicted')\n",
    "plt.ylabel('True')\n",
    "plt.title('Confusion Matrix')\n",
    "plt.show()"
   ]
  },
  {
   "cell_type": "code",
   "execution_count": 1,
   "id": "375fcdca-0a4a-452b-a855-3b0cbe1e437c",
   "metadata": {},
   "outputs": [
    {
     "name": "stdout",
     "output_type": "stream",
     "text": [
      "EfficientnetB3 Comofod True/False completed\n"
     ]
    }
   ],
   "source": [
    "print(\"EfficientnetB3 Comofod True/False completed\")"
   ]
  },
  {
   "cell_type": "markdown",
   "id": "32ac0e69-9f79-438a-af5d-a366b104337b",
   "metadata": {},
   "source": [
    "EfficientNetB3 - Realistic tempering_Dataset_Trainable_True"
   ]
  },
  {
   "cell_type": "code",
   "execution_count": null,
   "id": "9983d6b8-1573-4136-910c-bbebad22ac6a",
   "metadata": {},
   "outputs": [],
   "source": [
    "Effi_rt_True = EfficientNetB3(\n",
    "    weights='imagenet',\n",
    "    include_top = False,\n",
    "    input_shape=image_size_rt\n",
    ")\n",
    "Effi_rt_True.trainable= True"
   ]
  },
  {
   "cell_type": "code",
   "execution_count": null,
   "id": "17623138-4245-44c7-a8c6-ad30b17bf318",
   "metadata": {},
   "outputs": [],
   "source": [
    "Effi_rt = tf.keras.models.Sequential()\n",
    "\n",
    "# Convolutional Layer from VGG16 True\n",
    "Effi_rt.add(Effi_rt_True)\n",
    "\n",
    "# Flattening\n",
    "Effi_rt.add(tf.keras.layers.Flatten())\n",
    "\n",
    "# Full Connection\n",
    "Effi_rt.add(tf.keras.layers.Dense(units=128, activation='relu'))\n",
    "\n",
    "# Output Layer\n",
    "Effi_rt.add(tf.keras.layers.Dense(units=1, activation='sigmoid'))\n",
    "\n",
    "# Compiling the CNN\n",
    "Effi_rt.compile(optimizer='adam', loss='binary_crossentropy', metrics=['accuracy'])\n",
    "\n",
    "# Summary of the model\n",
    "Effi_rt.summary()"
   ]
  },
  {
   "cell_type": "code",
   "execution_count": null,
   "id": "888d353b-ccb9-4b99-9551-132dcaf5aac4",
   "metadata": {},
   "outputs": [],
   "source": [
    "# Model ResNet training on realistic tempering\n",
    "\n",
    "Model_Effi_rt=Effi_rt.fit(train_generator_rt, epochs=200, validation_data=validation_generator_rt)"
   ]
  },
  {
   "cell_type": "code",
   "execution_count": null,
   "id": "83810450-3c57-4c7c-993d-b7e24ba24f96",
   "metadata": {},
   "outputs": [],
   "source": [
    "#Effi_rt.save('Effi_rt.h5')"
   ]
  },
  {
   "cell_type": "code",
   "execution_count": null,
   "id": "2b343efb-7b3c-4d3d-8cae-df7e25082c70",
   "metadata": {},
   "outputs": [],
   "source": [
    "# Ploting graph of Loss and val_loss\n",
    "\n",
    "plt.figure(figsize=(10, 6))\n",
    "plt.plot(Model_Effi_rt.history['loss'], label='Training Loss')\n",
    "plt.plot(Model_Effi_rt.history['val_loss'], label='Validation Loss')\n",
    "plt.xlabel('Epochs')\n",
    "plt.ylabel('Loss')\n",
    "plt.title('Training and Validation Loss')\n",
    "plt.legend()\n",
    "plt.grid(True)\n",
    "plt.show()"
   ]
  },
  {
   "cell_type": "code",
   "execution_count": null,
   "id": "7fdba684-a3e4-4b08-b5e2-b5578524c22d",
   "metadata": {},
   "outputs": [],
   "source": [
    "test_loss_rt_Effi, test_accuracy_rt_Effi = Effi_rt.evaluate(test_generator_rt)\n",
    "print(f'Test Accuracy: {test_accuracy_rt_Effi}')"
   ]
  },
  {
   "cell_type": "code",
   "execution_count": null,
   "id": "289a5905-23ad-4b4c-a16e-160d9f414034",
   "metadata": {},
   "outputs": [],
   "source": [
    "test_generator_rt.reset()\n",
    "predictions_rt = Effi_rt.predict(test_generator_rt)\n",
    "predicted_classes = (predictions_rt > 0.5).astype(int)  \n",
    "\n",
    "true_classes = test_generator_rt.classes\n",
    "class_labels = list(test_generator_rt.class_indices.keys())\n",
    "conf_matrix = confusion_matrix(true_classes, predicted_classes)\n",
    "print(classification_report(true_classes, predicted_classes, target_names=class_labels))\n",
    "\n",
    "plt.figure(figsize=(8, 6))\n",
    "sns.heatmap(conf_matrix, annot=True, fmt='d', cmap='Blues', xticklabels=class_labels, yticklabels=class_labels)\n",
    "plt.xlabel('Predicted')\n",
    "plt.ylabel('True')\n",
    "plt.title('Confusion Matrix')\n",
    "plt.show()"
   ]
  },
  {
   "cell_type": "markdown",
   "id": "9e284f42-0c21-4f80-b5bf-ab3896ccf04d",
   "metadata": {},
   "source": [
    "EfficientNetB3 - Realistic_tempering_Dataset_Trainable_False"
   ]
  },
  {
   "cell_type": "code",
   "execution_count": null,
   "id": "d1319963-30c1-4ce1-90ef-c9581fb815e1",
   "metadata": {},
   "outputs": [],
   "source": [
    "Effi_rt_False = EfficientNetB3(\n",
    "    weights='imagenet',\n",
    "    include_top = False,\n",
    "    input_shape=image_size_rt\n",
    ")\n",
    "Effi_rt_False.trainable= False"
   ]
  },
  {
   "cell_type": "code",
   "execution_count": null,
   "id": "cbbf8903-b564-482c-99d7-81686b4c3ccc",
   "metadata": {},
   "outputs": [],
   "source": [
    "Effi_rt_f = tf.keras.models.Sequential()\n",
    "\n",
    "# Convolutional Layer from VGG16 True\n",
    "Effi_rt_f.add(Effi_rt_False)\n",
    "\n",
    "# Flattening\n",
    "Effi_rt_f.add(tf.keras.layers.Flatten())\n",
    "\n",
    "# Full Connection\n",
    "Effi_rt_f.add(tf.keras.layers.Dense(units=128, activation='relu'))\n",
    "\n",
    "# Output Layer\n",
    "Effi_rt_f.add(tf.keras.layers.Dense(units=1, activation='sigmoid'))\n",
    "\n",
    "# Compiling the CNN\n",
    "Effi_rt_f.compile(optimizer='adam', loss='binary_crossentropy', metrics=['accuracy'])\n",
    "\n",
    "# Summary of the model\n",
    "Effi_rt_f.summary()"
   ]
  },
  {
   "cell_type": "code",
   "execution_count": null,
   "id": "e36c5ba4-cc35-4ece-ac96-0d0d11bc4dbd",
   "metadata": {},
   "outputs": [],
   "source": [
    "Model_Effi_rt_f=Effi_rt_f.fit(train_generator_rt, epochs=200, validation_data=validation_generator_rt)"
   ]
  },
  {
   "cell_type": "code",
   "execution_count": null,
   "id": "349dcbd7-51f7-430c-bfbf-96263836b619",
   "metadata": {},
   "outputs": [],
   "source": [
    "#Effi_rt_f.save('Effi_rt_f.h5')"
   ]
  },
  {
   "cell_type": "code",
   "execution_count": null,
   "id": "545b2f6d-4528-4b32-aba7-0cc483a37f4a",
   "metadata": {},
   "outputs": [],
   "source": [
    "# Ploting graph of Loss and val_loss\n",
    "\n",
    "plt.figure(figsize=(10, 6))\n",
    "plt.plot(Model_Effi_rt_f.history['loss'], label='Training Loss')\n",
    "plt.plot(Model_Effi_rt_f.history['val_loss'], label='Validation Loss')\n",
    "plt.xlabel('Epochs')\n",
    "plt.ylabel('Loss')\n",
    "plt.title('Training and Validation Loss')\n",
    "plt.legend()\n",
    "plt.grid(True)\n",
    "plt.show()"
   ]
  },
  {
   "cell_type": "code",
   "execution_count": null,
   "id": "40dad509-8e5f-4152-b42e-2879fe494cfa",
   "metadata": {},
   "outputs": [],
   "source": [
    "test_loss_rt_Effi_f, test_accuracy_rt_Effi_f = Effi_rt_f.evaluate(test_generator_rt)\n",
    "print(f'Test Accuracy: {test_accuracy_rt_Effi_f}')"
   ]
  },
  {
   "cell_type": "code",
   "execution_count": null,
   "id": "e223cfb4-7368-4760-a006-46abd472cf35",
   "metadata": {},
   "outputs": [],
   "source": [
    "test_generator_rt.reset()\n",
    "predictions_rt_f = Effi_rt_f.predict(test_generator_rt)\n",
    "predicted_classes_f = (predictions_rt_f > 0.5).astype(int)  \n",
    "\n",
    "true_classes = test_generator_rt.classes\n",
    "class_labels = list(test_generator_rt.class_indices.keys())\n",
    "conf_matrix = confusion_matrix(true_classes, predicted_classes_f)\n",
    "print(classification_report(true_classes, predicted_classes_f, target_names=class_labels))\n",
    "\n",
    "plt.figure(figsize=(8, 6))\n",
    "sns.heatmap(conf_matrix, annot=True, fmt='d', cmap='Blues', xticklabels=class_labels, yticklabels=class_labels)\n",
    "plt.xlabel('Predicted')\n",
    "plt.ylabel('True')\n",
    "plt.title('Confusion Matrix')\n",
    "plt.show()"
   ]
  },
  {
   "cell_type": "code",
   "execution_count": null,
   "id": "76de0956-cdc5-4641-9d99-3685817cb607",
   "metadata": {},
   "outputs": [],
   "source": [
    "print(\"EfficientNetB3 Realistic tempering True/False completed\")"
   ]
  },
  {
   "cell_type": "code",
   "execution_count": null,
   "id": "4b26628f-c027-43e3-acde-a1326923d0f3",
   "metadata": {},
   "outputs": [],
   "source": []
  }
 ],
 "metadata": {
  "kernelspec": {
   "display_name": "Python 3 (ipykernel)",
   "language": "python",
   "name": "python3"
  },
  "language_info": {
   "codemirror_mode": {
    "name": "ipython",
    "version": 3
   },
   "file_extension": ".py",
   "mimetype": "text/x-python",
   "name": "python",
   "nbconvert_exporter": "python",
   "pygments_lexer": "ipython3",
   "version": "3.11.5"
  }
 },
 "nbformat": 4,
 "nbformat_minor": 5
}
