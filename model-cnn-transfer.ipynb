{
 "cells": [
  {
   "cell_type": "code",
   "execution_count": null,
   "id": "1a38bef1-d763-4f35-8efe-9aa4da80c104",
   "metadata": {},
   "outputs": [],
   "source": [
    "from keras.applications.vgg16 import VGG16\n",
    "import tensorflow as tf\n",
    "from tensorflow.keras.preprocessing.image import ImageDataGenerator\n",
    "import numpy as np\n",
    "import pandas as pd\n",
    "from tensorflow import keras"
   ]
  },
  {
   "cell_type": "code",
   "execution_count": null,
   "id": "2b972b8d-d3a2-43b8-81f4-747ea6c522d8",
   "metadata": {},
   "outputs": [],
   "source": [
    "image_size=(256,384,3)"
   ]
  },
  {
   "cell_type": "code",
   "execution_count": null,
   "id": "d29bdb1e-7f51-4362-bc12-22f126909c64",
   "metadata": {},
   "outputs": [],
   "source": [
    "conv_base = VGG16(\n",
    "    weights='imagenet',\n",
    "    include_top = False,\n",
    "    input_shape=image_size\n",
    ")\n",
    "conv_base.trainable= False"
   ]
  },
  {
   "cell_type": "code",
   "execution_count": null,
   "id": "16fc99ec-9d2e-427b-a242-1a8c92905651",
   "metadata": {},
   "outputs": [],
   "source": [
    "from tensorflow.keras.layers import Flatten\n",
    "shapy=conv_base.output"
   ]
  },
  {
   "cell_type": "code",
   "execution_count": null,
   "id": "8b478223-97ff-4ed7-970e-42535e591c6b",
   "metadata": {},
   "outputs": [],
   "source": [
    "# Initialize the CNN\n",
    "cnn = tf.keras.models.Sequential()\n",
    "cnn.add(conv_base)\n",
    "\n",
    "# Step 1 - Convolution\n",
    "cnn.add(tf.keras.layers.Conv2D(filters=32, kernel_size=3, activation='relu', input_shape=(1,shapy)))\n",
    "\n",
    "# Step 3 - Flattening\n",
    "cnn.add(tf.keras.layers.Flatten())\n",
    "\n",
    "# Step 4 - Full Connection\n",
    "cnn.add(tf.keras.layers.Dense(units=128, activation='relu'))\n",
    "\n",
    "# Step 5 - Output Layer\n",
    "cnn.add(tf.keras.layers.Dense(units=1, activation='sigmoid'))\n",
    "\n",
    "# Compiling the CNN\n",
    "cnn.compile(optimizer='adam', loss='binary_crossentropy', metrics=['accuracy'])\n",
    "\n",
    "# Summary of the model\n",
    "cnn.summary()"
   ]
  },
  {
   "cell_type": "code",
   "execution_count": null,
   "id": "bdf531f6-10ee-4a7d-a207-7591830ac74d",
   "metadata": {},
   "outputs": [],
   "source": [
    "import zipfile\n",
    "zip_ref = zipfile.ZipFile('/content/drive/MyDrive/casia2.0_train.zip', 'r')\n",
    "zip_ref.extractall('/content')\n",
    "zip_ref.close()"
   ]
  },
  {
   "cell_type": "code",
   "execution_count": null,
   "id": "ac4f9d60-427a-4f2c-926c-7d0a38003437",
   "metadata": {},
   "outputs": [],
   "source": [
    "zip_ref = zipfile.ZipFile('/content/drive/MyDrive/dataset233.zip', 'r')\n",
    "zip_ref.extractall('/content')\n",
    "zip_ref.close()"
   ]
  },
  {
   "cell_type": "code",
   "execution_count": null,
   "id": "4e9d07f5-77c8-49bb-a6aa-ca66530e4864",
   "metadata": {},
   "outputs": [],
   "source": [
    "batch_size = 32\n",
    "train_dir = '/content/casia2.0_train'\n",
    "train_datagen = ImageDataGenerator(\n",
    "        rescale=1./255)\n",
    "\n",
    "test_datagen = ImageDataGenerator(rescale=1./255)\n",
    "\n",
    "train_generator = train_datagen.flow_from_directory(\n",
    "        train_dir,\n",
    "        target_size=(256,384),\n",
    "        batch_size=batch_size,\n",
    "        class_mode='binary')\n",
    "\n",
    "validation_generator = test_datagen.flow_from_directory(\n",
    "        '/content/dataset233',\n",
    "        target_size=(256,384),\n",
    "        batch_size=batch_size,\n",
    "        class_mode='binary')"
   ]
  },
  {
   "cell_type": "code",
   "execution_count": null,
   "id": "7ce74a74-7d96-4cd2-8cdd-1e86ef6ff357",
   "metadata": {},
   "outputs": [],
   "source": [
    "cnn.fit(train_generator, epochs=10, validation_data=validation_generator)"
   ]
  }
 ],
 "metadata": {
  "kernelspec": {
   "display_name": "Python 3 (ipykernel)",
   "language": "python",
   "name": "python3"
  },
  "language_info": {
   "codemirror_mode": {
    "name": "ipython",
    "version": 3
   },
   "file_extension": ".py",
   "mimetype": "text/x-python",
   "name": "python",
   "nbconvert_exporter": "python",
   "pygments_lexer": "ipython3",
   "version": "3.11.5"
  }
 },
 "nbformat": 4,
 "nbformat_minor": 5
}
